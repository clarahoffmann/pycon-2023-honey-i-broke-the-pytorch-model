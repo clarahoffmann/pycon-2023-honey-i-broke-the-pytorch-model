{
 "cells": [
  {
   "cell_type": "code",
   "execution_count": 41,
   "metadata": {},
   "outputs": [],
   "source": [
    "import matplotlib.pyplot as plt\n",
    "from data_generation import MEANS, VARIANCES, KEY, generate_mv_data, NUM_SAMPLES\n",
    "from plot_utils import plot_scatter, plot_circles, plot_metrics\n",
    "from train_utils import SimpleDnn, Encoder, Linear_Encoder, create_loaders\n",
    "import torch\n",
    "from torch.utils.data import TensorDataset\n",
    "import numpy as np\n",
    "import pytorch_lightning as pl\n",
    "from pytorch_lightning.loggers import CSVLogger\n",
    "import torch.nn.functional as F\n",
    "import pandas as pd\n",
    "from sklearn.datasets import make_circles\n",
    "import matplotlib.image as image\n",
    "from matplotlib.offsetbox import (OffsetImage, AnnotationBbox)\n",
    "import plotly.express as px\n",
    "from csv_utils import format_csv\n",
    "from pathlib import Path\n",
    "import weightwatcher as ww\n",
    "\n",
    "BATCH_SIZE = 32"
   ]
  },
  {
   "attachments": {},
   "cell_type": "markdown",
   "metadata": {},
   "source": [
    "# Linear Data Example\n",
    "\n",
    "1. Generate linear data from three Gaussians"
   ]
  },
  {
   "cell_type": "code",
   "execution_count": 2,
   "metadata": {},
   "outputs": [
    {
     "name": "stderr",
     "output_type": "stream",
     "text": [
      "2023-04-03 15:27:27.888 | INFO     | train_utils:create_loaders:44 - Creating dataloaders with 80/20train/test split 🔪\n",
      "2023-04-03 15:27:27.889 | INFO     | train_utils:create_loaders:70 - Successfully created train and validation loader 🤗\n"
     ]
    }
   ],
   "source": [
    "# generate data\n",
    "data, labels = generate_mv_data(KEY, MEANS, VARIANCES, NUM_SAMPLES, 3)\n",
    "\n",
    "# format labels and set up dataloaders\n",
    "labels_one_hot = F.one_hot(torch.Tensor(np.hstack((np.array(labels)))).to(torch.int64), num_classes=3).float() \n",
    "data_linear = TensorDataset(\n",
    "                torch.Tensor(np.vstack((np.array(data)))), labels_one_hot\n",
    "            )\n",
    "train_loader_linear, val_loader_linear = create_loaders(data = data_linear, ratio = 0.8, num_workers = 0, shuffle_train = True, shuffle_val = False, batch_size = 32)"
   ]
  },
  {
   "attachments": {},
   "cell_type": "markdown",
   "metadata": {},
   "source": [
    "### 1. Train 'unbroken' model (simple feed-forward network)"
   ]
  },
  {
   "cell_type": "code",
   "execution_count": 10,
   "metadata": {},
   "outputs": [
    {
     "name": "stderr",
     "output_type": "stream",
     "text": [
      "GPU available: False, used: False\n",
      "TPU available: False, using: 0 TPU cores\n",
      "IPU available: False, using: 0 IPUs\n",
      "HPU available: False, using: 0 HPUs\n",
      "/Users/clarahoffmann/Documents/code/pycon_2023_honey_i_broke_the_pytorch_model/.venv/lib/python3.9/site-packages/pytorch_lightning/callbacks/model_checkpoint.py:612: UserWarning: Checkpoint directory metrics_csv/linear/version_0/checkpoints exists and is not empty.\n",
      "  rank_zero_warn(f\"Checkpoint directory {dirpath} exists and is not empty.\")\n",
      "\n",
      "  | Name    | Type          | Params\n",
      "------------------------------------------\n",
      "0 | encoder | Encoder       | 63    \n",
      "1 | f1      | BinaryF1Score | 0     \n",
      "------------------------------------------\n",
      "63        Trainable params\n",
      "0         Non-trainable params\n",
      "63        Total params\n",
      "0.000     Total estimated model params size (MB)\n",
      "/Users/clarahoffmann/Documents/code/pycon_2023_honey_i_broke_the_pytorch_model/.venv/lib/python3.9/site-packages/lightning_fabric/loggers/csv_logs.py:188: UserWarning: Experiment logs directory metrics_csv/linear/version_0 exists and is not empty. Previous log files in this directory will be deleted when the new ones are saved!\n",
      "  rank_zero_warn(\n"
     ]
    },
    {
     "name": "stdout",
     "output_type": "stream",
     "text": [
      "Epoch 49: 100%|██████████| 38/38 [00:00<00:00, 177.47it/s, v_num=0]         "
     ]
    },
    {
     "name": "stderr",
     "output_type": "stream",
     "text": [
      "`Trainer.fit` stopped: `max_epochs=50` reached.\n"
     ]
    },
    {
     "name": "stdout",
     "output_type": "stream",
     "text": [
      "Epoch 49: 100%|██████████| 38/38 [00:00<00:00, 173.16it/s, v_num=0]\n"
     ]
    }
   ],
   "source": [
    "# define model and logger\n",
    "simple_dnn = SimpleDnn(Encoder(input_dim = 2, output_dim = 3), task_type = 'classification')\n",
    "csv_logger = CSVLogger(save_dir='metrics_csv', name = 'linear')\n",
    "# train model on linear data\n",
    "trainer = pl.Trainer(logger=csv_logger, max_epochs = 50, log_every_n_steps=20)\n",
    "trainer.fit(model=simple_dnn, train_dataloaders = train_loader_linear, val_dataloaders = val_loader_linear)"
   ]
  },
  {
   "cell_type": "code",
   "execution_count": 11,
   "metadata": {},
   "outputs": [],
   "source": [
    "# format, since csv logger captures metrics on step basis\n",
    "format_csv('metrics_csv/linear/version_0/metrics.csv', ['train_loss', 'val_loss'], Path('reformatted_metrics/linear_data.csv'))"
   ]
  },
  {
   "attachments": {},
   "cell_type": "markdown",
   "metadata": {},
   "source": [
    "### 2. Broken model: No activation functions"
   ]
  },
  {
   "cell_type": "code",
   "execution_count": 43,
   "metadata": {},
   "outputs": [
    {
     "name": "stderr",
     "output_type": "stream",
     "text": [
      "GPU available: False, used: False\n",
      "TPU available: False, using: 0 TPU cores\n",
      "IPU available: False, using: 0 IPUs\n",
      "HPU available: False, using: 0 HPUs\n"
     ]
    },
    {
     "ename": "NameError",
     "evalue": "name 'train_loader_linear' is not defined",
     "output_type": "error",
     "traceback": [
      "\u001b[0;31m---------------------------------------------------------------------------\u001b[0m",
      "\u001b[0;31mNameError\u001b[0m                                 Traceback (most recent call last)",
      "Cell \u001b[0;32mIn[43], line 6\u001b[0m\n\u001b[1;32m      4\u001b[0m \u001b[39m# train model on linear data\u001b[39;00m\n\u001b[1;32m      5\u001b[0m trainer \u001b[39m=\u001b[39m pl\u001b[39m.\u001b[39mTrainer(logger\u001b[39m=\u001b[39mcsv_logger, max_epochs \u001b[39m=\u001b[39m \u001b[39m50\u001b[39m, log_every_n_steps\u001b[39m=\u001b[39m\u001b[39m20\u001b[39m)\n\u001b[0;32m----> 6\u001b[0m trainer\u001b[39m.\u001b[39mfit(model\u001b[39m=\u001b[39msimple_dnn_linear, train_dataloaders \u001b[39m=\u001b[39m train_loader_linear, val_dataloaders \u001b[39m=\u001b[39m val_loader_linear)\n",
      "\u001b[0;31mNameError\u001b[0m: name 'train_loader_linear' is not defined"
     ]
    }
   ],
   "source": [
    "# DNN without ReLUs\n",
    "simple_dnn_linear = SimpleDnn(Linear_Encoder(input_dim = 2, output_dim = 3), task_type = 'classification')\n",
    "csv_logger = CSVLogger(save_dir='metrics_csv', name = 'linear_no_relu')\n",
    "# train model on linear data\n",
    "trainer = pl.Trainer(logger=csv_logger, max_epochs = 50, log_every_n_steps=20)\n",
    "trainer.fit(model=simple_dnn_linear, train_dataloaders = train_loader_linear, val_dataloaders = val_loader_linear)"
   ]
  },
  {
   "cell_type": "code",
   "execution_count": 13,
   "metadata": {},
   "outputs": [],
   "source": [
    "# format, since csv logger captures metrics on step basis\n",
    "format_csv('metrics_csv/linear_no_relu/version_0/metrics.csv', ['train_loss', 'val_loss'], Path('reformatted_metrics/linear_data_no_relu.csv'))"
   ]
  },
  {
   "attachments": {},
   "cell_type": "markdown",
   "metadata": {},
   "source": [
    "# Nonlinear Data Example"
   ]
  },
  {
   "cell_type": "code",
   "execution_count": 44,
   "metadata": {},
   "outputs": [
    {
     "name": "stderr",
     "output_type": "stream",
     "text": [
      "2023-04-08 15:56:39.352 | INFO     | train_utils:create_loaders:58 - Creating dataloaders with 80/20train/test split 🔪\n",
      "2023-04-08 15:56:39.370 | INFO     | train_utils:create_loaders:84 - Successfully created train and validation loader 🤗\n"
     ]
    }
   ],
   "source": [
    "data_circles, label_circles = make_circles(n_samples=NUM_SAMPLES, factor=0.5, noise=0.05)\n",
    "# concentric circles\n",
    "data_tensor_circles = TensorDataset(\n",
    "                torch.Tensor(data_circles), F.one_hot(torch.Tensor(label_circles).to(torch.int64), num_classes=2).float() \n",
    "            )\n",
    "train_loader_circles, val_loader_circles = create_loaders(data = data_tensor_circles, ratio = 0.8,  batch_size = 32, num_workers = 0,\n",
    "                                                        shuffle_train = True, shuffle_val = False)"
   ]
  },
  {
   "attachments": {},
   "cell_type": "markdown",
   "metadata": {},
   "source": [
    "### 1. Train 'unbroken' model (simple feed-forward network)"
   ]
  },
  {
   "cell_type": "code",
   "execution_count": 16,
   "metadata": {},
   "outputs": [
    {
     "name": "stderr",
     "output_type": "stream",
     "text": [
      "GPU available: False, used: False\n",
      "TPU available: False, using: 0 TPU cores\n",
      "IPU available: False, using: 0 IPUs\n",
      "HPU available: False, using: 0 HPUs\n",
      "Missing logger folder: metrics_csv/circles\n",
      "\n",
      "  | Name    | Type          | Params\n",
      "------------------------------------------\n",
      "0 | encoder | Encoder       | 52    \n",
      "1 | f1      | BinaryF1Score | 0     \n",
      "------------------------------------------\n",
      "52        Trainable params\n",
      "0         Non-trainable params\n",
      "52        Total params\n",
      "0.000     Total estimated model params size (MB)\n"
     ]
    },
    {
     "name": "stdout",
     "output_type": "stream",
     "text": [
      "                                                                            \r"
     ]
    },
    {
     "name": "stderr",
     "output_type": "stream",
     "text": [
      "/Users/clarahoffmann/Documents/code/pycon_2023_honey_i_broke_the_pytorch_model/.venv/lib/python3.9/site-packages/pytorch_lightning/trainer/connectors/data_connector.py:430: PossibleUserWarning: The dataloader, val_dataloader, does not have many workers which may be a bottleneck. Consider increasing the value of the `num_workers` argument` (try 8 which is the number of cpus on this machine) in the `DataLoader` init to improve performance.\n",
      "  rank_zero_warn(\n",
      "/Users/clarahoffmann/Documents/code/pycon_2023_honey_i_broke_the_pytorch_model/.venv/lib/python3.9/site-packages/pytorch_lightning/trainer/connectors/data_connector.py:430: PossibleUserWarning: The dataloader, train_dataloader, does not have many workers which may be a bottleneck. Consider increasing the value of the `num_workers` argument` (try 8 which is the number of cpus on this machine) in the `DataLoader` init to improve performance.\n",
      "  rank_zero_warn(\n",
      "/Users/clarahoffmann/Documents/code/pycon_2023_honey_i_broke_the_pytorch_model/.venv/lib/python3.9/site-packages/pytorch_lightning/loops/fit_loop.py:280: PossibleUserWarning: The number of training batches (13) is smaller than the logging interval Trainer(log_every_n_steps=50). Set a lower value for log_every_n_steps if you want to see logs for the training epoch.\n",
      "  rank_zero_warn(\n"
     ]
    },
    {
     "name": "stdout",
     "output_type": "stream",
     "text": [
      "Epoch 49: 100%|██████████| 13/13 [00:00<00:00, 171.54it/s, v_num=0]"
     ]
    },
    {
     "name": "stderr",
     "output_type": "stream",
     "text": [
      "`Trainer.fit` stopped: `max_epochs=50` reached.\n"
     ]
    },
    {
     "name": "stdout",
     "output_type": "stream",
     "text": [
      "Epoch 49: 100%|██████████| 13/13 [00:00<00:00, 161.16it/s, v_num=0]\n"
     ]
    }
   ],
   "source": [
    "simple_dnn = SimpleDnn(Encoder(input_dim = 2, output_dim = 2), task_type = 'classification')\n",
    "csv_logger = CSVLogger(save_dir='metrics_csv', name = 'circles')\n",
    "# train model on nonlinear data\n",
    "trainer = pl.Trainer(logger=csv_logger, max_epochs = 50)\n",
    "trainer.fit(model=simple_dnn, train_dataloaders = train_loader_circles, val_dataloaders = val_loader_circles)\n",
    "format_csv('metrics_csv/circles/version_0/metrics.csv', ['train_loss', 'val_loss'], Path('reformatted_metrics/circle_data.csv'))"
   ]
  },
  {
   "attachments": {},
   "cell_type": "markdown",
   "metadata": {},
   "source": [
    "### 2. Broken model: No activation functions"
   ]
  },
  {
   "cell_type": "code",
   "execution_count": 18,
   "metadata": {},
   "outputs": [
    {
     "name": "stderr",
     "output_type": "stream",
     "text": [
      "GPU available: False, used: False\n",
      "TPU available: False, using: 0 TPU cores\n",
      "IPU available: False, using: 0 IPUs\n",
      "HPU available: False, using: 0 HPUs\n",
      "Missing logger folder: metrics_csv/circles_no_relu\n",
      "\n",
      "  | Name    | Type           | Params\n",
      "-------------------------------------------\n",
      "0 | encoder | Linear_Encoder | 52    \n",
      "1 | f1      | BinaryF1Score  | 0     \n",
      "-------------------------------------------\n",
      "52        Trainable params\n",
      "0         Non-trainable params\n",
      "52        Total params\n",
      "0.000     Total estimated model params size (MB)\n"
     ]
    },
    {
     "name": "stdout",
     "output_type": "stream",
     "text": [
      "                                                                            \r"
     ]
    },
    {
     "name": "stderr",
     "output_type": "stream",
     "text": [
      "/Users/clarahoffmann/Documents/code/pycon_2023_honey_i_broke_the_pytorch_model/.venv/lib/python3.9/site-packages/pytorch_lightning/trainer/connectors/data_connector.py:430: PossibleUserWarning: The dataloader, val_dataloader, does not have many workers which may be a bottleneck. Consider increasing the value of the `num_workers` argument` (try 8 which is the number of cpus on this machine) in the `DataLoader` init to improve performance.\n",
      "  rank_zero_warn(\n",
      "/Users/clarahoffmann/Documents/code/pycon_2023_honey_i_broke_the_pytorch_model/.venv/lib/python3.9/site-packages/pytorch_lightning/trainer/connectors/data_connector.py:430: PossibleUserWarning: The dataloader, train_dataloader, does not have many workers which may be a bottleneck. Consider increasing the value of the `num_workers` argument` (try 8 which is the number of cpus on this machine) in the `DataLoader` init to improve performance.\n",
      "  rank_zero_warn(\n",
      "/Users/clarahoffmann/Documents/code/pycon_2023_honey_i_broke_the_pytorch_model/.venv/lib/python3.9/site-packages/pytorch_lightning/loops/fit_loop.py:280: PossibleUserWarning: The number of training batches (13) is smaller than the logging interval Trainer(log_every_n_steps=50). Set a lower value for log_every_n_steps if you want to see logs for the training epoch.\n",
      "  rank_zero_warn(\n"
     ]
    },
    {
     "name": "stdout",
     "output_type": "stream",
     "text": [
      "Epoch 49: 100%|██████████| 13/13 [00:00<00:00, 142.19it/s, v_num=0]"
     ]
    },
    {
     "name": "stderr",
     "output_type": "stream",
     "text": [
      "`Trainer.fit` stopped: `max_epochs=50` reached.\n"
     ]
    },
    {
     "name": "stdout",
     "output_type": "stream",
     "text": [
      "Epoch 49: 100%|██████████| 13/13 [00:00<00:00, 132.34it/s, v_num=0]\n"
     ]
    }
   ],
   "source": [
    "# DNN without ReLUs\n",
    "simple_dnn_linear = SimpleDnn(Linear_Encoder(input_dim = 2, output_dim = 2), task_type = 'classification')\n",
    "# train model on nonlinear data\n",
    "csv_logger = CSVLogger(save_dir='metrics_csv', name = 'circles_no_relu')\n",
    "trainer = pl.Trainer(logger=csv_logger, max_epochs = 50)\n",
    "trainer.fit(model=simple_dnn_linear, train_dataloaders = train_loader_circles, val_dataloaders = val_loader_circles)\n",
    "format_csv('metrics_csv/circles_no_relu/version_0/metrics.csv', ['train_loss', 'val_loss'], Path('reformatted_metrics/circle_data_no_relu.csv'))"
   ]
  },
  {
   "attachments": {},
   "cell_type": "markdown",
   "metadata": {},
   "source": [
    "### 3. Broken model: Frozen weights"
   ]
  },
  {
   "cell_type": "code",
   "execution_count": 148,
   "metadata": {},
   "outputs": [
    {
     "name": "stderr",
     "output_type": "stream",
     "text": [
      "GPU available: False, used: False\n",
      "TPU available: False, using: 0 TPU cores\n",
      "IPU available: False, using: 0 IPUs\n",
      "HPU available: False, using: 0 HPUs\n",
      "\n",
      "  | Name    | Type          | Params\n",
      "------------------------------------------\n",
      "0 | encoder | Encoder       | 52    \n",
      "1 | f1      | BinaryF1Score | 0     \n",
      "------------------------------------------\n",
      "52        Trainable params\n",
      "0         Non-trainable params\n",
      "52        Total params\n",
      "0.000     Total estimated model params size (MB)\n"
     ]
    },
    {
     "name": "stdout",
     "output_type": "stream",
     "text": [
      "Epoch 49: 100%|██████████| 13/13 [00:00<00:00, 112.61it/s, v_num=0]         "
     ]
    },
    {
     "name": "stderr",
     "output_type": "stream",
     "text": [
      "`Trainer.fit` stopped: `max_epochs=50` reached.\n"
     ]
    },
    {
     "name": "stdout",
     "output_type": "stream",
     "text": [
      "Epoch 49: 100%|██████████| 13/13 [00:00<00:00, 106.09it/s, v_num=0]\n"
     ]
    }
   ],
   "source": [
    "simple_dnn_frozen_weights = SimpleDnn(Encoder(input_dim = 2, output_dim = 2), task_type = 'classification')\n",
    "\n",
    "num_params = len([param for param in simple_dnn.parameters()])\n",
    "for i, param in zip(range(num_params), simple_dnn.parameters()):\n",
    "    if i in [num_params-1, num_params -2] :\n",
    "        param.requires_grad = False\n",
    "\n",
    "csv_logger = CSVLogger(save_dir='metrics_csv', name = 'circles_frozen')\n",
    "# train model on nonlinear data\n",
    "trainer = pl.Trainer(logger=csv_logger, max_epochs = 50)\n",
    "trainer.fit(model=simple_dnn_frozen_weights, train_dataloaders = train_loader_circles, val_dataloaders = val_loader_circles)\n",
    "format_csv('metrics_csv/circles_frozen/version_0/metrics.csv', ['train_loss', 'val_loss'], Path('reformatted_metrics/circle_data_frozen.csv'))"
   ]
  },
  {
   "attachments": {},
   "cell_type": "markdown",
   "metadata": {},
   "source": [
    "### 4. Broken model: Frozen Bias"
   ]
  },
  {
   "cell_type": "code",
   "execution_count": 7,
   "metadata": {},
   "outputs": [
    {
     "name": "stderr",
     "output_type": "stream",
     "text": [
      "GPU available: False, used: False\n",
      "TPU available: False, using: 0 TPU cores\n",
      "IPU available: False, using: 0 IPUs\n",
      "HPU available: False, using: 0 HPUs\n",
      "/Users/clarahoffmann/Documents/code/pycon_2023_honey_i_broke_the_pytorch_model/.venv/lib/python3.9/site-packages/pytorch_lightning/callbacks/model_checkpoint.py:612: UserWarning: Checkpoint directory metrics_csv/circles_frozen_bias/version_0/checkpoints exists and is not empty.\n",
      "  rank_zero_warn(f\"Checkpoint directory {dirpath} exists and is not empty.\")\n",
      "\n",
      "  | Name    | Type          | Params\n",
      "------------------------------------------\n",
      "0 | encoder | Encoder       | 52    \n",
      "1 | f1      | BinaryF1Score | 0     \n",
      "------------------------------------------\n",
      "50        Trainable params\n",
      "2         Non-trainable params\n",
      "52        Total params\n",
      "0.000     Total estimated model params size (MB)\n",
      "/Users/clarahoffmann/Documents/code/pycon_2023_honey_i_broke_the_pytorch_model/.venv/lib/python3.9/site-packages/lightning_fabric/loggers/csv_logs.py:188: UserWarning: Experiment logs directory metrics_csv/circles_frozen_bias/version_0 exists and is not empty. Previous log files in this directory will be deleted when the new ones are saved!\n",
      "  rank_zero_warn(\n"
     ]
    },
    {
     "name": "stdout",
     "output_type": "stream",
     "text": [
      "                                                                            "
     ]
    },
    {
     "name": "stderr",
     "output_type": "stream",
     "text": [
      "/Users/clarahoffmann/Documents/code/pycon_2023_honey_i_broke_the_pytorch_model/.venv/lib/python3.9/site-packages/pytorch_lightning/trainer/connectors/data_connector.py:430: PossibleUserWarning: The dataloader, val_dataloader, does not have many workers which may be a bottleneck. Consider increasing the value of the `num_workers` argument` (try 8 which is the number of cpus on this machine) in the `DataLoader` init to improve performance.\n",
      "  rank_zero_warn(\n",
      "/Users/clarahoffmann/Documents/code/pycon_2023_honey_i_broke_the_pytorch_model/.venv/lib/python3.9/site-packages/pytorch_lightning/trainer/connectors/data_connector.py:430: PossibleUserWarning: The dataloader, train_dataloader, does not have many workers which may be a bottleneck. Consider increasing the value of the `num_workers` argument` (try 8 which is the number of cpus on this machine) in the `DataLoader` init to improve performance.\n",
      "  rank_zero_warn(\n",
      "/Users/clarahoffmann/Documents/code/pycon_2023_honey_i_broke_the_pytorch_model/.venv/lib/python3.9/site-packages/pytorch_lightning/loops/fit_loop.py:280: PossibleUserWarning: The number of training batches (13) is smaller than the logging interval Trainer(log_every_n_steps=50). Set a lower value for log_every_n_steps if you want to see logs for the training epoch.\n",
      "  rank_zero_warn(\n"
     ]
    },
    {
     "name": "stdout",
     "output_type": "stream",
     "text": [
      "Epoch 49: 100%|██████████| 13/13 [00:00<00:00, 56.09it/s, v_num=0] "
     ]
    },
    {
     "name": "stderr",
     "output_type": "stream",
     "text": [
      "`Trainer.fit` stopped: `max_epochs=50` reached.\n"
     ]
    },
    {
     "name": "stdout",
     "output_type": "stream",
     "text": [
      "Epoch 49: 100%|██████████| 13/13 [00:00<00:00, 53.67it/s, v_num=0]\n"
     ]
    }
   ],
   "source": [
    "simple_dnn = SimpleDnn(Encoder(input_dim = 2, output_dim = 2), task_type = 'classification')\n",
    "\n",
    "num_params = len([param for param in simple_dnn.parameters()])\n",
    "for i, param in zip(range(num_params), simple_dnn.parameters()):\n",
    "    if i == num_params-1 :\n",
    "        param.requires_grad = False\n",
    "\n",
    "csv_logger = CSVLogger(save_dir='metrics_csv', name = 'circles_frozen_bias')\n",
    "# train model on nonlinear data\n",
    "trainer = pl.Trainer(logger=csv_logger, max_epochs = 50)\n",
    "trainer.fit(model=simple_dnn, train_dataloaders = train_loader_circles, val_dataloaders = val_loader_circles)\n",
    "format_csv('metrics_csv/circles_frozen_bias/version_0/metrics.csv', ['train_loss', 'val_loss'], Path('reformatted_metrics/circle_data_frozen_bias.csv'))"
   ]
  },
  {
   "attachments": {},
   "cell_type": "markdown",
   "metadata": {},
   "source": [
    "### 5. Broken model: Trainloader returns single example"
   ]
  },
  {
   "cell_type": "code",
   "execution_count": 45,
   "metadata": {},
   "outputs": [
    {
     "name": "stderr",
     "output_type": "stream",
     "text": [
      "2023-04-08 15:56:42.822 | INFO     | train_utils:create_loaders:58 - Creating dataloaders with 80/20train/test split 🔪\n",
      "2023-04-08 15:56:42.827 | INFO     | train_utils:create_loaders:84 - Successfully created train and validation loader 🤗\n",
      "GPU available: False, used: False\n",
      "TPU available: False, using: 0 TPU cores\n",
      "IPU available: False, using: 0 IPUs\n",
      "HPU available: False, using: 0 HPUs\n",
      "\n",
      "  | Name    | Type          | Params\n",
      "------------------------------------------\n",
      "0 | encoder | Encoder       | 52    \n",
      "1 | f1      | BinaryF1Score | 0     \n",
      "------------------------------------------\n",
      "52        Trainable params\n",
      "0         Non-trainable params\n",
      "52        Total params\n",
      "0.000     Total estimated model params size (MB)\n"
     ]
    },
    {
     "name": "stdout",
     "output_type": "stream",
     "text": [
      "Epoch 49: 100%|██████████| 7/7 [00:00<00:00, 100.66it/s, v_num=0]          "
     ]
    },
    {
     "name": "stderr",
     "output_type": "stream",
     "text": [
      "`Trainer.fit` stopped: `max_epochs=50` reached.\n"
     ]
    },
    {
     "name": "stdout",
     "output_type": "stream",
     "text": [
      "Epoch 49: 100%|██████████| 7/7 [00:00<00:00, 93.07it/s, v_num=0] \n"
     ]
    }
   ],
   "source": [
    "simple_dnn = SimpleDnn(Encoder(input_dim = 2, output_dim = 2), task_type = 'classification')\n",
    "train_loader_circles_broken, val_loader_circles = create_loaders(data = data_tensor_circles, ratio = 0.8,  batch_size = 32, num_workers = 0,\n",
    "                                                        shuffle_train = True, shuffle_val = False, subset_broken_train = True)\n",
    "\n",
    "csv_logger = CSVLogger(save_dir='metrics_csv', name = 'circles_dataloader_broken')\n",
    "# train model on nonlinear data\n",
    "trainer = pl.Trainer(logger=csv_logger, max_epochs = 50)\n",
    "trainer.fit(model=simple_dnn, train_dataloaders = train_loader_circles_broken, val_dataloaders = val_loader_circles)\n",
    "format_csv('metrics_csv/circles_dataloader_broken/version_0/metrics.csv', ['train_loss', 'val_loss'], Path('reformatted_metrics/circle_dataloader_broken.csv'))"
   ]
  },
  {
   "cell_type": "code",
   "execution_count": 79,
   "metadata": {},
   "outputs": [],
   "source": [
    "import cleanlab \n",
    "from skorch import NeuralNetClassifier\n",
    "from sklearn.model_selection import cross_val_predict\n",
    "from sklearn.metrics import accuracy_score\n",
    "from cleanlab.filter import find_label_issues\n",
    "import numpy as np"
   ]
  },
  {
   "cell_type": "code",
   "execution_count": 60,
   "metadata": {},
   "outputs": [],
   "source": [
    "model_skorch = NeuralNetClassifier(simple_dnn.encoder)\n",
    "cl = cleanlab.classification.CleanLearning(model_skorch)\n",
    "#label_issues = cl.find_label_issues(data_circles, label_circles )"
   ]
  },
  {
   "cell_type": "code",
   "execution_count": 80,
   "metadata": {},
   "outputs": [],
   "source": [
    "def sigmoid(x):\n",
    "    \"\"\"Average first and last element of a 1-D array\"\"\"\n",
    "    return 1/(1 + np.exp(-x))"
   ]
  },
  {
   "cell_type": "code",
   "execution_count": 81,
   "metadata": {},
   "outputs": [
    {
     "data": {
      "text/plain": [
       "array([[0.81302947, 0.8002704 ],\n",
       "       [0.67569894, 0.6858361 ],\n",
       "       [0.91713905, 0.8993359 ],\n",
       "       [0.6729651 , 0.68356246],\n",
       "       [0.9066113 , 0.8917656 ],\n",
       "       [0.88529915, 0.87522846],\n",
       "       [0.77103543, 0.7775052 ],\n",
       "       [0.9265095 , 0.91764635],\n",
       "       [0.8879582 , 0.8861431 ],\n",
       "       [0.7696639 , 0.7584154 ],\n",
       "       [0.7683457 , 0.7757159 ],\n",
       "       [0.65968424, 0.6614381 ],\n",
       "       [0.8863094 , 0.86825585],\n",
       "       [0.8891023 , 0.87101865],\n",
       "       [0.9138049 , 0.89840204],\n",
       "       [0.7503066 , 0.7424206 ],\n",
       "       [0.71412134, 0.7275472 ],\n",
       "       [0.6695623 , 0.6732817 ],\n",
       "       [0.7320839 , 0.7278798 ],\n",
       "       [0.77855647, 0.78822684],\n",
       "       [0.748246  , 0.74039614],\n",
       "       [0.8846367 , 0.87468857],\n",
       "       [0.9429745 , 0.92597425],\n",
       "       [0.7512115 , 0.74058384],\n",
       "       [0.7627599 , 0.7617192 ],\n",
       "       [0.7785881 , 0.7655811 ],\n",
       "       [0.9135059 , 0.8973663 ],\n",
       "       [0.6608126 , 0.66873616],\n",
       "       [0.6499082 , 0.6554777 ],\n",
       "       [0.7778929 , 0.76610947],\n",
       "       [0.8486895 , 0.83385366],\n",
       "       [0.739833  , 0.731986  ],\n",
       "       [0.84674853, 0.84329194],\n",
       "       [0.7523286 , 0.7482364 ],\n",
       "       [0.71126693, 0.72434783],\n",
       "       [0.9500453 , 0.93519735],\n",
       "       [0.8770999 , 0.86008   ],\n",
       "       [0.89229614, 0.8743622 ],\n",
       "       [0.92335033, 0.9058984 ],\n",
       "       [0.76971895, 0.7790534 ],\n",
       "       [0.73038584, 0.7224004 ],\n",
       "       [0.6864968 , 0.7012    ],\n",
       "       [0.8817363 , 0.8647011 ],\n",
       "       [0.81771773, 0.82357985],\n",
       "       [0.8475249 , 0.83267766],\n",
       "       [0.7551341 , 0.7617774 ],\n",
       "       [0.9446868 , 0.93445426],\n",
       "       [0.882885  , 0.87416893],\n",
       "       [0.78997576, 0.799939  ],\n",
       "       [0.69960076, 0.724603  ],\n",
       "       [0.9040927 , 0.88761634],\n",
       "       [0.9331606 , 0.924527  ],\n",
       "       [0.66821766, 0.67242837],\n",
       "       [0.86500096, 0.8647907 ],\n",
       "       [0.8471429 , 0.83938164],\n",
       "       [0.73046327, 0.72347295],\n",
       "       [0.7621904 , 0.7597548 ],\n",
       "       [0.937438  , 0.9266887 ],\n",
       "       [0.90509677, 0.88909316],\n",
       "       [0.7435847 , 0.7564853 ],\n",
       "       [0.8672508 , 0.8521455 ],\n",
       "       [0.8395421 , 0.8349794 ],\n",
       "       [0.82959694, 0.8148872 ],\n",
       "       [0.8135577 , 0.7997907 ],\n",
       "       [0.9025883 , 0.8904177 ],\n",
       "       [0.76171833, 0.76095194],\n",
       "       [0.81753796, 0.81430155],\n",
       "       [0.9096896 , 0.8959773 ],\n",
       "       [0.68149537, 0.6911693 ],\n",
       "       [0.8819017 , 0.8715829 ],\n",
       "       [0.8963818 , 0.8794511 ],\n",
       "       [0.9121128 , 0.9065258 ],\n",
       "       [0.68079036, 0.6834521 ],\n",
       "       [0.9209958 , 0.90310556],\n",
       "       [0.7289325 , 0.7406432 ],\n",
       "       [0.8799732 , 0.86693347],\n",
       "       [0.8344713 , 0.83078516],\n",
       "       [0.73941034, 0.75318396],\n",
       "       [0.7400767 , 0.7333121 ],\n",
       "       [0.8609563 , 0.8450772 ],\n",
       "       [0.67240745, 0.6833755 ],\n",
       "       [0.86924326, 0.8710068 ],\n",
       "       [0.7871526 , 0.7848887 ],\n",
       "       [0.9198443 , 0.91291136],\n",
       "       [0.89531934, 0.88481563],\n",
       "       [0.94107425, 0.92367405],\n",
       "       [0.6858217 , 0.6966516 ],\n",
       "       [0.6533586 , 0.6588382 ],\n",
       "       [0.8738627 , 0.8581682 ],\n",
       "       [0.7425827 , 0.7379436 ],\n",
       "       [0.7610031 , 0.7502867 ],\n",
       "       [0.89772683, 0.8940431 ],\n",
       "       [0.759367  , 0.7571732 ],\n",
       "       [0.7341739 , 0.7256068 ],\n",
       "       [0.6803848 , 0.68695927],\n",
       "       [0.81548715, 0.8218359 ],\n",
       "       [0.9069067 , 0.8901096 ],\n",
       "       [0.9271658 , 0.91909593],\n",
       "       [0.67935497, 0.6938174 ],\n",
       "       [0.81452894, 0.81450284],\n",
       "       [0.7534199 , 0.75176316],\n",
       "       [0.66265196, 0.6654994 ],\n",
       "       [0.7498372 , 0.73936456],\n",
       "       [0.9107175 , 0.8928884 ],\n",
       "       [0.88375586, 0.86662614],\n",
       "       [0.7556493 , 0.7564917 ],\n",
       "       [0.86715144, 0.851466  ],\n",
       "       [0.81420416, 0.8121835 ],\n",
       "       [0.7458912 , 0.76124424],\n",
       "       [0.9567034 , 0.9437378 ],\n",
       "       [0.7494763 , 0.74751973],\n",
       "       [0.8379727 , 0.83480126],\n",
       "       [0.8748638 , 0.8583557 ],\n",
       "       [0.9072867 , 0.8929682 ],\n",
       "       [0.7754343 , 0.78115386],\n",
       "       [0.9473265 , 0.93150204],\n",
       "       [0.7514137 , 0.74063075],\n",
       "       [0.9343056 , 0.9168923 ],\n",
       "       [0.76060075, 0.7506157 ],\n",
       "       [0.73219544, 0.74729264],\n",
       "       [0.81453747, 0.8005753 ],\n",
       "       [0.92843574, 0.91957814],\n",
       "       [0.9527217 , 0.93755686],\n",
       "       [0.86201125, 0.8515046 ],\n",
       "       [0.6688652 , 0.67388064],\n",
       "       [0.760211  , 0.749587  ],\n",
       "       [0.95298123, 0.93972284],\n",
       "       [0.88408566, 0.8748435 ],\n",
       "       [0.75207925, 0.74160856],\n",
       "       [0.75090617, 0.7608549 ],\n",
       "       [0.9059778 , 0.89256406],\n",
       "       [0.7407581 , 0.733596  ],\n",
       "       [0.8918465 , 0.88236946],\n",
       "       [0.7912945 , 0.7921151 ],\n",
       "       [0.7543239 , 0.76868594],\n",
       "       [0.7434623 , 0.7328387 ],\n",
       "       [0.819601  , 0.82622534],\n",
       "       [0.8553015 , 0.84758824],\n",
       "       [0.90225   , 0.8837393 ],\n",
       "       [0.7618572 , 0.75729525],\n",
       "       [0.72508276, 0.7397252 ],\n",
       "       [0.86838406, 0.86967736],\n",
       "       [0.68406516, 0.6898435 ],\n",
       "       [0.7970778 , 0.7845211 ],\n",
       "       [0.9353995 , 0.9249488 ],\n",
       "       [0.74832946, 0.745101  ],\n",
       "       [0.83295465, 0.82727003],\n",
       "       [0.7587587 , 0.757989  ],\n",
       "       [0.87378436, 0.87289405],\n",
       "       [0.8290367 , 0.82344395],\n",
       "       [0.78324527, 0.7708251 ],\n",
       "       [0.94345635, 0.92620414],\n",
       "       [0.730142  , 0.72766346],\n",
       "       [0.8804292 , 0.8633913 ],\n",
       "       [0.91525006, 0.89975846],\n",
       "       [0.88397926, 0.88275707],\n",
       "       [0.9520567 , 0.9369679 ],\n",
       "       [0.7503394 , 0.7397585 ],\n",
       "       [0.8586374 , 0.84319985],\n",
       "       [0.9451879 , 0.9287503 ],\n",
       "       [0.66780734, 0.67060363],\n",
       "       [0.8806093 , 0.8677948 ],\n",
       "       [0.8630137 , 0.864185  ],\n",
       "       [0.9309291 , 0.9130639 ],\n",
       "       [0.9185657 , 0.9008317 ],\n",
       "       [0.67707616, 0.67999536],\n",
       "       [0.77560943, 0.76468486],\n",
       "       [0.8970867 , 0.8854979 ],\n",
       "       [0.66724545, 0.66893727],\n",
       "       [0.88768566, 0.8709571 ],\n",
       "       [0.8273542 , 0.8227489 ],\n",
       "       [0.9204324 , 0.90224075],\n",
       "       [0.86833405, 0.862191  ],\n",
       "       [0.95159763, 0.93637925],\n",
       "       [0.9503277 , 0.93731976],\n",
       "       [0.862562  , 0.85738176],\n",
       "       [0.8104101 , 0.7972181 ],\n",
       "       [0.94155043, 0.9307276 ],\n",
       "       [0.82557946, 0.83163244],\n",
       "       [0.83565605, 0.82132196],\n",
       "       [0.83645266, 0.83099896],\n",
       "       [0.95254636, 0.94039834],\n",
       "       [0.93392867, 0.9166211 ],\n",
       "       [0.89463544, 0.87815046],\n",
       "       [0.7178566 , 0.7368197 ],\n",
       "       [0.72551215, 0.7442434 ],\n",
       "       [0.66524214, 0.67212653],\n",
       "       [0.92083967, 0.9144634 ],\n",
       "       [0.7591979 , 0.7673862 ],\n",
       "       [0.7400291 , 0.73967844],\n",
       "       [0.8649022 , 0.85781324],\n",
       "       [0.933787  , 0.916066  ],\n",
       "       [0.95429987, 0.9423609 ],\n",
       "       [0.8417448 , 0.84822106],\n",
       "       [0.8724278 , 0.85625356],\n",
       "       [0.8594397 , 0.85503143],\n",
       "       [0.8983572 , 0.88114   ],\n",
       "       [0.8493642 , 0.84563434],\n",
       "       [0.89634925, 0.893236  ],\n",
       "       [0.9464747 , 0.93258256],\n",
       "       [0.7445982 , 0.73631436],\n",
       "       [0.8154585 , 0.8250981 ],\n",
       "       [0.9377987 , 0.9204132 ],\n",
       "       [0.77216023, 0.7716224 ],\n",
       "       [0.7474759 , 0.743747  ],\n",
       "       [0.73868895, 0.73116577],\n",
       "       [0.7205261 , 0.73099285],\n",
       "       [0.77387506, 0.7624333 ],\n",
       "       [0.95253336, 0.9412184 ],\n",
       "       [0.9272294 , 0.9190651 ],\n",
       "       [0.72982633, 0.72548735],\n",
       "       [0.8522754 , 0.83677304],\n",
       "       [0.82368755, 0.80963486],\n",
       "       [0.8132018 , 0.8104981 ],\n",
       "       [0.8826856 , 0.87379074],\n",
       "       [0.7025872 , 0.715628  ],\n",
       "       [0.8551461 , 0.8526174 ],\n",
       "       [0.9028807 , 0.8891096 ],\n",
       "       [0.75656646, 0.76489574],\n",
       "       [0.93921477, 0.9284105 ],\n",
       "       [0.8297422 , 0.82683635],\n",
       "       [0.7373317 , 0.7537655 ],\n",
       "       [0.8964386 , 0.8789776 ],\n",
       "       [0.91970915, 0.9125145 ],\n",
       "       [0.9036971 , 0.88543427],\n",
       "       [0.8919757 , 0.87984616],\n",
       "       [0.95070475, 0.937238  ],\n",
       "       [0.8872373 , 0.87536275],\n",
       "       [0.8197047 , 0.81564695],\n",
       "       [0.7425582 , 0.74097955],\n",
       "       [0.94875973, 0.93818486],\n",
       "       [0.86279577, 0.8653952 ],\n",
       "       [0.90699834, 0.894883  ],\n",
       "       [0.90079063, 0.885284  ],\n",
       "       [0.6983377 , 0.7158493 ],\n",
       "       [0.7485547 , 0.7455464 ],\n",
       "       [0.671915  , 0.6816305 ],\n",
       "       [0.897387  , 0.8795598 ],\n",
       "       [0.8922896 , 0.8743455 ],\n",
       "       [0.8085309 , 0.7949646 ],\n",
       "       [0.75245714, 0.74296564],\n",
       "       [0.6982141 , 0.7159617 ],\n",
       "       [0.73254293, 0.7515872 ],\n",
       "       [0.75943685, 0.7500687 ],\n",
       "       [0.94935125, 0.93544304],\n",
       "       [0.8875549 , 0.8758363 ],\n",
       "       [0.76596874, 0.7565473 ],\n",
       "       [0.8240984 , 0.82093227],\n",
       "       [0.9025724 , 0.89070576],\n",
       "       [0.9080173 , 0.8916582 ],\n",
       "       [0.9427719 , 0.9268449 ],\n",
       "       [0.7780662 , 0.7774872 ],\n",
       "       [0.6635951 , 0.67222023],\n",
       "       [0.94787043, 0.9366445 ],\n",
       "       [0.6662453 , 0.67602336],\n",
       "       [0.8567367 , 0.8410055 ],\n",
       "       [0.8116969 , 0.80996436],\n",
       "       [0.6920174 , 0.7099674 ],\n",
       "       [0.68061256, 0.69750494],\n",
       "       [0.9318256 , 0.9138854 ],\n",
       "       [0.66631526, 0.6694261 ],\n",
       "       [0.67680186, 0.69228363],\n",
       "       [0.76128805, 0.74979985],\n",
       "       [0.85737336, 0.8425153 ],\n",
       "       [0.7567766 , 0.747322  ],\n",
       "       [0.87597424, 0.868927  ],\n",
       "       [0.7854466 , 0.78573096],\n",
       "       [0.8027416 , 0.80347043],\n",
       "       [0.8990371 , 0.8840253 ],\n",
       "       [0.951434  , 0.93650985],\n",
       "       [0.90524673, 0.8875938 ],\n",
       "       [0.9477212 , 0.93060833],\n",
       "       [0.9093328 , 0.89293706],\n",
       "       [0.74250466, 0.7587328 ],\n",
       "       [0.7751642 , 0.76364183],\n",
       "       [0.6645272 , 0.6713312 ],\n",
       "       [0.718931  , 0.7358507 ],\n",
       "       [0.81671166, 0.8149014 ],\n",
       "       [0.9075082 , 0.88965124],\n",
       "       [0.7088237 , 0.72437996],\n",
       "       [0.85349596, 0.8384706 ],\n",
       "       [0.79604775, 0.7961053 ],\n",
       "       [0.7075212 , 0.7237873 ],\n",
       "       [0.7757215 , 0.76399434],\n",
       "       [0.89806366, 0.88108975],\n",
       "       [0.9372606 , 0.9199486 ],\n",
       "       [0.9447233 , 0.93230134],\n",
       "       [0.9060517 , 0.8882086 ],\n",
       "       [0.9516953 , 0.9403313 ],\n",
       "       [0.66588193, 0.67056316],\n",
       "       [0.80722624, 0.7942941 ],\n",
       "       [0.76594716, 0.7653892 ],\n",
       "       [0.90058607, 0.886303  ],\n",
       "       [0.9465703 , 0.936807  ],\n",
       "       [0.94049174, 0.9231856 ],\n",
       "       [0.91296506, 0.89717734],\n",
       "       [0.7442872 , 0.7431857 ],\n",
       "       [0.91867226, 0.9113167 ],\n",
       "       [0.6667155 , 0.6740557 ],\n",
       "       [0.73222697, 0.72684747],\n",
       "       [0.7572818 , 0.7471861 ],\n",
       "       [0.75243014, 0.7632437 ],\n",
       "       [0.9375563 , 0.9276554 ],\n",
       "       [0.79446286, 0.7918233 ],\n",
       "       [0.666793  , 0.6698532 ],\n",
       "       [0.68143135, 0.685099  ],\n",
       "       [0.8957556 , 0.882519  ],\n",
       "       [0.8990985 , 0.88193125],\n",
       "       [0.85511124, 0.83927464],\n",
       "       [0.92025304, 0.9137605 ],\n",
       "       [0.8379685 , 0.82320154],\n",
       "       [0.82575476, 0.82406473],\n",
       "       [0.740007  , 0.7396966 ],\n",
       "       [0.74415964, 0.74413365],\n",
       "       [0.86587423, 0.8591857 ],\n",
       "       [0.7600047 , 0.74940306],\n",
       "       [0.89090466, 0.8808321 ],\n",
       "       [0.88211894, 0.8667649 ],\n",
       "       [0.834194  , 0.8415699 ],\n",
       "       [0.7109387 , 0.714355  ],\n",
       "       [0.79761094, 0.7848955 ],\n",
       "       [0.75082564, 0.74190116],\n",
       "       [0.90157914, 0.89763373],\n",
       "       [0.8322233 , 0.8389551 ],\n",
       "       [0.9456321 , 0.93386877],\n",
       "       [0.85842365, 0.8479195 ],\n",
       "       [0.7332367 , 0.75031656],\n",
       "       [0.81121886, 0.8208492 ],\n",
       "       [0.8209408 , 0.81494755],\n",
       "       [0.8027353 , 0.8020295 ],\n",
       "       [0.8775192 , 0.8620999 ],\n",
       "       [0.927077  , 0.91845536],\n",
       "       [0.96118253, 0.94679624],\n",
       "       [0.8989718 , 0.8813259 ],\n",
       "       [0.653628  , 0.68197757],\n",
       "       [0.84445363, 0.8372412 ],\n",
       "       [0.7668916 , 0.76476675],\n",
       "       [0.8852988 , 0.88221526],\n",
       "       [0.9045162 , 0.884259  ],\n",
       "       [0.8887369 , 0.88666207],\n",
       "       [0.7078427 , 0.73073685],\n",
       "       [0.75977737, 0.7489626 ],\n",
       "       [0.76009643, 0.75169307],\n",
       "       [0.6685932 , 0.6900717 ],\n",
       "       [0.86617386, 0.8580545 ],\n",
       "       [0.6291012 , 0.6579123 ],\n",
       "       [0.8756218 , 0.87492704],\n",
       "       [0.76186806, 0.75467306],\n",
       "       [0.9364925 , 0.916441  ],\n",
       "       [0.73634845, 0.7337608 ],\n",
       "       [0.8910742 , 0.87239134],\n",
       "       [0.90080804, 0.88509387],\n",
       "       [0.64909333, 0.6772545 ],\n",
       "       [0.6386501 , 0.66518825],\n",
       "       [0.7910952 , 0.80129886],\n",
       "       [0.77129847, 0.78119034],\n",
       "       [0.667646  , 0.69833255],\n",
       "       [0.7211985 , 0.7253673 ],\n",
       "       [0.75283563, 0.74589497],\n",
       "       [0.65491384, 0.67565614],\n",
       "       [0.90980244, 0.9027936 ],\n",
       "       [0.79859   , 0.7967557 ],\n",
       "       [0.7966126 , 0.7975134 ],\n",
       "       [0.93855655, 0.91854537],\n",
       "       [0.84603345, 0.8508637 ],\n",
       "       [0.8754748 , 0.85694116],\n",
       "       [0.8890489 , 0.8772595 ],\n",
       "       [0.9045555 , 0.8867107 ],\n",
       "       [0.7359967 , 0.74109834],\n",
       "       [0.93827254, 0.92774713],\n",
       "       [0.9459883 , 0.926679  ],\n",
       "       [0.8174008 , 0.80414045],\n",
       "       [0.8283452 , 0.81408525],\n",
       "       [0.6761174 , 0.69541883],\n",
       "       [0.8960131 , 0.87719613],\n",
       "       [0.73373044, 0.7380562 ],\n",
       "       [0.7838719 , 0.79550284],\n",
       "       [0.65302634, 0.6808287 ],\n",
       "       [0.6667995 , 0.69677883],\n",
       "       [0.7516717 , 0.76870394],\n",
       "       [0.897571  , 0.8851736 ],\n",
       "       [0.8872985 , 0.8674566 ],\n",
       "       [0.72765666, 0.729189  ],\n",
       "       [0.73459816, 0.7312797 ],\n",
       "       [0.7374255 , 0.7344895 ],\n",
       "       [0.84796786, 0.8314772 ],\n",
       "       [0.89027554, 0.87626743],\n",
       "       [0.90732384, 0.892431  ],\n",
       "       [0.86342907, 0.857672  ],\n",
       "       [0.9465863 , 0.9273787 ],\n",
       "       [0.78372324, 0.78685874],\n",
       "       [0.90871024, 0.8942568 ],\n",
       "       [0.73650175, 0.7357165 ],\n",
       "       [0.66261834, 0.68884206],\n",
       "       [0.91540366, 0.89756805],\n",
       "       [0.953718  , 0.935782  ],\n",
       "       [0.66396964, 0.68581825],\n",
       "       [0.7340141 , 0.7392183 ],\n",
       "       [0.8587617 , 0.85140836],\n",
       "       [0.696713  , 0.72707963],\n",
       "       [0.9062453 , 0.8929156 ],\n",
       "       [0.66905046, 0.69431394],\n",
       "       [0.7356754 , 0.732413  ],\n",
       "       [0.89352095, 0.8810954 ],\n",
       "       [0.9304205 , 0.92003363],\n",
       "       [0.77855575, 0.76837826],\n",
       "       [0.86726505, 0.8557124 ],\n",
       "       [0.73366517, 0.73578393],\n",
       "       [0.6894637 , 0.7172526 ],\n",
       "       [0.88447326, 0.8741691 ],\n",
       "       [0.7114888 , 0.7214723 ],\n",
       "       [0.8839001 , 0.8722558 ],\n",
       "       [0.9494269 , 0.93125594],\n",
       "       [0.82069755, 0.8193378 ],\n",
       "       [0.89846575, 0.8801231 ],\n",
       "       [0.6296795 , 0.65554357],\n",
       "       [0.6716359 , 0.69294137],\n",
       "       [0.7716854 , 0.76331663],\n",
       "       [0.8446246 , 0.8400159 ],\n",
       "       [0.6905692 , 0.718464  ],\n",
       "       [0.89492387, 0.8754148 ],\n",
       "       [0.66013694, 0.68121874],\n",
       "       [0.7642011 , 0.7732887 ],\n",
       "       [0.71415955, 0.7326065 ],\n",
       "       [0.7564046 , 0.76038545],\n",
       "       [0.9552779 , 0.9377352 ],\n",
       "       [0.73663276, 0.7438405 ],\n",
       "       [0.9130731 , 0.90701884],\n",
       "       [0.8797364 , 0.86096555],\n",
       "       [0.62204844, 0.6439094 ],\n",
       "       [0.6666171 , 0.69618475],\n",
       "       [0.77842975, 0.7688334 ],\n",
       "       [0.70823413, 0.73615843],\n",
       "       [0.7160263 , 0.74175775],\n",
       "       [0.9471706 , 0.9282874 ],\n",
       "       [0.7965264 , 0.79659295],\n",
       "       [0.82907015, 0.81389517],\n",
       "       [0.95027727, 0.93470913],\n",
       "       [0.9077456 , 0.88739747],\n",
       "       [0.87684137, 0.8596199 ],\n",
       "       [0.88205826, 0.8625429 ],\n",
       "       [0.9534817 , 0.9394724 ],\n",
       "       [0.78262925, 0.789836  ],\n",
       "       [0.89891547, 0.88627887],\n",
       "       [0.6951563 , 0.7239522 ],\n",
       "       [0.7262777 , 0.7494472 ],\n",
       "       [0.7279997 , 0.7298883 ],\n",
       "       [0.89009887, 0.87006354],\n",
       "       [0.668905  , 0.6939916 ],\n",
       "       [0.6401847 , 0.6650948 ],\n",
       "       [0.850316  , 0.8451327 ],\n",
       "       [0.9535359 , 0.9374728 ],\n",
       "       [0.8766036 , 0.8578413 ],\n",
       "       [0.88348436, 0.88111514],\n",
       "       [0.922035  , 0.901638  ],\n",
       "       [0.7305566 , 0.7283448 ],\n",
       "       [0.90051115, 0.8802739 ],\n",
       "       [0.8721108 , 0.85755944],\n",
       "       [0.8730943 , 0.8649428 ],\n",
       "       [0.7247366 , 0.7262223 ],\n",
       "       [0.7294883 , 0.7333455 ],\n",
       "       [0.7969258 , 0.796128  ],\n",
       "       [0.94114554, 0.9218289 ],\n",
       "       [0.6526376 , 0.66911435],\n",
       "       [0.852632  , 0.83618337],\n",
       "       [0.7641912 , 0.77207446],\n",
       "       [0.7888629 , 0.7894178 ],\n",
       "       [0.6805225 , 0.7081457 ],\n",
       "       [0.7559059 , 0.7588958 ],\n",
       "       [0.71063125, 0.7143499 ],\n",
       "       [0.9035871 , 0.88848245],\n",
       "       [0.6947385 , 0.72230685],\n",
       "       [0.8914086 , 0.88047206],\n",
       "       [0.94329876, 0.92422295],\n",
       "       [0.89643323, 0.87645894],\n",
       "       [0.9544127 , 0.9412903 ],\n",
       "       [0.71584827, 0.719168  ],\n",
       "       [0.8799392 , 0.87845975],\n",
       "       [0.7735515 , 0.777394  ],\n",
       "       [0.7875086 , 0.77655524],\n",
       "       [0.6594627 , 0.6840147 ],\n",
       "       [0.8259216 , 0.81172687],\n",
       "       [0.78666866, 0.80036956],\n",
       "       [0.91461027, 0.89406663],\n",
       "       [0.82214695, 0.8211983 ],\n",
       "       [0.9094891 , 0.8896763 ],\n",
       "       [0.7481101 , 0.7424639 ],\n",
       "       [0.7766059 , 0.76720417],\n",
       "       [0.7873354 , 0.78769505],\n",
       "       [0.8344551 , 0.81961966],\n",
       "       [0.72409606, 0.7246374 ],\n",
       "       [0.6618952 , 0.6899083 ],\n",
       "       [0.7490254 , 0.7515037 ],\n",
       "       [0.7265051 , 0.7312346 ],\n",
       "       [0.6464709 , 0.66511345],\n",
       "       [0.9000154 , 0.89482474],\n",
       "       [0.95733196, 0.9410147 ],\n",
       "       [0.86742675, 0.85889786],\n",
       "       [0.9398459 , 0.9272249 ],\n",
       "       [0.6371935 , 0.6575106 ]], dtype=float32)"
      ]
     },
     "execution_count": 81,
     "metadata": {},
     "output_type": "execute_result"
    }
   ],
   "source": [
    "np.apply_along_axis(sigmoid, 0, pred_probs)"
   ]
  },
  {
   "cell_type": "code",
   "execution_count": 82,
   "metadata": {},
   "outputs": [
    {
     "name": "stdout",
     "output_type": "stream",
     "text": [
      "  epoch    train_loss    valid_acc    valid_loss     dur\n",
      "-------  ------------  -----------  ------------  ------\n",
      "      1        \u001b[36m0.0538\u001b[0m       \u001b[32m0.5373\u001b[0m       \u001b[35m-0.2381\u001b[0m  0.0263\n",
      "      2       \u001b[36m-0.0122\u001b[0m       0.5075       \u001b[35m-0.2815\u001b[0m  0.0099\n",
      "      3       \u001b[36m-0.0678\u001b[0m       0.4627       \u001b[35m-0.3207\u001b[0m  0.0101\n",
      "      4       \u001b[36m-0.1164\u001b[0m       0.4627       \u001b[35m-0.3566\u001b[0m  0.0072\n",
      "      5       \u001b[36m-0.1600\u001b[0m       0.4328       \u001b[35m-0.3901\u001b[0m  0.0104\n",
      "      6       \u001b[36m-0.1999\u001b[0m       0.4030       \u001b[35m-0.4217\u001b[0m  0.0120\n",
      "      7       \u001b[36m-0.2371\u001b[0m       0.3582       \u001b[35m-0.4515\u001b[0m  0.0109\n",
      "      8       \u001b[36m-0.2718\u001b[0m       0.3582       \u001b[35m-0.4798\u001b[0m  0.0089\n",
      "      9       \u001b[36m-0.3045\u001b[0m       0.3284       \u001b[35m-0.5070\u001b[0m  0.0100\n",
      "     10       \u001b[36m-0.3357\u001b[0m       0.3284       \u001b[35m-0.5330\u001b[0m  0.0091\n",
      "  epoch    train_loss    valid_acc    valid_loss     dur\n",
      "-------  ------------  -----------  ------------  ------\n",
      "      1        \u001b[36m0.0473\u001b[0m       \u001b[32m0.3582\u001b[0m        \u001b[35m0.0241\u001b[0m  0.0069\n",
      "      2       \u001b[36m-0.0169\u001b[0m       0.3582       \u001b[35m-0.0338\u001b[0m  0.0066\n",
      "      3       \u001b[36m-0.0714\u001b[0m       0.3433       \u001b[35m-0.0842\u001b[0m  0.0087\n",
      "      4       \u001b[36m-0.1193\u001b[0m       0.3433       \u001b[35m-0.1292\u001b[0m  0.0094\n",
      "      5       \u001b[36m-0.1624\u001b[0m       0.3284       \u001b[35m-0.1702\u001b[0m  0.0087\n",
      "      6       \u001b[36m-0.2019\u001b[0m       0.2836       \u001b[35m-0.2082\u001b[0m  0.0087\n",
      "      7       \u001b[36m-0.2386\u001b[0m       0.2239       \u001b[35m-0.2437\u001b[0m  0.0093\n",
      "      8       \u001b[36m-0.2731\u001b[0m       0.2239       \u001b[35m-0.2773\u001b[0m  0.0094\n",
      "      9       \u001b[36m-0.3057\u001b[0m       0.2090       \u001b[35m-0.3094\u001b[0m  0.0087\n",
      "     10       \u001b[36m-0.3368\u001b[0m       0.1940       \u001b[35m-0.3400\u001b[0m  0.0179\n",
      "  epoch    train_loss    valid_acc    valid_loss     dur\n",
      "-------  ------------  -----------  ------------  ------\n",
      "      1       \u001b[36m-0.0343\u001b[0m       \u001b[32m0.3582\u001b[0m        \u001b[35m0.0356\u001b[0m  0.0109\n",
      "      2       \u001b[36m-0.0857\u001b[0m       0.3582       \u001b[35m-0.0158\u001b[0m  0.0091\n",
      "      3       \u001b[36m-0.1318\u001b[0m       \u001b[32m0.3731\u001b[0m       \u001b[35m-0.0622\u001b[0m  0.0094\n",
      "      4       \u001b[36m-0.1740\u001b[0m       0.3582       \u001b[35m-0.1048\u001b[0m  0.0122\n",
      "      5       \u001b[36m-0.2130\u001b[0m       0.3433       \u001b[35m-0.1442\u001b[0m  0.0116\n",
      "      6       \u001b[36m-0.2496\u001b[0m       0.3433       \u001b[35m-0.1812\u001b[0m  0.1507\n",
      "      7       \u001b[36m-0.2840\u001b[0m       0.2985       \u001b[35m-0.2160\u001b[0m  0.0193\n",
      "      8       \u001b[36m-0.3168\u001b[0m       0.3134       \u001b[35m-0.2491\u001b[0m  0.0079\n",
      "      9       \u001b[36m-0.3480\u001b[0m       0.3134       \u001b[35m-0.2807\u001b[0m  0.0080\n",
      "     10       \u001b[36m-0.3777\u001b[0m       0.2985       \u001b[35m-0.3111\u001b[0m  0.0112\n",
      "Cross-validated estimate of accuracy on held-out data: 0.288\n",
      "Cleanlab found 251 label issues.\n",
      "Top 15 most likely label errors: \n",
      " [345 415 353 449 352 377 334 480 491 393 430 378 356 448 401]\n"
     ]
    }
   ],
   "source": [
    "pred_probs_logits = cross_val_predict(\n",
    "    model_skorch,\n",
    "    np.float32(data_circles),\n",
    "    label_circles,\n",
    "    cv=3,\n",
    "    method=\"predict_proba\",\n",
    ")\n",
    "\n",
    "pred_probs = np.apply_along_axis(sigmoid, 0, pred_probs_logits)\n",
    "\n",
    "predicted_labels = pred_probs.argmax(axis=1)\n",
    "acc = accuracy_score(label_circles, predicted_labels)\n",
    "print(f\"Cross-validated estimate of accuracy on held-out data: {acc}\")\n",
    "\n",
    "ranked_label_issues = find_label_issues(\n",
    "    label_circles,\n",
    "    pred_probs,\n",
    "    return_indices_ranked_by=\"self_confidence\",\n",
    ")\n",
    "\n",
    "print(f\"Cleanlab found {len(ranked_label_issues)} label issues.\")\n",
    "print(f\"Top 15 most likely label errors: \\n {ranked_label_issues[:15]}\")"
   ]
  },
  {
   "cell_type": "code",
   "execution_count": 100,
   "metadata": {},
   "outputs": [
    {
     "name": "stderr",
     "output_type": "stream",
     "text": [
      "2023-04-08 16:29:29.811 | INFO     | train_utils:create_loaders:58 - Creating dataloaders with 80/20train/test split 🔪\n",
      "2023-04-08 16:29:29.841 | INFO     | train_utils:create_loaders:84 - Successfully created train and validation loader 🤗\n"
     ]
    }
   ],
   "source": [
    "# concentric circles with label mixup\n",
    "data_circles, label_circles = make_circles(n_samples=NUM_SAMPLES, factor=0.5, noise=0.05)\n",
    "corrupted_indices = np.random.choice(range(len(label_circles)), size = 20, replace = False)\n",
    "label_circles[corrupted_indices] = abs(label_circles[corrupted_indices] - 1)\n",
    "\n",
    "data_tensor_circles = TensorDataset(\n",
    "                torch.Tensor(data_circles), F.one_hot(torch.Tensor(label_circles).to(torch.int64), num_classes=2).float() \n",
    "            )\n",
    "# save for plotting\n",
    "df = pd.DataFrame({'x1': data_circles[:,0], 'x2': data_circles[:,1], 'labels': label_circles})\n",
    "df.to_csv('label_mixup/circles_corrupted.csv', index = False)\n",
    "\n",
    "train_loader_circles, val_loader_circles = create_loaders(data = data_tensor_circles, ratio = 0.8,  batch_size = 32, num_workers = 0,\n",
    "                                                        shuffle_train = True, shuffle_val = False)"
   ]
  },
  {
   "cell_type": "code",
   "execution_count": 104,
   "metadata": {},
   "outputs": [
    {
     "name": "stderr",
     "output_type": "stream",
     "text": [
      "GPU available: False, used: False\n",
      "TPU available: False, using: 0 TPU cores\n",
      "IPU available: False, using: 0 IPUs\n",
      "HPU available: False, using: 0 HPUs\n",
      "\n",
      "  | Name    | Type          | Params\n",
      "------------------------------------------\n",
      "0 | encoder | Encoder       | 52    \n",
      "1 | f1      | BinaryF1Score | 0     \n",
      "------------------------------------------\n",
      "52        Trainable params\n",
      "0         Non-trainable params\n",
      "52        Total params\n",
      "0.000     Total estimated model params size (MB)\n"
     ]
    },
    {
     "name": "stdout",
     "output_type": "stream",
     "text": [
      "Epoch 99: 100%|██████████| 13/13 [00:00<00:00, 113.79it/s, v_num=0]         "
     ]
    },
    {
     "name": "stderr",
     "output_type": "stream",
     "text": [
      "`Trainer.fit` stopped: `max_epochs=100` reached.\n"
     ]
    },
    {
     "name": "stdout",
     "output_type": "stream",
     "text": [
      "Epoch 99: 100%|██████████| 13/13 [00:00<00:00, 92.24it/s, v_num=0] \n"
     ]
    }
   ],
   "source": [
    "simple_dnn = SimpleDnn(Encoder(input_dim = 2, output_dim = 2), task_type = 'classification')\n",
    "csv_logger = CSVLogger(save_dir='metrics_csv', name = 'circles_label_mixup')\n",
    "# train model on nonlinear data\n",
    "trainer = pl.Trainer(logger=csv_logger, max_epochs = 100)\n",
    "trainer.fit(model=simple_dnn, train_dataloaders = train_loader_circles, val_dataloaders = val_loader_circles)\n",
    "format_csv('metrics_csv/circles_label_mixup/version_0/metrics.csv', ['train_loss', 'val_loss'], Path('reformatted_metrics/circles_label_mixup_data.csv'))"
   ]
  },
  {
   "cell_type": "code",
   "execution_count": 98,
   "metadata": {},
   "outputs": [
    {
     "ename": "ValueError",
     "evalue": "Mime type rendering requires nbformat>=4.2.0 but it is not installed",
     "output_type": "error",
     "traceback": [
      "\u001b[0;31m---------------------------------------------------------------------------\u001b[0m",
      "\u001b[0;31mValueError\u001b[0m                                Traceback (most recent call last)",
      "File \u001b[0;32m~/Documents/code/pycon_2023_honey_i_broke_the_pytorch_model/.venv/lib/python3.9/site-packages/IPython/core/formatters.py:922\u001b[0m, in \u001b[0;36mIPythonDisplayFormatter.__call__\u001b[0;34m(self, obj)\u001b[0m\n\u001b[1;32m    920\u001b[0m method \u001b[39m=\u001b[39m get_real_method(obj, \u001b[39mself\u001b[39m\u001b[39m.\u001b[39mprint_method)\n\u001b[1;32m    921\u001b[0m \u001b[39mif\u001b[39;00m method \u001b[39mis\u001b[39;00m \u001b[39mnot\u001b[39;00m \u001b[39mNone\u001b[39;00m:\n\u001b[0;32m--> 922\u001b[0m     method()\n\u001b[1;32m    923\u001b[0m     \u001b[39mreturn\u001b[39;00m \u001b[39mTrue\u001b[39;00m\n",
      "File \u001b[0;32m~/Documents/code/pycon_2023_honey_i_broke_the_pytorch_model/.venv/lib/python3.9/site-packages/plotly/basedatatypes.py:834\u001b[0m, in \u001b[0;36mBaseFigure._ipython_display_\u001b[0;34m(self)\u001b[0m\n\u001b[1;32m    831\u001b[0m \u001b[39mimport\u001b[39;00m \u001b[39mplotly\u001b[39;00m\u001b[39m.\u001b[39;00m\u001b[39mio\u001b[39;00m \u001b[39mas\u001b[39;00m \u001b[39mpio\u001b[39;00m\n\u001b[1;32m    833\u001b[0m \u001b[39mif\u001b[39;00m pio\u001b[39m.\u001b[39mrenderers\u001b[39m.\u001b[39mrender_on_display \u001b[39mand\u001b[39;00m pio\u001b[39m.\u001b[39mrenderers\u001b[39m.\u001b[39mdefault:\n\u001b[0;32m--> 834\u001b[0m     pio\u001b[39m.\u001b[39;49mshow(\u001b[39mself\u001b[39;49m)\n\u001b[1;32m    835\u001b[0m \u001b[39melse\u001b[39;00m:\n\u001b[1;32m    836\u001b[0m     \u001b[39mprint\u001b[39m(\u001b[39mrepr\u001b[39m(\u001b[39mself\u001b[39m))\n",
      "File \u001b[0;32m~/Documents/code/pycon_2023_honey_i_broke_the_pytorch_model/.venv/lib/python3.9/site-packages/plotly/io/_renderers.py:396\u001b[0m, in \u001b[0;36mshow\u001b[0;34m(fig, renderer, validate, **kwargs)\u001b[0m\n\u001b[1;32m    391\u001b[0m         \u001b[39mraise\u001b[39;00m \u001b[39mValueError\u001b[39;00m(\n\u001b[1;32m    392\u001b[0m             \u001b[39m\"\u001b[39m\u001b[39mMime type rendering requires ipython but it is not installed\u001b[39m\u001b[39m\"\u001b[39m\n\u001b[1;32m    393\u001b[0m         )\n\u001b[1;32m    395\u001b[0m     \u001b[39mif\u001b[39;00m \u001b[39mnot\u001b[39;00m nbformat \u001b[39mor\u001b[39;00m Version(nbformat\u001b[39m.\u001b[39m__version__) \u001b[39m<\u001b[39m Version(\u001b[39m\"\u001b[39m\u001b[39m4.2.0\u001b[39m\u001b[39m\"\u001b[39m):\n\u001b[0;32m--> 396\u001b[0m         \u001b[39mraise\u001b[39;00m \u001b[39mValueError\u001b[39;00m(\n\u001b[1;32m    397\u001b[0m             \u001b[39m\"\u001b[39m\u001b[39mMime type rendering requires nbformat>=4.2.0 but it is not installed\u001b[39m\u001b[39m\"\u001b[39m\n\u001b[1;32m    398\u001b[0m         )\n\u001b[1;32m    400\u001b[0m     ipython_display\u001b[39m.\u001b[39mdisplay(bundle, raw\u001b[39m=\u001b[39m\u001b[39mTrue\u001b[39;00m)\n\u001b[1;32m    402\u001b[0m \u001b[39m# external renderers\u001b[39;00m\n",
      "\u001b[0;31mValueError\u001b[0m: Mime type rendering requires nbformat>=4.2.0 but it is not installed"
     ]
    },
    {
     "data": {
      "application/vnd.plotly.v1+json": {
       "config": {
        "plotlyServerURL": "https://plot.ly"
       },
       "data": [
        {
         "hovertemplate": "x1=%{x}<br>x2=%{y}<br>labels=%{marker.color}<extra></extra>",
         "legendgroup": "",
         "marker": {
          "color": [
           1,
           0,
           0,
           0,
           1,
           1,
           0,
           0,
           1,
           1,
           0,
           0,
           1,
           1,
           1,
           1,
           0,
           1,
           0,
           0,
           1,
           1,
           0,
           1,
           1,
           1,
           1,
           0,
           0,
           1,
           1,
           1,
           1,
           1,
           0,
           0,
           1,
           1,
           0,
           0,
           1,
           0,
           1,
           0,
           1,
           0,
           0,
           1,
           0,
           0,
           1,
           0,
           0,
           0,
           0,
           1,
           1,
           0,
           1,
           0,
           1,
           1,
           1,
           1,
           1,
           1,
           1,
           1,
           0,
           1,
           0,
           0,
           0,
           0,
           0,
           0,
           1,
           0,
           1,
           1,
           0,
           0,
           1,
           0,
           1,
           0,
           0,
           0,
           1,
           1,
           1,
           0,
           1,
           1,
           0,
           0,
           0,
           0,
           0,
           0,
           1,
           0,
           1,
           0,
           1,
           1,
           1,
           1,
           0,
           0,
           1,
           1,
           1,
           1,
           0,
           0,
           1,
           0,
           1,
           0,
           1,
           0,
           0,
           0,
           0,
           1,
           1,
           1,
           1,
           0,
           1,
           1,
           1,
           0,
           0,
           1,
           0,
           1,
           1,
           1,
           0,
           0,
           0,
           1,
           0,
           1,
           1,
           1,
           0,
           1,
           1,
           0,
           1,
           1,
           1,
           0,
           0,
           1,
           0,
           0,
           0,
           0,
           0,
           0,
           0,
           0,
           1,
           1,
           0,
           0,
           0,
           0,
           1,
           0,
           0,
           1,
           1,
           0,
           0,
           1,
           0,
           0,
           0,
           1,
           0,
           0,
           0,
           0,
           0,
           1,
           1,
           0,
           0,
           0,
           1,
           1,
           1,
           1,
           0,
           0,
           1,
           0,
           0,
           1,
           1,
           1,
           0,
           1,
           1,
           0,
           1,
           1,
           1,
           0,
           1,
           0,
           1,
           1,
           0,
           0,
           1,
           0,
           1,
           0,
           0,
           1,
           0,
           1,
           1,
           1,
           0,
           0,
           0,
           1,
           0,
           1,
           0,
           1,
           1,
           1,
           1,
           0,
           0,
           1,
           0,
           1,
           1,
           0,
           1,
           1,
           0,
           1,
           0,
           0,
           0,
           1,
           1,
           0,
           0,
           0,
           1,
           0,
           1,
           1,
           1,
           1,
           1,
           1,
           1,
           0,
           1,
           0,
           1,
           0,
           1,
           0,
           0,
           0,
           1,
           0,
           1,
           0,
           0,
           1,
           1,
           0,
           0,
           0,
           0,
           0,
           1,
           1,
           1,
           0,
           0,
           1,
           1,
           0,
           0,
           0,
           1,
           0,
           0,
           1,
           0,
           0,
           1,
           1,
           1,
           0,
           1,
           1,
           1,
           1,
           1,
           1,
           1,
           0,
           0,
           0,
           1,
           1,
           0,
           0,
           0,
           0,
           0,
           0,
           0,
           1,
           0,
           0,
           0,
           1,
           0,
           0,
           1,
           0,
           0,
           0,
           0,
           0,
           1,
           0,
           1,
           0,
           0,
           1,
           0,
           1,
           0,
           1,
           0,
           0,
           0,
           0,
           0,
           1,
           1,
           0,
           0,
           1,
           1,
           0,
           0,
           1,
           1,
           1,
           1,
           0,
           0,
           1,
           1,
           0,
           1,
           1,
           0,
           0,
           0,
           0,
           1,
           1,
           1,
           1,
           1,
           1,
           1,
           1,
           1,
           0,
           0,
           1,
           1,
           0,
           1,
           0,
           0,
           1,
           1,
           0,
           1,
           0,
           1,
           1,
           0,
           1,
           0,
           1,
           0,
           1,
           1,
           1,
           0,
           1,
           1,
           0,
           0,
           0,
           1,
           0,
           1,
           0,
           0,
           0,
           1,
           0,
           1,
           0,
           1,
           0,
           0,
           1,
           0,
           0,
           0,
           1,
           1,
           0,
           1,
           0,
           1,
           0,
           1,
           1,
           0,
           0,
           1,
           1,
           0,
           0,
           1,
           0,
           1,
           0,
           1,
           1,
           1,
           0,
           1,
           1,
           1,
           1,
           0,
           0,
           1,
           0,
           0,
           0,
           1,
           1,
           1,
           0,
           1,
           0,
           1,
           0,
           1,
           0,
           1,
           1,
           0,
           1,
           0,
           0,
           1,
           1,
           1,
           1,
           0,
           1,
           1,
           0,
           1,
           1,
           0,
           0,
           0,
           1,
           0,
           0
          ],
          "coloraxis": "coloraxis",
          "opacity": 0.5,
          "symbol": "circle"
         },
         "mode": "markers",
         "name": "",
         "orientation": "v",
         "showlegend": false,
         "type": "scatter",
         "x": [
          -0.5288148426650677,
          -0.17325255450165947,
          -0.30698274362683287,
          -0.1804356595629362,
          0.330771646678781,
          0.47326824437059434,
          -0.9305300477395432,
          0.9331978953318193,
          1.0076252971664874,
          -0.5150539414446899,
          -0.9418297745530098,
          -0.6461151269084047,
          -0.049096987718843854,
          -0.020509832581534486,
          0.33354332179847046,
          -0.20831914654007425,
          0.2621730008433343,
          -0.46898041497625353,
          -0.21232833448782806,
          0.644847102816004,
          -0.22711969977028051,
          0.47492868023079254,
          0.12607344548789756,
          -0.4536460881981782,
          0.1763370987586799,
          -0.43695172402714477,
          0.28016732357756813,
          -0.3732461377973561,
          -0.5770166175607827,
          -0.5223647338774429,
          -0.35577363246023885,
          -0.31017651759668907,
          0.5192186961373921,
          -0.027583931906507767,
          -1.0043618918601598,
          0.48542967354342487,
          -0.14369929881314902,
          -0.06964528557287512,
          -0.1868851985743828,
          0.5791295296618522,
          -0.40859701814991417,
          -1.0368765352759923,
          -0.15567686841220943,
          0.7491167314604075,
          -0.355306920399659,
          -0.9197716457236598,
          0.960348966696527,
          0.5321752676513566,
          0.7287685991093009,
          -1.1554281412074108,
          0.2066807393595147,
          1.0191409063436034,
          -0.810186959100405,
          0.8356934570703093,
          -0.7199438730381214,
          -0.3608316760113117,
          0.11850718235014662,
          0.8577163233937505,
          0.24547015996028965,
          0.5209513591563095,
          -0.3080586136693988,
          0.42823839352843623,
          -0.369208201384896,
          -0.4402661352972794,
          0.4811552039699906,
          0.17742777843113697,
          0.3681791774331485,
          0.4272537563576469,
          -0.14149959413290278,
          0.4305974457220114,
          -0.49212058332202524,
          1.0388739391658173,
          -0.7976236573038213,
          -0.2834617691396181,
          -0.987141560627875,
          -0.6033457528592494,
          0.4396767858601347,
          -1.0136448800665885,
          -0.25547964104287474,
          -0.22917497044051907,
          -0.17309240630837536,
          0.9959890773961096,
          0.2524645837179624,
          1.023204430278608,
          0.530869422699911,
          0.16328885442925933,
          -0.9799478667828324,
          -0.5482870639340582,
          -0.27615735205521424,
          -0.12790137582133454,
          -0.5034376717868675,
          1.002911088748702,
          0.10289041526272369,
          -0.39966335090470184,
          -0.2500151253330668,
          0.7544310365081255,
          0.19454565853504607,
          1.0081333243490025,
          -0.02622048893655234,
          -0.8742205388169327,
          0.07118195378570008,
          -0.5719611029201657,
          -0.34045123604572786,
          -0.38209879278665915,
          -0.15014734908732483,
          0.18365147002893123,
          -0.24691255411958574,
          0.4000496046579601,
          -1.0389804998441365,
          0.6835473355030752,
          0.026296696405621683,
          0.4820365418835924,
          -0.1918654277250406,
          0.3703551399433814,
          -0.9270553629436211,
          0.38965575906419053,
          -0.4442344694157767,
          -0.10103700713724556,
          -0.5521419299947996,
          -1.0300142108693549,
          -0.4242385686033629,
          0.9524974104973255,
          0.443030389557059,
          -0.6522168625419215,
          -0.41990879498871625,
          -0.5053495184787534,
          0.6559345266622947,
          0.5117860878039422,
          -0.46929553353499487,
          0.4818085480992506,
          0.4227186459874736,
          -0.2679546857884209,
          0.5654412802240446,
          -0.8563695292050538,
          -1.0449731599059893,
          -0.4098016067779404,
          0.7949159812049169,
          0.3633772518074552,
          0.01814446465141116,
          0.03565873302093115,
          -1.0237324309471385,
          0.9587905829508403,
          -0.8759625425019443,
          -0.5155533136531907,
          0.8705387343594585,
          -0.02968287255612055,
          0.3444421973699404,
          0.15095442838583328,
          0.8962727760980052,
          0.32872141648969855,
          -0.4956391902416933,
          0.18500927499428602,
          -0.15306993290707427,
          -0.15174366795928032,
          0.33481345389156497,
          0.9966087282193049,
          0.4539018603944589,
          -0.45184582791097394,
          -0.28126790882862185,
          0.3168944417498533,
          -0.7732228829428655,
          -0.61178759416982,
          0.8893918564671542,
          -0.2040469524126402,
          -0.28099256874571743,
          -0.7968315817958908,
          -0.5513710751019492,
          0.44925852052336357,
          -0.7042625003475524,
          -0.470544967828857,
          -0.797597632601389,
          -0.2669766253020318,
          0.5040676664982632,
          0.4455413935959892,
          0.674303578873601,
          0.5001876442579326,
          -0.48533742314447076,
          0.8523436503480891,
          0.7420003543475939,
          -0.4186663406915137,
          -0.7886170860817764,
          0.7695992240065247,
          -0.019693777043161626,
          0.131389247757394,
          0.3990987044960757,
          0.46494988733992726,
          -0.875436934494795,
          1.0312650100387208,
          -0.9444683410344383,
          -0.056078866147414,
          0.4256085839077965,
          -0.09940208417311973,
          0.7957996414513899,
          0.8832124263862876,
          -0.23386169996691758,
          0.509787610055032,
          0.09899676131730423,
          0.47479601745564354,
          0.9681361347162981,
          0.5794145621221476,
          -0.5137253987230684,
          0.8158719647276572,
          0.05840665238553245,
          0.18437469704179205,
          -0.10902673062337137,
          -0.36549460128817557,
          -0.9703743485550059,
          -0.4936984236776356,
          0.8609000090467859,
          0.9591366724977726,
          -0.3110890339022173,
          -0.2893995890697704,
          -0.4272572197203028,
          -0.822984427105768,
          0.48518055527107257,
          -1.0000335054855318,
          0.5650100349250905,
          0.3584576961876162,
          -0.9461235478540239,
          0.8377136441468579,
          0.3976844295588503,
          0.5010941949807212,
          0.068317977900591,
          0.9551855071103703,
          -0.448462476044102,
          0.37797944275703366,
          0.627037530296464,
          0.35644927639773794,
          0.2976331659538084,
          -0.07656852756719987,
          0.9230737663758445,
          0.9005538485937736,
          0.4929553511539694,
          0.239203212684157,
          0.171746596577942,
          -0.07513387720652329,
          -0.9876722338680536,
          0.04585200582147082,
          -0.07651461908318957,
          -0.43974529628143405,
          -0.3209986189888841,
          0.17825285954345851,
          -1.0834883250856842,
          -0.5496265916315084,
          0.5810487016917892,
          0.36763530431798086,
          -0.5992523665143112,
          -0.829367610123777,
          0.47491705569398823,
          0.22769768759581432,
          0.3854223439864315,
          0.21204070754140095,
          -0.4153366888401991,
          0.8504831904779703,
          -0.3439016335503945,
          -0.2582680080571974,
          0.3447603131852195,
          -1.0602974595890617,
          -0.008647346452779063,
          0.07933732738122203,
          -0.6714897493633769,
          -0.0777401993857359,
          -0.39121298380325553,
          -0.3712647818252559,
          -0.5206995521514192,
          0.5261397011645054,
          0.2791102626037567,
          0.3880511830746328,
          0.2580315334173515,
          0.47608795524577746,
          0.10424074483527301,
          0.23006270997172062,
          0.23229392810342706,
          0.545557548121703,
          -0.4970153084835068,
          -0.4786957381638617,
          0.3402544479855987,
          -0.8509696911609528,
          0.09927371827541433,
          0.20194376466698957,
          -0.3499462507373321,
          -0.8589880323953965,
          0.21349508099731124,
          -0.4839731349558007,
          0.11613347917095876,
          0.0332266473287668,
          0.7168139209623509,
          -0.3689864609734435,
          0.8525825505469001,
          -0.7764715335343471,
          -0.5028225361311163,
          0.15369636767042183,
          0.31176755406546786,
          0.9929861408638323,
          0.09295178525094014,
          0.2909749801467692,
          -0.045578819252196645,
          0.931631963530227,
          -0.8911125971590648,
          -0.3333534765615341,
          -0.47278915686981154,
          -0.9794170427855317,
          0.9073952128561444,
          0.2220555356978607,
          -0.6722167620134274,
          -0.7923849256201669,
          0.3411820328590198,
          0.10747509059200684,
          -0.2457709085717702,
          1.0153722365970834,
          -0.3708473002822877,
          0.4245984205416997,
          -0.054895008522769954,
          -0.009680025135436893,
          0.4542421859671672,
          -0.45347681920000465,
          0.4886519104091944,
          -0.5526971797537441,
          0.8634404321413944,
          -0.8583699320490835,
          -0.49243267179339506,
          -0.5144402505273977,
          0.9764568085145414,
          0.8200651000622473,
          0.7852820582440262,
          -0.6709643365571945,
          0.4833105770071687,
          0.7843778520213999,
          -0.7534146633817868,
          0.33490623549333315,
          -0.5431975352609469,
          1.0518709011338174,
          0.6929188871453,
          0.0692463003965608,
          -0.12732253223821757,
          -0.7962021149646312,
          0.1070460476588978,
          0.9235735382743863,
          -0.45078893505658607,
          1.0260397385018445,
          0.291256523301995,
          -0.4342808687367176,
          -0.38084846810928014,
          -0.9396726407123487,
          0.45185122072849226,
          -0.39142700343389103,
          0.9415062616034973,
          -0.5043288365114178,
          -0.15709269620565827,
          -0.4998578440657953,
          -0.5307325328436148,
          0.3298598931440079,
          -0.18105188669236688,
          -0.3452006531244731,
          0.6210919269352912,
          -0.9839121111057552,
          0.07973808148329639,
          -0.22403380466793582,
          -0.3955077956977068,
          -0.8632048070744344,
          0.9699203939173168,
          0.2352949299041208,
          0.32134098983503145,
          -0.14528630521298913,
          0.8801312079255013,
          -0.1760934320963237,
          0.46408225006096376,
          0.2264964847499527,
          -0.010546817030935622,
          1.0068257797129219,
          0.19364810613761252,
          -0.4730084354747211,
          -0.4442935542274352,
          -0.9208861290941717,
          0.0974804456705391,
          -0.06265881013765537,
          0.6158246462299639,
          -0.14743965264027292,
          0.054879507548980196,
          0.5552698087669844,
          0.5022069788164759,
          -0.0600501977251498,
          -0.25779330604459827,
          -0.3880009702398266,
          -0.4885578146073189,
          -0.2985114739176564,
          0.3498383188423806,
          0.4266857799462451,
          0.5430303817085387,
          0.2175806056934142,
          -0.881518179325837,
          0.4648152845348573,
          -0.24705443704841856,
          -0.09714428419374649,
          0.28803687172719006,
          0.32693804432063633,
          -0.9351263515648811,
          -0.028710625836315354,
          0.4217499813218978,
          0.4169850333265545,
          0.5171950476675348,
          -1.010961125131667,
          -0.4380073009624402,
          0.466130437553171,
          0.9434584115514227,
          -0.45113364732774036,
          -0.7181969613328714,
          -0.15100899189407208,
          0.24639574618058072,
          0.5060117961342897,
          -0.10824336803542581,
          0.4276356744491416,
          0.32840515978803375,
          0.40520309392114606,
          0.15028999999753223,
          -0.48383542669390134,
          -0.9507285140134243,
          -0.5491325282078064,
          0.4438643125182435,
          0.26251819274793375,
          0.038824991890568726,
          -0.8894908725907746,
          -0.9270369540563835,
          -0.9740980743849263,
          0.16190754057247225,
          0.3653355552798839,
          0.0712011331632321,
          1.0771046903459478,
          -0.17326917674364004,
          -0.6998558445777763,
          0.04398057727403126,
          -0.5113461700954312,
          -1.0879006166526077,
          0.487463029692551,
          0.2533489186398992,
          0.2904607853489012,
          -0.33633115437251815,
          0.5909879172845531,
          0.05013935261577718,
          -0.5541453295665631,
          -0.07981792447828782,
          0.7520274811251059,
          -0.9752968066373818,
          0.49928993301744257,
          -1.0777147022780187,
          0.5213516651286256,
          -0.2370820220675973,
          -0.043469088469651,
          -1.0082529581676665,
          -0.39142984887224835,
          0.46005851314358165,
          0.5366009627689005,
          -0.15206313533657273,
          0.9430107458350175,
          -0.29314962798829824,
          -0.38974106696356337,
          -0.043134350428116315,
          -0.6309697326401282,
          0.5149418462032819,
          -0.29825014758438534,
          -0.12735880881324033,
          0.26184042083736114,
          -0.02973911367307213,
          -0.6537838643514473,
          -0.3324133137451567,
          -0.9008001442775434,
          -0.8360024083220915,
          0.14070382108026433,
          0.1269102852030144,
          -0.3820871578465636,
          0.3864275298996602,
          0.29929292808021085,
          0.5334805447402073,
          0.060262992803658794,
          -0.07622553360727916,
          0.8489448403527294,
          -0.3321749325321422,
          0.950509624519706,
          0.2684254963187075,
          -0.45613433544292875,
          -0.18263315048277373,
          -0.43247653278668624,
          0.7138652224574571,
          -0.3783097008483311,
          0.43211387141924473,
          0.10258782833496237,
          -0.4307802132799948,
          -0.5134121449672772,
          0.2395669498475285,
          -0.4204713344746735,
          -0.34908019696691867,
          -0.04810338489710212,
          0.03994018538991122,
          -0.1277218395092155,
          -0.5654776936820183,
          0.9733492931135985,
          0.49389525776567295,
          0.44295476936132155,
          0.8307686385090397,
          -0.7652952424283693
         ],
         "xaxis": "x",
         "y": [
          0.3067076238416139,
          -0.9610261510199185,
          0.9806351118355848,
          -0.9763511869039349,
          0.3803139099351671,
          0.0755331468846309,
          0.35170320168843183,
          0.17730922633266316,
          -0.2856167427633966,
          0.018028785541192555,
          0.33532878051358334,
          -0.7645604680896291,
          0.46968457387664275,
          0.4730840491777133,
          0.45597576643422105,
          -0.3539870655953213,
          -0.9371879714196605,
          -0.8136660325722855,
          -0.5049776516778612,
          -0.7416507831046507,
          -0.3589097215816456,
          0.06859984793253418,
          1.0060260300904975,
          -0.18207086025730373,
          -0.48688206238347725,
          0.049545618459778715,
          0.49103971651849543,
          -0.9425092265203997,
          -0.8816515344750547,
          0.0974128530331512,
          0.40448345128157376,
          -0.37373592767728187,
          -0.2523632996469915,
          -0.4535813544930429,
          -0.1073715758745456,
          0.862041414103959,
          0.4613018640755073,
          0.5386895223306631,
          0.9617363869183332,
          -0.7389757624368114,
          -0.3851069253425177,
          -0.2913965720377881,
          0.5088455805324982,
          -0.6016317461581736,
          0.3961312649710833,
          0.19217920256018214,
          0.425484709720346,
          0.012371792745008133,
          -0.7424601533258833,
          -0.08938471721992691,
          0.44410961034035334,
          0.2054364582898658,
          -0.5940074069977119,
          -0.34938446675014934,
          0.690779607471932,
          -0.4170453543989494,
          -0.45696858200711454,
          0.3839391003204824,
          0.4260276755713718,
          -0.8576720558123968,
          0.5043518165732086,
          -0.23499824528768598,
          0.28898909617903945,
          0.24445166630596837,
          0.2309947051617945,
          -0.49661560856493153,
          -0.32862667007615276,
          0.3434401210874454,
          -0.9382100325566906,
          0.0771025474218549,
          0.9031320983861733,
          -0.07030068215921298,
          -0.5103746082161207,
          1.0096845692845617,
          0.022294954279941326,
          0.848547271703041,
          -0.27602839989523703,
          0.13165221050682063,
          -0.4089881612750321,
          0.39866624417139185,
          -0.9847791927311996,
          -0.43224791139408547,
          -0.4147210440197084,
          0.029623090895537645,
          0.12462720603875604,
          0.9477624782081635,
          -0.3250933905563122,
          -0.8766557528497162,
          0.5327572078158905,
          -0.47461061658894393,
          -0.06601719580611984,
          -0.19212878701070302,
          -0.4720467757500073,
          -0.35994172146902526,
          -0.8808314217504339,
          -0.6185983515420381,
          0.48278252363499585,
          0.1319279683709742,
          -1.071465513064386,
          0.6119726462174125,
          -0.5038888519401215,
          -0.7937005246989243,
          -0.2679287269187738,
          0.9657982507697037,
          0.5220365579944544,
          -0.5527164049770619,
          0.4584680821250696,
          -0.37113952026851604,
          0.20938647588473583,
          0.8517972397963113,
          -0.5101580531303735,
          -0.2839436196553672,
          0.47862422464781595,
          0.3588900349074826,
          0.3933401490403738,
          0.881690734702011,
          -0.18633063952422368,
          1.04617943225816,
          -0.038585786990899415,
          0.08409292781158775,
          0.23835844464440675,
          0.18867728800123262,
          0.9435921766793827,
          0.7420079833027027,
          -0.8522247945366432,
          -0.07171830431509603,
          0.7954974579395123,
          0.03732881382672191,
          -0.164737291902152,
          -0.7728477461107573,
          0.3075772326524293,
          -0.39474557438745883,
          0.06754260746114299,
          0.4567234196239617,
          0.2957597624009225,
          -0.27517246958766334,
          -0.6233877870520445,
          -0.08069719278190216,
          0.5694381826486632,
          -0.4099001426291132,
          0.02009711030114063,
          -0.4121315009838956,
          -0.4223867863409513,
          0.20685484363391496,
          0.3445162537787623,
          -0.4860247802918452,
          -0.21716499441777043,
          -0.5062881295136566,
          -0.32473413496002085,
          -0.23047300131772697,
          0.11824680504549834,
          0.9704984414745106,
          -0.5606373902858701,
          0.494900114655115,
          0.4713664533409209,
          -0.31242500268139284,
          0.9228368661478396,
          -0.1906242811047666,
          0.4200644572374513,
          0.8996094807766427,
          -0.6256921323077258,
          0.8619702149475121,
          -0.4029364212835179,
          1.0799181416254284,
          0.9771008222658403,
          -0.5389135543049456,
          0.09437400181710044,
          0.20353903241413,
          -0.6735340489546822,
          0.7965416049628181,
          0.6200636454949886,
          0.984886243760528,
          -0.08026856250468234,
          0.919845458107333,
          0.7330196380837091,
          -0.12100394970227342,
          0.2590367699305433,
          0.4552985712435037,
          -0.5406369793370283,
          0.363113638209549,
          0.6730228072081165,
          0.7072894194041596,
          0.9721005586764417,
          0.4093871259872708,
          -0.9729355061107903,
          -0.9522761966199412,
          -0.5939279335603982,
          0.042208980067657796,
          0.2428457743379272,
          -0.5286937928714581,
          -0.05044067874019858,
          1.033409810706918,
          0.7232799320380755,
          -0.5389400114770635,
          0.48911869897629545,
          -0.1507343925113421,
          0.4695596796557798,
          -0.19686206602401723,
          -0.17300098677758757,
          0.7314846544491599,
          -0.19637495938097152,
          -0.6535267864270343,
          0.971959911410585,
          -0.43635739654287814,
          -0.4363700459622108,
          -0.3393834413679307,
          -0.06259019824368445,
          0.04305374188345074,
          0.642011550287866,
          0.1734971171118087,
          -0.4483663543468512,
          0.38000469107916224,
          0.29486343698794565,
          0.5529005177115585,
          0.0488345448720428,
          -0.18068506436437756,
          -0.22085445669978343,
          0.32470464891432604,
          0.22092588323764642,
          0.4291568496092903,
          -0.26979404131715895,
          -0.8796065088391634,
          0.47424212751959854,
          0.08287342073572125,
          0.9372641899767102,
          0.20676324306309168,
          0.7737183593807917,
          0.17975506765815974,
          -0.2594255153791054,
          -0.4959874096832456,
          0.5271216851887361,
          -0.4044205101289992,
          0.27091882385419586,
          0.3889225733629588,
          -0.986239522596885,
          -0.44744572007193806,
          -0.47820940284612135,
          0.5003594221197796,
          0.5432382308833802,
          0.21510139225032854,
          -0.25294977985084444,
          -0.9909984909567096,
          0.12522962543188448,
          -0.049128169344175486,
          0.7814534303681214,
          0.17457668188580594,
          0.03829274188433848,
          0.6276096441360806,
          0.23867866430051854,
          0.4704919019103153,
          0.8075161578767696,
          -0.4263547067560656,
          -0.8817237302179449,
          0.5629032241751171,
          -0.9103768614898385,
          0.3888819847115197,
          -0.33970516389299416,
          -0.21819603617812255,
          -1.0255983967743687,
          0.8703885049437079,
          -0.6931613611470743,
          -0.9975552921321844,
          -0.13125190091620176,
          0.47578594092971305,
          -0.08982657952868933,
          -0.0358485757348674,
          -0.4361960106442222,
          -0.42100564053283074,
          0.3584296632507546,
          0.8949762336436652,
          0.534790152594222,
          1.0091100454571178,
          0.4811284841990417,
          -0.8638684014950766,
          0.05670240164828005,
          -0.8327473992465693,
          -0.9298828948293778,
          0.6001106020760575,
          0.5622439126114186,
          -0.9255119717203595,
          0.4326761371040561,
          0.48302459851775836,
          -0.9421811118569444,
          0.05365558292821059,
          0.45374007674204575,
          0.98222020159221,
          0.6037495264996695,
          0.8988076541164508,
          0.6318045857264841,
          -0.6312218897118574,
          0.25366855261492643,
          -0.4451790230712255,
          0.3352342523030122,
          0.43858914970890145,
          0.9882706826289215,
          0.4787089819466254,
          -0.5001285084893144,
          0.08740094108038493,
          -0.571688039169269,
          -0.4139732811638222,
          -0.11517592735455942,
          0.2111807247905447,
          0.35435897377242226,
          -0.3479055412688281,
          -0.6893350633498505,
          -0.5053289644000104,
          0.2679344796794112,
          0.4703869025075012,
          0.3681841504961783,
          0.04649070204643116,
          0.3431639414585703,
          -0.31348645552036297,
          -0.5295724985367131,
          -0.5223780616948976,
          -0.063512168894756,
          -0.10377318444115938,
          0.1182285772758502,
          0.816651382413132,
          -0.5736248026581756,
          -0.22758800678143293,
          0.19275209451870304,
          -0.14407384516957372,
          -0.1283920527961958,
          -0.5551628012209398,
          0.5703764751493001,
          0.7261962830753097,
          -0.9019749457131832,
          -0.6555802005815123,
          0.5384784892387126,
          -0.3831860915683578,
          0.7671650842725197,
          0.07956095522294691,
          0.8919007690839575,
          0.4980682944296226,
          -0.9804788173401356,
          0.7152188152901807,
          -0.4073243208106767,
          -0.25065406364952314,
          0.907875338375183,
          -0.29349817850760024,
          -0.8748611785744933,
          -0.11761542385740362,
          -0.08465082628673493,
          -0.3476015275175012,
          -0.06865096412308423,
          -0.9866675889779375,
          -0.3406277977975821,
          0.003929483395705549,
          1.069014061311489,
          -0.1879813594946822,
          0.8430625710059381,
          0.30179440063233165,
          -0.9782025575841374,
          -0.9341731539138486,
          -0.6266432957677539,
          0.4370558648418899,
          -1.0413707121402787,
          -0.47319101125595275,
          -0.13062689380860404,
          -0.5014304572236615,
          -0.05784292129919616,
          -0.31778607033929485,
          -0.38830138351662324,
          1.0908563696211375,
          -0.5050957352758831,
          0.4506727185612098,
          0.10249547382770804,
          0.41005029228093587,
          -0.5012968079706005,
          0.2614749271873306,
          0.9566349411989715,
          0.2920719684279862,
          0.3328947269900787,
          -0.3130080267263392,
          0.42403769423918525,
          -0.4866989576582603,
          -0.6581571903705431,
          -0.9671637627297215,
          -1.0207093300500363,
          -0.7631008597686647,
          0.15110482780904386,
          0.4635609653980037,
          -0.405004361858921,
          -0.2690434587454849,
          -0.18711112930551715,
          0.3471068883295851,
          0.19297679957379504,
          0.2972752468527962,
          -0.15222994837492076,
          0.9492231252424896,
          0.4395538490634074,
          0.28455805118977295,
          -0.34804645146774627,
          -0.9375720747144168,
          0.4785582817433367,
          0.9965377650285323,
          -0.38827290446593127,
          -0.5047317532359001,
          -0.10010306606710803,
          -1.0238748139134706,
          0.22318487696738867,
          -0.3105019975803274,
          -0.23038022397967137,
          0.13991219336836636,
          0.19797462341182476,
          0.07930255842748526,
          0.8073578204800738,
          -0.4320329903993159,
          -0.9698657202462404,
          0.034791698167601456,
          -0.6142423870408666,
          0.08493917100180581,
          0.916067228513026,
          -0.32014967543220685,
          0.4075007879615989,
          -0.8977028782967643,
          -0.319605100024652,
          0.10759892808665839,
          -0.2070343778613976,
          -0.9721974516880895,
          0.45766363569095597,
          -0.4418371507033075,
          0.3247757042527482,
          -0.01497351730704443,
          -0.4656040696934515,
          0.9986364530617158,
          -0.5450290784579771,
          -0.09875903488336107,
          0.4820752728876497,
          -0.8418322518161448,
          -1.0085765280747483,
          0.12165284473942604,
          0.030964556586243,
          -0.9352348303484135,
          0.9325700040044688,
          -0.3670154320672298,
          0.2600590151079339,
          0.7452574090031907,
          0.5722515345747259,
          0.7391548564017852,
          0.4343459127555271,
          0.6914403368659713,
          0.5163509929716199,
          0.16552699398693937,
          -0.06640027387463474,
          -0.8843078499817656,
          -0.4161967231229816,
          0.4756250783385415,
          -0.3129575421049313,
          -0.8942525431955651,
          -0.1824978335583278,
          0.8432539984426425,
          0.44235988672182247,
          -0.2791954110481187,
          0.9805880585187053,
          -0.2971895181773776,
          0.568985773605109,
          0.7681787315658789,
          -0.06142341084339126,
          -0.39919147885203304,
          -0.4778225385351541,
          -0.3448732193162321,
          1.0413001817883027,
          -0.6464574917493338,
          0.40119683519468874,
          0.30161254002918597,
          0.42609767799275505,
          -0.9650957464148253,
          -0.4431948866345532,
          -0.44279881918973607,
          0.2887111213457506,
          -0.9666679061002525,
          0.07424548401975345,
          1.0080440105507498,
          0.5548408149493556,
          0.6414395640499448,
          -0.4394772293273875,
          -0.31305500354387106,
          -0.46268199487522804,
          0.12588612800072474,
          -0.9066702710725303,
          0.31063124936258224,
          -0.7135820653613395,
          0.9596300636888327,
          -0.331015840380498,
          0.5512087880479233,
          -0.14433656466618378,
          0.11452083884233515,
          -0.3767345260144036,
          0.3514827875958187,
          -0.37024517777899474,
          -0.9710407989503217,
          -0.43627711208512077,
          -0.4989746368858131,
          -0.7406369466683543,
          -0.15604756271730602,
          0.9482242594441999,
          -0.05329087571642446,
          0.40784479778712146,
          -0.6965226753196251
         ],
         "yaxis": "y"
        }
       ],
       "layout": {
        "coloraxis": {
         "colorbar": {
          "title": {
           "text": "labels"
          }
         },
         "colorscale": [
          [
           0,
           "rgb(253, 224, 197)"
          ],
          [
           0.16666666666666666,
           "rgb(250, 203, 166)"
          ],
          [
           0.3333333333333333,
           "rgb(248, 181, 139)"
          ],
          [
           0.5,
           "rgb(245, 158, 114)"
          ],
          [
           0.6666666666666666,
           "rgb(242, 133, 93)"
          ],
          [
           0.8333333333333334,
           "rgb(239, 106, 76)"
          ],
          [
           1,
           "rgb(235, 74, 64)"
          ]
         ]
        },
        "legend": {
         "tracegroupgap": 0
        },
        "margin": {
         "t": 60
        },
        "template": {
         "data": {
          "bar": [
           {
            "error_x": {
             "color": "#2a3f5f"
            },
            "error_y": {
             "color": "#2a3f5f"
            },
            "marker": {
             "line": {
              "color": "#E5ECF6",
              "width": 0.5
             },
             "pattern": {
              "fillmode": "overlay",
              "size": 10,
              "solidity": 0.2
             }
            },
            "type": "bar"
           }
          ],
          "barpolar": [
           {
            "marker": {
             "line": {
              "color": "#E5ECF6",
              "width": 0.5
             },
             "pattern": {
              "fillmode": "overlay",
              "size": 10,
              "solidity": 0.2
             }
            },
            "type": "barpolar"
           }
          ],
          "carpet": [
           {
            "aaxis": {
             "endlinecolor": "#2a3f5f",
             "gridcolor": "white",
             "linecolor": "white",
             "minorgridcolor": "white",
             "startlinecolor": "#2a3f5f"
            },
            "baxis": {
             "endlinecolor": "#2a3f5f",
             "gridcolor": "white",
             "linecolor": "white",
             "minorgridcolor": "white",
             "startlinecolor": "#2a3f5f"
            },
            "type": "carpet"
           }
          ],
          "choropleth": [
           {
            "colorbar": {
             "outlinewidth": 0,
             "ticks": ""
            },
            "type": "choropleth"
           }
          ],
          "contour": [
           {
            "colorbar": {
             "outlinewidth": 0,
             "ticks": ""
            },
            "colorscale": [
             [
              0,
              "#0d0887"
             ],
             [
              0.1111111111111111,
              "#46039f"
             ],
             [
              0.2222222222222222,
              "#7201a8"
             ],
             [
              0.3333333333333333,
              "#9c179e"
             ],
             [
              0.4444444444444444,
              "#bd3786"
             ],
             [
              0.5555555555555556,
              "#d8576b"
             ],
             [
              0.6666666666666666,
              "#ed7953"
             ],
             [
              0.7777777777777778,
              "#fb9f3a"
             ],
             [
              0.8888888888888888,
              "#fdca26"
             ],
             [
              1,
              "#f0f921"
             ]
            ],
            "type": "contour"
           }
          ],
          "contourcarpet": [
           {
            "colorbar": {
             "outlinewidth": 0,
             "ticks": ""
            },
            "type": "contourcarpet"
           }
          ],
          "heatmap": [
           {
            "colorbar": {
             "outlinewidth": 0,
             "ticks": ""
            },
            "colorscale": [
             [
              0,
              "#0d0887"
             ],
             [
              0.1111111111111111,
              "#46039f"
             ],
             [
              0.2222222222222222,
              "#7201a8"
             ],
             [
              0.3333333333333333,
              "#9c179e"
             ],
             [
              0.4444444444444444,
              "#bd3786"
             ],
             [
              0.5555555555555556,
              "#d8576b"
             ],
             [
              0.6666666666666666,
              "#ed7953"
             ],
             [
              0.7777777777777778,
              "#fb9f3a"
             ],
             [
              0.8888888888888888,
              "#fdca26"
             ],
             [
              1,
              "#f0f921"
             ]
            ],
            "type": "heatmap"
           }
          ],
          "heatmapgl": [
           {
            "colorbar": {
             "outlinewidth": 0,
             "ticks": ""
            },
            "colorscale": [
             [
              0,
              "#0d0887"
             ],
             [
              0.1111111111111111,
              "#46039f"
             ],
             [
              0.2222222222222222,
              "#7201a8"
             ],
             [
              0.3333333333333333,
              "#9c179e"
             ],
             [
              0.4444444444444444,
              "#bd3786"
             ],
             [
              0.5555555555555556,
              "#d8576b"
             ],
             [
              0.6666666666666666,
              "#ed7953"
             ],
             [
              0.7777777777777778,
              "#fb9f3a"
             ],
             [
              0.8888888888888888,
              "#fdca26"
             ],
             [
              1,
              "#f0f921"
             ]
            ],
            "type": "heatmapgl"
           }
          ],
          "histogram": [
           {
            "marker": {
             "pattern": {
              "fillmode": "overlay",
              "size": 10,
              "solidity": 0.2
             }
            },
            "type": "histogram"
           }
          ],
          "histogram2d": [
           {
            "colorbar": {
             "outlinewidth": 0,
             "ticks": ""
            },
            "colorscale": [
             [
              0,
              "#0d0887"
             ],
             [
              0.1111111111111111,
              "#46039f"
             ],
             [
              0.2222222222222222,
              "#7201a8"
             ],
             [
              0.3333333333333333,
              "#9c179e"
             ],
             [
              0.4444444444444444,
              "#bd3786"
             ],
             [
              0.5555555555555556,
              "#d8576b"
             ],
             [
              0.6666666666666666,
              "#ed7953"
             ],
             [
              0.7777777777777778,
              "#fb9f3a"
             ],
             [
              0.8888888888888888,
              "#fdca26"
             ],
             [
              1,
              "#f0f921"
             ]
            ],
            "type": "histogram2d"
           }
          ],
          "histogram2dcontour": [
           {
            "colorbar": {
             "outlinewidth": 0,
             "ticks": ""
            },
            "colorscale": [
             [
              0,
              "#0d0887"
             ],
             [
              0.1111111111111111,
              "#46039f"
             ],
             [
              0.2222222222222222,
              "#7201a8"
             ],
             [
              0.3333333333333333,
              "#9c179e"
             ],
             [
              0.4444444444444444,
              "#bd3786"
             ],
             [
              0.5555555555555556,
              "#d8576b"
             ],
             [
              0.6666666666666666,
              "#ed7953"
             ],
             [
              0.7777777777777778,
              "#fb9f3a"
             ],
             [
              0.8888888888888888,
              "#fdca26"
             ],
             [
              1,
              "#f0f921"
             ]
            ],
            "type": "histogram2dcontour"
           }
          ],
          "mesh3d": [
           {
            "colorbar": {
             "outlinewidth": 0,
             "ticks": ""
            },
            "type": "mesh3d"
           }
          ],
          "parcoords": [
           {
            "line": {
             "colorbar": {
              "outlinewidth": 0,
              "ticks": ""
             }
            },
            "type": "parcoords"
           }
          ],
          "pie": [
           {
            "automargin": true,
            "type": "pie"
           }
          ],
          "scatter": [
           {
            "fillpattern": {
             "fillmode": "overlay",
             "size": 10,
             "solidity": 0.2
            },
            "type": "scatter"
           }
          ],
          "scatter3d": [
           {
            "line": {
             "colorbar": {
              "outlinewidth": 0,
              "ticks": ""
             }
            },
            "marker": {
             "colorbar": {
              "outlinewidth": 0,
              "ticks": ""
             }
            },
            "type": "scatter3d"
           }
          ],
          "scattercarpet": [
           {
            "marker": {
             "colorbar": {
              "outlinewidth": 0,
              "ticks": ""
             }
            },
            "type": "scattercarpet"
           }
          ],
          "scattergeo": [
           {
            "marker": {
             "colorbar": {
              "outlinewidth": 0,
              "ticks": ""
             }
            },
            "type": "scattergeo"
           }
          ],
          "scattergl": [
           {
            "marker": {
             "colorbar": {
              "outlinewidth": 0,
              "ticks": ""
             }
            },
            "type": "scattergl"
           }
          ],
          "scattermapbox": [
           {
            "marker": {
             "colorbar": {
              "outlinewidth": 0,
              "ticks": ""
             }
            },
            "type": "scattermapbox"
           }
          ],
          "scatterpolar": [
           {
            "marker": {
             "colorbar": {
              "outlinewidth": 0,
              "ticks": ""
             }
            },
            "type": "scatterpolar"
           }
          ],
          "scatterpolargl": [
           {
            "marker": {
             "colorbar": {
              "outlinewidth": 0,
              "ticks": ""
             }
            },
            "type": "scatterpolargl"
           }
          ],
          "scatterternary": [
           {
            "marker": {
             "colorbar": {
              "outlinewidth": 0,
              "ticks": ""
             }
            },
            "type": "scatterternary"
           }
          ],
          "surface": [
           {
            "colorbar": {
             "outlinewidth": 0,
             "ticks": ""
            },
            "colorscale": [
             [
              0,
              "#0d0887"
             ],
             [
              0.1111111111111111,
              "#46039f"
             ],
             [
              0.2222222222222222,
              "#7201a8"
             ],
             [
              0.3333333333333333,
              "#9c179e"
             ],
             [
              0.4444444444444444,
              "#bd3786"
             ],
             [
              0.5555555555555556,
              "#d8576b"
             ],
             [
              0.6666666666666666,
              "#ed7953"
             ],
             [
              0.7777777777777778,
              "#fb9f3a"
             ],
             [
              0.8888888888888888,
              "#fdca26"
             ],
             [
              1,
              "#f0f921"
             ]
            ],
            "type": "surface"
           }
          ],
          "table": [
           {
            "cells": {
             "fill": {
              "color": "#EBF0F8"
             },
             "line": {
              "color": "white"
             }
            },
            "header": {
             "fill": {
              "color": "#C8D4E3"
             },
             "line": {
              "color": "white"
             }
            },
            "type": "table"
           }
          ]
         },
         "layout": {
          "annotationdefaults": {
           "arrowcolor": "#2a3f5f",
           "arrowhead": 0,
           "arrowwidth": 1
          },
          "autotypenumbers": "strict",
          "coloraxis": {
           "colorbar": {
            "outlinewidth": 0,
            "ticks": ""
           }
          },
          "colorscale": {
           "diverging": [
            [
             0,
             "#8e0152"
            ],
            [
             0.1,
             "#c51b7d"
            ],
            [
             0.2,
             "#de77ae"
            ],
            [
             0.3,
             "#f1b6da"
            ],
            [
             0.4,
             "#fde0ef"
            ],
            [
             0.5,
             "#f7f7f7"
            ],
            [
             0.6,
             "#e6f5d0"
            ],
            [
             0.7,
             "#b8e186"
            ],
            [
             0.8,
             "#7fbc41"
            ],
            [
             0.9,
             "#4d9221"
            ],
            [
             1,
             "#276419"
            ]
           ],
           "sequential": [
            [
             0,
             "#0d0887"
            ],
            [
             0.1111111111111111,
             "#46039f"
            ],
            [
             0.2222222222222222,
             "#7201a8"
            ],
            [
             0.3333333333333333,
             "#9c179e"
            ],
            [
             0.4444444444444444,
             "#bd3786"
            ],
            [
             0.5555555555555556,
             "#d8576b"
            ],
            [
             0.6666666666666666,
             "#ed7953"
            ],
            [
             0.7777777777777778,
             "#fb9f3a"
            ],
            [
             0.8888888888888888,
             "#fdca26"
            ],
            [
             1,
             "#f0f921"
            ]
           ],
           "sequentialminus": [
            [
             0,
             "#0d0887"
            ],
            [
             0.1111111111111111,
             "#46039f"
            ],
            [
             0.2222222222222222,
             "#7201a8"
            ],
            [
             0.3333333333333333,
             "#9c179e"
            ],
            [
             0.4444444444444444,
             "#bd3786"
            ],
            [
             0.5555555555555556,
             "#d8576b"
            ],
            [
             0.6666666666666666,
             "#ed7953"
            ],
            [
             0.7777777777777778,
             "#fb9f3a"
            ],
            [
             0.8888888888888888,
             "#fdca26"
            ],
            [
             1,
             "#f0f921"
            ]
           ]
          },
          "colorway": [
           "#636efa",
           "#EF553B",
           "#00cc96",
           "#ab63fa",
           "#FFA15A",
           "#19d3f3",
           "#FF6692",
           "#B6E880",
           "#FF97FF",
           "#FECB52"
          ],
          "font": {
           "color": "#2a3f5f"
          },
          "geo": {
           "bgcolor": "white",
           "lakecolor": "white",
           "landcolor": "#E5ECF6",
           "showlakes": true,
           "showland": true,
           "subunitcolor": "white"
          },
          "hoverlabel": {
           "align": "left"
          },
          "hovermode": "closest",
          "mapbox": {
           "style": "light"
          },
          "paper_bgcolor": "white",
          "plot_bgcolor": "#E5ECF6",
          "polar": {
           "angularaxis": {
            "gridcolor": "white",
            "linecolor": "white",
            "ticks": ""
           },
           "bgcolor": "#E5ECF6",
           "radialaxis": {
            "gridcolor": "white",
            "linecolor": "white",
            "ticks": ""
           }
          },
          "scene": {
           "xaxis": {
            "backgroundcolor": "#E5ECF6",
            "gridcolor": "white",
            "gridwidth": 2,
            "linecolor": "white",
            "showbackground": true,
            "ticks": "",
            "zerolinecolor": "white"
           },
           "yaxis": {
            "backgroundcolor": "#E5ECF6",
            "gridcolor": "white",
            "gridwidth": 2,
            "linecolor": "white",
            "showbackground": true,
            "ticks": "",
            "zerolinecolor": "white"
           },
           "zaxis": {
            "backgroundcolor": "#E5ECF6",
            "gridcolor": "white",
            "gridwidth": 2,
            "linecolor": "white",
            "showbackground": true,
            "ticks": "",
            "zerolinecolor": "white"
           }
          },
          "shapedefaults": {
           "line": {
            "color": "#2a3f5f"
           }
          },
          "ternary": {
           "aaxis": {
            "gridcolor": "white",
            "linecolor": "white",
            "ticks": ""
           },
           "baxis": {
            "gridcolor": "white",
            "linecolor": "white",
            "ticks": ""
           },
           "bgcolor": "#E5ECF6",
           "caxis": {
            "gridcolor": "white",
            "linecolor": "white",
            "ticks": ""
           }
          },
          "title": {
           "x": 0.05
          },
          "xaxis": {
           "automargin": true,
           "gridcolor": "white",
           "linecolor": "white",
           "ticks": "",
           "title": {
            "standoff": 15
           },
           "zerolinecolor": "white",
           "zerolinewidth": 2
          },
          "yaxis": {
           "automargin": true,
           "gridcolor": "white",
           "linecolor": "white",
           "ticks": "",
           "title": {
            "standoff": 15
           },
           "zerolinecolor": "white",
           "zerolinewidth": 2
          }
         }
        },
        "xaxis": {
         "anchor": "y",
         "domain": [
          0,
          1
         ],
         "title": {
          "text": "x1"
         }
        },
        "yaxis": {
         "anchor": "x",
         "domain": [
          0,
          1
         ],
         "title": {
          "text": "x2"
         }
        }
       }
      },
      "text/html": [
       "<div>                        <script type=\"text/javascript\">window.PlotlyConfig = {MathJaxConfig: 'local'};</script>\n",
       "        <script charset=\"utf-8\" src=\"https://cdn.plot.ly/plotly-2.20.0.min.js\"></script>                <div id=\"777a611f-17a1-4860-87b2-f8a6e1413fb9\" class=\"plotly-graph-div\" style=\"height:100%; width:100%;\"></div>            <script type=\"text/javascript\">                                    window.PLOTLYENV=window.PLOTLYENV || {};                                    if (document.getElementById(\"777a611f-17a1-4860-87b2-f8a6e1413fb9\")) {                    Plotly.newPlot(                        \"777a611f-17a1-4860-87b2-f8a6e1413fb9\",                        [{\"hovertemplate\":\"x1=%{x}<br>x2=%{y}<br>labels=%{marker.color}<extra></extra>\",\"legendgroup\":\"\",\"marker\":{\"color\":[1,0,0,0,1,1,0,0,1,1,0,0,1,1,1,1,0,1,0,0,1,1,0,1,1,1,1,0,0,1,1,1,1,1,0,0,1,1,0,0,1,0,1,0,1,0,0,1,0,0,1,0,0,0,0,1,1,0,1,0,1,1,1,1,1,1,1,1,0,1,0,0,0,0,0,0,1,0,1,1,0,0,1,0,1,0,0,0,1,1,1,0,1,1,0,0,0,0,0,0,1,0,1,0,1,1,1,1,0,0,1,1,1,1,0,0,1,0,1,0,1,0,0,0,0,1,1,1,1,0,1,1,1,0,0,1,0,1,1,1,0,0,0,1,0,1,1,1,0,1,1,0,1,1,1,0,0,1,0,0,0,0,0,0,0,0,1,1,0,0,0,0,1,0,0,1,1,0,0,1,0,0,0,1,0,0,0,0,0,1,1,0,0,0,1,1,1,1,0,0,1,0,0,1,1,1,0,1,1,0,1,1,1,0,1,0,1,1,0,0,1,0,1,0,0,1,0,1,1,1,0,0,0,1,0,1,0,1,1,1,1,0,0,1,0,1,1,0,1,1,0,1,0,0,0,1,1,0,0,0,1,0,1,1,1,1,1,1,1,0,1,0,1,0,1,0,0,0,1,0,1,0,0,1,1,0,0,0,0,0,1,1,1,0,0,1,1,0,0,0,1,0,0,1,0,0,1,1,1,0,1,1,1,1,1,1,1,0,0,0,1,1,0,0,0,0,0,0,0,1,0,0,0,1,0,0,1,0,0,0,0,0,1,0,1,0,0,1,0,1,0,1,0,0,0,0,0,1,1,0,0,1,1,0,0,1,1,1,1,0,0,1,1,0,1,1,0,0,0,0,1,1,1,1,1,1,1,1,1,0,0,1,1,0,1,0,0,1,1,0,1,0,1,1,0,1,0,1,0,1,1,1,0,1,1,0,0,0,1,0,1,0,0,0,1,0,1,0,1,0,0,1,0,0,0,1,1,0,1,0,1,0,1,1,0,0,1,1,0,0,1,0,1,0,1,1,1,0,1,1,1,1,0,0,1,0,0,0,1,1,1,0,1,0,1,0,1,0,1,1,0,1,0,0,1,1,1,1,0,1,1,0,1,1,0,0,0,1,0,0],\"coloraxis\":\"coloraxis\",\"opacity\":0.5,\"symbol\":\"circle\"},\"mode\":\"markers\",\"name\":\"\",\"orientation\":\"v\",\"showlegend\":false,\"x\":[-0.5288148426650677,-0.17325255450165947,-0.30698274362683287,-0.1804356595629362,0.330771646678781,0.47326824437059434,-0.9305300477395432,0.9331978953318193,1.0076252971664874,-0.5150539414446899,-0.9418297745530098,-0.6461151269084047,-0.049096987718843854,-0.020509832581534486,0.33354332179847046,-0.20831914654007425,0.2621730008433343,-0.46898041497625353,-0.21232833448782806,0.644847102816004,-0.22711969977028051,0.47492868023079254,0.12607344548789756,-0.4536460881981782,0.1763370987586799,-0.43695172402714477,0.28016732357756813,-0.3732461377973561,-0.5770166175607827,-0.5223647338774429,-0.35577363246023885,-0.31017651759668907,0.5192186961373921,-0.027583931906507767,-1.0043618918601598,0.48542967354342487,-0.14369929881314902,-0.06964528557287512,-0.1868851985743828,0.5791295296618522,-0.40859701814991417,-1.0368765352759923,-0.15567686841220943,0.7491167314604075,-0.355306920399659,-0.9197716457236598,0.960348966696527,0.5321752676513566,0.7287685991093009,-1.1554281412074108,0.2066807393595147,1.0191409063436034,-0.810186959100405,0.8356934570703093,-0.7199438730381214,-0.3608316760113117,0.11850718235014662,0.8577163233937505,0.24547015996028965,0.5209513591563095,-0.3080586136693988,0.42823839352843623,-0.369208201384896,-0.4402661352972794,0.4811552039699906,0.17742777843113697,0.3681791774331485,0.4272537563576469,-0.14149959413290278,0.4305974457220114,-0.49212058332202524,1.0388739391658173,-0.7976236573038213,-0.2834617691396181,-0.987141560627875,-0.6033457528592494,0.4396767858601347,-1.0136448800665885,-0.25547964104287474,-0.22917497044051907,-0.17309240630837536,0.9959890773961096,0.2524645837179624,1.023204430278608,0.530869422699911,0.16328885442925933,-0.9799478667828324,-0.5482870639340582,-0.27615735205521424,-0.12790137582133454,-0.5034376717868675,1.002911088748702,0.10289041526272369,-0.39966335090470184,-0.2500151253330668,0.7544310365081255,0.19454565853504607,1.0081333243490025,-0.02622048893655234,-0.8742205388169327,0.07118195378570008,-0.5719611029201657,-0.34045123604572786,-0.38209879278665915,-0.15014734908732483,0.18365147002893123,-0.24691255411958574,0.4000496046579601,-1.0389804998441365,0.6835473355030752,0.026296696405621683,0.4820365418835924,-0.1918654277250406,0.3703551399433814,-0.9270553629436211,0.38965575906419053,-0.4442344694157767,-0.10103700713724556,-0.5521419299947996,-1.0300142108693549,-0.4242385686033629,0.9524974104973255,0.443030389557059,-0.6522168625419215,-0.41990879498871625,-0.5053495184787534,0.6559345266622947,0.5117860878039422,-0.46929553353499487,0.4818085480992506,0.4227186459874736,-0.2679546857884209,0.5654412802240446,-0.8563695292050538,-1.0449731599059893,-0.4098016067779404,0.7949159812049169,0.3633772518074552,0.01814446465141116,0.03565873302093115,-1.0237324309471385,0.9587905829508403,-0.8759625425019443,-0.5155533136531907,0.8705387343594585,-0.02968287255612055,0.3444421973699404,0.15095442838583328,0.8962727760980052,0.32872141648969855,-0.4956391902416933,0.18500927499428602,-0.15306993290707427,-0.15174366795928032,0.33481345389156497,0.9966087282193049,0.4539018603944589,-0.45184582791097394,-0.28126790882862185,0.3168944417498533,-0.7732228829428655,-0.61178759416982,0.8893918564671542,-0.2040469524126402,-0.28099256874571743,-0.7968315817958908,-0.5513710751019492,0.44925852052336357,-0.7042625003475524,-0.470544967828857,-0.797597632601389,-0.2669766253020318,0.5040676664982632,0.4455413935959892,0.674303578873601,0.5001876442579326,-0.48533742314447076,0.8523436503480891,0.7420003543475939,-0.4186663406915137,-0.7886170860817764,0.7695992240065247,-0.019693777043161626,0.131389247757394,0.3990987044960757,0.46494988733992726,-0.875436934494795,1.0312650100387208,-0.9444683410344383,-0.056078866147414,0.4256085839077965,-0.09940208417311973,0.7957996414513899,0.8832124263862876,-0.23386169996691758,0.509787610055032,0.09899676131730423,0.47479601745564354,0.9681361347162981,0.5794145621221476,-0.5137253987230684,0.8158719647276572,0.05840665238553245,0.18437469704179205,-0.10902673062337137,-0.36549460128817557,-0.9703743485550059,-0.4936984236776356,0.8609000090467859,0.9591366724977726,-0.3110890339022173,-0.2893995890697704,-0.4272572197203028,-0.822984427105768,0.48518055527107257,-1.0000335054855318,0.5650100349250905,0.3584576961876162,-0.9461235478540239,0.8377136441468579,0.3976844295588503,0.5010941949807212,0.068317977900591,0.9551855071103703,-0.448462476044102,0.37797944275703366,0.627037530296464,0.35644927639773794,0.2976331659538084,-0.07656852756719987,0.9230737663758445,0.9005538485937736,0.4929553511539694,0.239203212684157,0.171746596577942,-0.07513387720652329,-0.9876722338680536,0.04585200582147082,-0.07651461908318957,-0.43974529628143405,-0.3209986189888841,0.17825285954345851,-1.0834883250856842,-0.5496265916315084,0.5810487016917892,0.36763530431798086,-0.5992523665143112,-0.829367610123777,0.47491705569398823,0.22769768759581432,0.3854223439864315,0.21204070754140095,-0.4153366888401991,0.8504831904779703,-0.3439016335503945,-0.2582680080571974,0.3447603131852195,-1.0602974595890617,-0.008647346452779063,0.07933732738122203,-0.6714897493633769,-0.0777401993857359,-0.39121298380325553,-0.3712647818252559,-0.5206995521514192,0.5261397011645054,0.2791102626037567,0.3880511830746328,0.2580315334173515,0.47608795524577746,0.10424074483527301,0.23006270997172062,0.23229392810342706,0.545557548121703,-0.4970153084835068,-0.4786957381638617,0.3402544479855987,-0.8509696911609528,0.09927371827541433,0.20194376466698957,-0.3499462507373321,-0.8589880323953965,0.21349508099731124,-0.4839731349558007,0.11613347917095876,0.0332266473287668,0.7168139209623509,-0.3689864609734435,0.8525825505469001,-0.7764715335343471,-0.5028225361311163,0.15369636767042183,0.31176755406546786,0.9929861408638323,0.09295178525094014,0.2909749801467692,-0.045578819252196645,0.931631963530227,-0.8911125971590648,-0.3333534765615341,-0.47278915686981154,-0.9794170427855317,0.9073952128561444,0.2220555356978607,-0.6722167620134274,-0.7923849256201669,0.3411820328590198,0.10747509059200684,-0.2457709085717702,1.0153722365970834,-0.3708473002822877,0.4245984205416997,-0.054895008522769954,-0.009680025135436893,0.4542421859671672,-0.45347681920000465,0.4886519104091944,-0.5526971797537441,0.8634404321413944,-0.8583699320490835,-0.49243267179339506,-0.5144402505273977,0.9764568085145414,0.8200651000622473,0.7852820582440262,-0.6709643365571945,0.4833105770071687,0.7843778520213999,-0.7534146633817868,0.33490623549333315,-0.5431975352609469,1.0518709011338174,0.6929188871453,0.0692463003965608,-0.12732253223821757,-0.7962021149646312,0.1070460476588978,0.9235735382743863,-0.45078893505658607,1.0260397385018445,0.291256523301995,-0.4342808687367176,-0.38084846810928014,-0.9396726407123487,0.45185122072849226,-0.39142700343389103,0.9415062616034973,-0.5043288365114178,-0.15709269620565827,-0.4998578440657953,-0.5307325328436148,0.3298598931440079,-0.18105188669236688,-0.3452006531244731,0.6210919269352912,-0.9839121111057552,0.07973808148329639,-0.22403380466793582,-0.3955077956977068,-0.8632048070744344,0.9699203939173168,0.2352949299041208,0.32134098983503145,-0.14528630521298913,0.8801312079255013,-0.1760934320963237,0.46408225006096376,0.2264964847499527,-0.010546817030935622,1.0068257797129219,0.19364810613761252,-0.4730084354747211,-0.4442935542274352,-0.9208861290941717,0.0974804456705391,-0.06265881013765537,0.6158246462299639,-0.14743965264027292,0.054879507548980196,0.5552698087669844,0.5022069788164759,-0.0600501977251498,-0.25779330604459827,-0.3880009702398266,-0.4885578146073189,-0.2985114739176564,0.3498383188423806,0.4266857799462451,0.5430303817085387,0.2175806056934142,-0.881518179325837,0.4648152845348573,-0.24705443704841856,-0.09714428419374649,0.28803687172719006,0.32693804432063633,-0.9351263515648811,-0.028710625836315354,0.4217499813218978,0.4169850333265545,0.5171950476675348,-1.010961125131667,-0.4380073009624402,0.466130437553171,0.9434584115514227,-0.45113364732774036,-0.7181969613328714,-0.15100899189407208,0.24639574618058072,0.5060117961342897,-0.10824336803542581,0.4276356744491416,0.32840515978803375,0.40520309392114606,0.15028999999753223,-0.48383542669390134,-0.9507285140134243,-0.5491325282078064,0.4438643125182435,0.26251819274793375,0.038824991890568726,-0.8894908725907746,-0.9270369540563835,-0.9740980743849263,0.16190754057247225,0.3653355552798839,0.0712011331632321,1.0771046903459478,-0.17326917674364004,-0.6998558445777763,0.04398057727403126,-0.5113461700954312,-1.0879006166526077,0.487463029692551,0.2533489186398992,0.2904607853489012,-0.33633115437251815,0.5909879172845531,0.05013935261577718,-0.5541453295665631,-0.07981792447828782,0.7520274811251059,-0.9752968066373818,0.49928993301744257,-1.0777147022780187,0.5213516651286256,-0.2370820220675973,-0.043469088469651,-1.0082529581676665,-0.39142984887224835,0.46005851314358165,0.5366009627689005,-0.15206313533657273,0.9430107458350175,-0.29314962798829824,-0.38974106696356337,-0.043134350428116315,-0.6309697326401282,0.5149418462032819,-0.29825014758438534,-0.12735880881324033,0.26184042083736114,-0.02973911367307213,-0.6537838643514473,-0.3324133137451567,-0.9008001442775434,-0.8360024083220915,0.14070382108026433,0.1269102852030144,-0.3820871578465636,0.3864275298996602,0.29929292808021085,0.5334805447402073,0.060262992803658794,-0.07622553360727916,0.8489448403527294,-0.3321749325321422,0.950509624519706,0.2684254963187075,-0.45613433544292875,-0.18263315048277373,-0.43247653278668624,0.7138652224574571,-0.3783097008483311,0.43211387141924473,0.10258782833496237,-0.4307802132799948,-0.5134121449672772,0.2395669498475285,-0.4204713344746735,-0.34908019696691867,-0.04810338489710212,0.03994018538991122,-0.1277218395092155,-0.5654776936820183,0.9733492931135985,0.49389525776567295,0.44295476936132155,0.8307686385090397,-0.7652952424283693],\"xaxis\":\"x\",\"y\":[0.3067076238416139,-0.9610261510199185,0.9806351118355848,-0.9763511869039349,0.3803139099351671,0.0755331468846309,0.35170320168843183,0.17730922633266316,-0.2856167427633966,0.018028785541192555,0.33532878051358334,-0.7645604680896291,0.46968457387664275,0.4730840491777133,0.45597576643422105,-0.3539870655953213,-0.9371879714196605,-0.8136660325722855,-0.5049776516778612,-0.7416507831046507,-0.3589097215816456,0.06859984793253418,1.0060260300904975,-0.18207086025730373,-0.48688206238347725,0.049545618459778715,0.49103971651849543,-0.9425092265203997,-0.8816515344750547,0.0974128530331512,0.40448345128157376,-0.37373592767728187,-0.2523632996469915,-0.4535813544930429,-0.1073715758745456,0.862041414103959,0.4613018640755073,0.5386895223306631,0.9617363869183332,-0.7389757624368114,-0.3851069253425177,-0.2913965720377881,0.5088455805324982,-0.6016317461581736,0.3961312649710833,0.19217920256018214,0.425484709720346,0.012371792745008133,-0.7424601533258833,-0.08938471721992691,0.44410961034035334,0.2054364582898658,-0.5940074069977119,-0.34938446675014934,0.690779607471932,-0.4170453543989494,-0.45696858200711454,0.3839391003204824,0.4260276755713718,-0.8576720558123968,0.5043518165732086,-0.23499824528768598,0.28898909617903945,0.24445166630596837,0.2309947051617945,-0.49661560856493153,-0.32862667007615276,0.3434401210874454,-0.9382100325566906,0.0771025474218549,0.9031320983861733,-0.07030068215921298,-0.5103746082161207,1.0096845692845617,0.022294954279941326,0.848547271703041,-0.27602839989523703,0.13165221050682063,-0.4089881612750321,0.39866624417139185,-0.9847791927311996,-0.43224791139408547,-0.4147210440197084,0.029623090895537645,0.12462720603875604,0.9477624782081635,-0.3250933905563122,-0.8766557528497162,0.5327572078158905,-0.47461061658894393,-0.06601719580611984,-0.19212878701070302,-0.4720467757500073,-0.35994172146902526,-0.8808314217504339,-0.6185983515420381,0.48278252363499585,0.1319279683709742,-1.071465513064386,0.6119726462174125,-0.5038888519401215,-0.7937005246989243,-0.2679287269187738,0.9657982507697037,0.5220365579944544,-0.5527164049770619,0.4584680821250696,-0.37113952026851604,0.20938647588473583,0.8517972397963113,-0.5101580531303735,-0.2839436196553672,0.47862422464781595,0.3588900349074826,0.3933401490403738,0.881690734702011,-0.18633063952422368,1.04617943225816,-0.038585786990899415,0.08409292781158775,0.23835844464440675,0.18867728800123262,0.9435921766793827,0.7420079833027027,-0.8522247945366432,-0.07171830431509603,0.7954974579395123,0.03732881382672191,-0.164737291902152,-0.7728477461107573,0.3075772326524293,-0.39474557438745883,0.06754260746114299,0.4567234196239617,0.2957597624009225,-0.27517246958766334,-0.6233877870520445,-0.08069719278190216,0.5694381826486632,-0.4099001426291132,0.02009711030114063,-0.4121315009838956,-0.4223867863409513,0.20685484363391496,0.3445162537787623,-0.4860247802918452,-0.21716499441777043,-0.5062881295136566,-0.32473413496002085,-0.23047300131772697,0.11824680504549834,0.9704984414745106,-0.5606373902858701,0.494900114655115,0.4713664533409209,-0.31242500268139284,0.9228368661478396,-0.1906242811047666,0.4200644572374513,0.8996094807766427,-0.6256921323077258,0.8619702149475121,-0.4029364212835179,1.0799181416254284,0.9771008222658403,-0.5389135543049456,0.09437400181710044,0.20353903241413,-0.6735340489546822,0.7965416049628181,0.6200636454949886,0.984886243760528,-0.08026856250468234,0.919845458107333,0.7330196380837091,-0.12100394970227342,0.2590367699305433,0.4552985712435037,-0.5406369793370283,0.363113638209549,0.6730228072081165,0.7072894194041596,0.9721005586764417,0.4093871259872708,-0.9729355061107903,-0.9522761966199412,-0.5939279335603982,0.042208980067657796,0.2428457743379272,-0.5286937928714581,-0.05044067874019858,1.033409810706918,0.7232799320380755,-0.5389400114770635,0.48911869897629545,-0.1507343925113421,0.4695596796557798,-0.19686206602401723,-0.17300098677758757,0.7314846544491599,-0.19637495938097152,-0.6535267864270343,0.971959911410585,-0.43635739654287814,-0.4363700459622108,-0.3393834413679307,-0.06259019824368445,0.04305374188345074,0.642011550287866,0.1734971171118087,-0.4483663543468512,0.38000469107916224,0.29486343698794565,0.5529005177115585,0.0488345448720428,-0.18068506436437756,-0.22085445669978343,0.32470464891432604,0.22092588323764642,0.4291568496092903,-0.26979404131715895,-0.8796065088391634,0.47424212751959854,0.08287342073572125,0.9372641899767102,0.20676324306309168,0.7737183593807917,0.17975506765815974,-0.2594255153791054,-0.4959874096832456,0.5271216851887361,-0.4044205101289992,0.27091882385419586,0.3889225733629588,-0.986239522596885,-0.44744572007193806,-0.47820940284612135,0.5003594221197796,0.5432382308833802,0.21510139225032854,-0.25294977985084444,-0.9909984909567096,0.12522962543188448,-0.049128169344175486,0.7814534303681214,0.17457668188580594,0.03829274188433848,0.6276096441360806,0.23867866430051854,0.4704919019103153,0.8075161578767696,-0.4263547067560656,-0.8817237302179449,0.5629032241751171,-0.9103768614898385,0.3888819847115197,-0.33970516389299416,-0.21819603617812255,-1.0255983967743687,0.8703885049437079,-0.6931613611470743,-0.9975552921321844,-0.13125190091620176,0.47578594092971305,-0.08982657952868933,-0.0358485757348674,-0.4361960106442222,-0.42100564053283074,0.3584296632507546,0.8949762336436652,0.534790152594222,1.0091100454571178,0.4811284841990417,-0.8638684014950766,0.05670240164828005,-0.8327473992465693,-0.9298828948293778,0.6001106020760575,0.5622439126114186,-0.9255119717203595,0.4326761371040561,0.48302459851775836,-0.9421811118569444,0.05365558292821059,0.45374007674204575,0.98222020159221,0.6037495264996695,0.8988076541164508,0.6318045857264841,-0.6312218897118574,0.25366855261492643,-0.4451790230712255,0.3352342523030122,0.43858914970890145,0.9882706826289215,0.4787089819466254,-0.5001285084893144,0.08740094108038493,-0.571688039169269,-0.4139732811638222,-0.11517592735455942,0.2111807247905447,0.35435897377242226,-0.3479055412688281,-0.6893350633498505,-0.5053289644000104,0.2679344796794112,0.4703869025075012,0.3681841504961783,0.04649070204643116,0.3431639414585703,-0.31348645552036297,-0.5295724985367131,-0.5223780616948976,-0.063512168894756,-0.10377318444115938,0.1182285772758502,0.816651382413132,-0.5736248026581756,-0.22758800678143293,0.19275209451870304,-0.14407384516957372,-0.1283920527961958,-0.5551628012209398,0.5703764751493001,0.7261962830753097,-0.9019749457131832,-0.6555802005815123,0.5384784892387126,-0.3831860915683578,0.7671650842725197,0.07956095522294691,0.8919007690839575,0.4980682944296226,-0.9804788173401356,0.7152188152901807,-0.4073243208106767,-0.25065406364952314,0.907875338375183,-0.29349817850760024,-0.8748611785744933,-0.11761542385740362,-0.08465082628673493,-0.3476015275175012,-0.06865096412308423,-0.9866675889779375,-0.3406277977975821,0.003929483395705549,1.069014061311489,-0.1879813594946822,0.8430625710059381,0.30179440063233165,-0.9782025575841374,-0.9341731539138486,-0.6266432957677539,0.4370558648418899,-1.0413707121402787,-0.47319101125595275,-0.13062689380860404,-0.5014304572236615,-0.05784292129919616,-0.31778607033929485,-0.38830138351662324,1.0908563696211375,-0.5050957352758831,0.4506727185612098,0.10249547382770804,0.41005029228093587,-0.5012968079706005,0.2614749271873306,0.9566349411989715,0.2920719684279862,0.3328947269900787,-0.3130080267263392,0.42403769423918525,-0.4866989576582603,-0.6581571903705431,-0.9671637627297215,-1.0207093300500363,-0.7631008597686647,0.15110482780904386,0.4635609653980037,-0.405004361858921,-0.2690434587454849,-0.18711112930551715,0.3471068883295851,0.19297679957379504,0.2972752468527962,-0.15222994837492076,0.9492231252424896,0.4395538490634074,0.28455805118977295,-0.34804645146774627,-0.9375720747144168,0.4785582817433367,0.9965377650285323,-0.38827290446593127,-0.5047317532359001,-0.10010306606710803,-1.0238748139134706,0.22318487696738867,-0.3105019975803274,-0.23038022397967137,0.13991219336836636,0.19797462341182476,0.07930255842748526,0.8073578204800738,-0.4320329903993159,-0.9698657202462404,0.034791698167601456,-0.6142423870408666,0.08493917100180581,0.916067228513026,-0.32014967543220685,0.4075007879615989,-0.8977028782967643,-0.319605100024652,0.10759892808665839,-0.2070343778613976,-0.9721974516880895,0.45766363569095597,-0.4418371507033075,0.3247757042527482,-0.01497351730704443,-0.4656040696934515,0.9986364530617158,-0.5450290784579771,-0.09875903488336107,0.4820752728876497,-0.8418322518161448,-1.0085765280747483,0.12165284473942604,0.030964556586243,-0.9352348303484135,0.9325700040044688,-0.3670154320672298,0.2600590151079339,0.7452574090031907,0.5722515345747259,0.7391548564017852,0.4343459127555271,0.6914403368659713,0.5163509929716199,0.16552699398693937,-0.06640027387463474,-0.8843078499817656,-0.4161967231229816,0.4756250783385415,-0.3129575421049313,-0.8942525431955651,-0.1824978335583278,0.8432539984426425,0.44235988672182247,-0.2791954110481187,0.9805880585187053,-0.2971895181773776,0.568985773605109,0.7681787315658789,-0.06142341084339126,-0.39919147885203304,-0.4778225385351541,-0.3448732193162321,1.0413001817883027,-0.6464574917493338,0.40119683519468874,0.30161254002918597,0.42609767799275505,-0.9650957464148253,-0.4431948866345532,-0.44279881918973607,0.2887111213457506,-0.9666679061002525,0.07424548401975345,1.0080440105507498,0.5548408149493556,0.6414395640499448,-0.4394772293273875,-0.31305500354387106,-0.46268199487522804,0.12588612800072474,-0.9066702710725303,0.31063124936258224,-0.7135820653613395,0.9596300636888327,-0.331015840380498,0.5512087880479233,-0.14433656466618378,0.11452083884233515,-0.3767345260144036,0.3514827875958187,-0.37024517777899474,-0.9710407989503217,-0.43627711208512077,-0.4989746368858131,-0.7406369466683543,-0.15604756271730602,0.9482242594441999,-0.05329087571642446,0.40784479778712146,-0.6965226753196251],\"yaxis\":\"y\",\"type\":\"scatter\"}],                        {\"template\":{\"data\":{\"histogram2dcontour\":[{\"type\":\"histogram2dcontour\",\"colorbar\":{\"outlinewidth\":0,\"ticks\":\"\"},\"colorscale\":[[0.0,\"#0d0887\"],[0.1111111111111111,\"#46039f\"],[0.2222222222222222,\"#7201a8\"],[0.3333333333333333,\"#9c179e\"],[0.4444444444444444,\"#bd3786\"],[0.5555555555555556,\"#d8576b\"],[0.6666666666666666,\"#ed7953\"],[0.7777777777777778,\"#fb9f3a\"],[0.8888888888888888,\"#fdca26\"],[1.0,\"#f0f921\"]]}],\"choropleth\":[{\"type\":\"choropleth\",\"colorbar\":{\"outlinewidth\":0,\"ticks\":\"\"}}],\"histogram2d\":[{\"type\":\"histogram2d\",\"colorbar\":{\"outlinewidth\":0,\"ticks\":\"\"},\"colorscale\":[[0.0,\"#0d0887\"],[0.1111111111111111,\"#46039f\"],[0.2222222222222222,\"#7201a8\"],[0.3333333333333333,\"#9c179e\"],[0.4444444444444444,\"#bd3786\"],[0.5555555555555556,\"#d8576b\"],[0.6666666666666666,\"#ed7953\"],[0.7777777777777778,\"#fb9f3a\"],[0.8888888888888888,\"#fdca26\"],[1.0,\"#f0f921\"]]}],\"heatmap\":[{\"type\":\"heatmap\",\"colorbar\":{\"outlinewidth\":0,\"ticks\":\"\"},\"colorscale\":[[0.0,\"#0d0887\"],[0.1111111111111111,\"#46039f\"],[0.2222222222222222,\"#7201a8\"],[0.3333333333333333,\"#9c179e\"],[0.4444444444444444,\"#bd3786\"],[0.5555555555555556,\"#d8576b\"],[0.6666666666666666,\"#ed7953\"],[0.7777777777777778,\"#fb9f3a\"],[0.8888888888888888,\"#fdca26\"],[1.0,\"#f0f921\"]]}],\"heatmapgl\":[{\"type\":\"heatmapgl\",\"colorbar\":{\"outlinewidth\":0,\"ticks\":\"\"},\"colorscale\":[[0.0,\"#0d0887\"],[0.1111111111111111,\"#46039f\"],[0.2222222222222222,\"#7201a8\"],[0.3333333333333333,\"#9c179e\"],[0.4444444444444444,\"#bd3786\"],[0.5555555555555556,\"#d8576b\"],[0.6666666666666666,\"#ed7953\"],[0.7777777777777778,\"#fb9f3a\"],[0.8888888888888888,\"#fdca26\"],[1.0,\"#f0f921\"]]}],\"contourcarpet\":[{\"type\":\"contourcarpet\",\"colorbar\":{\"outlinewidth\":0,\"ticks\":\"\"}}],\"contour\":[{\"type\":\"contour\",\"colorbar\":{\"outlinewidth\":0,\"ticks\":\"\"},\"colorscale\":[[0.0,\"#0d0887\"],[0.1111111111111111,\"#46039f\"],[0.2222222222222222,\"#7201a8\"],[0.3333333333333333,\"#9c179e\"],[0.4444444444444444,\"#bd3786\"],[0.5555555555555556,\"#d8576b\"],[0.6666666666666666,\"#ed7953\"],[0.7777777777777778,\"#fb9f3a\"],[0.8888888888888888,\"#fdca26\"],[1.0,\"#f0f921\"]]}],\"surface\":[{\"type\":\"surface\",\"colorbar\":{\"outlinewidth\":0,\"ticks\":\"\"},\"colorscale\":[[0.0,\"#0d0887\"],[0.1111111111111111,\"#46039f\"],[0.2222222222222222,\"#7201a8\"],[0.3333333333333333,\"#9c179e\"],[0.4444444444444444,\"#bd3786\"],[0.5555555555555556,\"#d8576b\"],[0.6666666666666666,\"#ed7953\"],[0.7777777777777778,\"#fb9f3a\"],[0.8888888888888888,\"#fdca26\"],[1.0,\"#f0f921\"]]}],\"mesh3d\":[{\"type\":\"mesh3d\",\"colorbar\":{\"outlinewidth\":0,\"ticks\":\"\"}}],\"scatter\":[{\"fillpattern\":{\"fillmode\":\"overlay\",\"size\":10,\"solidity\":0.2},\"type\":\"scatter\"}],\"parcoords\":[{\"type\":\"parcoords\",\"line\":{\"colorbar\":{\"outlinewidth\":0,\"ticks\":\"\"}}}],\"scatterpolargl\":[{\"type\":\"scatterpolargl\",\"marker\":{\"colorbar\":{\"outlinewidth\":0,\"ticks\":\"\"}}}],\"bar\":[{\"error_x\":{\"color\":\"#2a3f5f\"},\"error_y\":{\"color\":\"#2a3f5f\"},\"marker\":{\"line\":{\"color\":\"#E5ECF6\",\"width\":0.5},\"pattern\":{\"fillmode\":\"overlay\",\"size\":10,\"solidity\":0.2}},\"type\":\"bar\"}],\"scattergeo\":[{\"type\":\"scattergeo\",\"marker\":{\"colorbar\":{\"outlinewidth\":0,\"ticks\":\"\"}}}],\"scatterpolar\":[{\"type\":\"scatterpolar\",\"marker\":{\"colorbar\":{\"outlinewidth\":0,\"ticks\":\"\"}}}],\"histogram\":[{\"marker\":{\"pattern\":{\"fillmode\":\"overlay\",\"size\":10,\"solidity\":0.2}},\"type\":\"histogram\"}],\"scattergl\":[{\"type\":\"scattergl\",\"marker\":{\"colorbar\":{\"outlinewidth\":0,\"ticks\":\"\"}}}],\"scatter3d\":[{\"type\":\"scatter3d\",\"line\":{\"colorbar\":{\"outlinewidth\":0,\"ticks\":\"\"}},\"marker\":{\"colorbar\":{\"outlinewidth\":0,\"ticks\":\"\"}}}],\"scattermapbox\":[{\"type\":\"scattermapbox\",\"marker\":{\"colorbar\":{\"outlinewidth\":0,\"ticks\":\"\"}}}],\"scatterternary\":[{\"type\":\"scatterternary\",\"marker\":{\"colorbar\":{\"outlinewidth\":0,\"ticks\":\"\"}}}],\"scattercarpet\":[{\"type\":\"scattercarpet\",\"marker\":{\"colorbar\":{\"outlinewidth\":0,\"ticks\":\"\"}}}],\"carpet\":[{\"aaxis\":{\"endlinecolor\":\"#2a3f5f\",\"gridcolor\":\"white\",\"linecolor\":\"white\",\"minorgridcolor\":\"white\",\"startlinecolor\":\"#2a3f5f\"},\"baxis\":{\"endlinecolor\":\"#2a3f5f\",\"gridcolor\":\"white\",\"linecolor\":\"white\",\"minorgridcolor\":\"white\",\"startlinecolor\":\"#2a3f5f\"},\"type\":\"carpet\"}],\"table\":[{\"cells\":{\"fill\":{\"color\":\"#EBF0F8\"},\"line\":{\"color\":\"white\"}},\"header\":{\"fill\":{\"color\":\"#C8D4E3\"},\"line\":{\"color\":\"white\"}},\"type\":\"table\"}],\"barpolar\":[{\"marker\":{\"line\":{\"color\":\"#E5ECF6\",\"width\":0.5},\"pattern\":{\"fillmode\":\"overlay\",\"size\":10,\"solidity\":0.2}},\"type\":\"barpolar\"}],\"pie\":[{\"automargin\":true,\"type\":\"pie\"}]},\"layout\":{\"autotypenumbers\":\"strict\",\"colorway\":[\"#636efa\",\"#EF553B\",\"#00cc96\",\"#ab63fa\",\"#FFA15A\",\"#19d3f3\",\"#FF6692\",\"#B6E880\",\"#FF97FF\",\"#FECB52\"],\"font\":{\"color\":\"#2a3f5f\"},\"hovermode\":\"closest\",\"hoverlabel\":{\"align\":\"left\"},\"paper_bgcolor\":\"white\",\"plot_bgcolor\":\"#E5ECF6\",\"polar\":{\"bgcolor\":\"#E5ECF6\",\"angularaxis\":{\"gridcolor\":\"white\",\"linecolor\":\"white\",\"ticks\":\"\"},\"radialaxis\":{\"gridcolor\":\"white\",\"linecolor\":\"white\",\"ticks\":\"\"}},\"ternary\":{\"bgcolor\":\"#E5ECF6\",\"aaxis\":{\"gridcolor\":\"white\",\"linecolor\":\"white\",\"ticks\":\"\"},\"baxis\":{\"gridcolor\":\"white\",\"linecolor\":\"white\",\"ticks\":\"\"},\"caxis\":{\"gridcolor\":\"white\",\"linecolor\":\"white\",\"ticks\":\"\"}},\"coloraxis\":{\"colorbar\":{\"outlinewidth\":0,\"ticks\":\"\"}},\"colorscale\":{\"sequential\":[[0.0,\"#0d0887\"],[0.1111111111111111,\"#46039f\"],[0.2222222222222222,\"#7201a8\"],[0.3333333333333333,\"#9c179e\"],[0.4444444444444444,\"#bd3786\"],[0.5555555555555556,\"#d8576b\"],[0.6666666666666666,\"#ed7953\"],[0.7777777777777778,\"#fb9f3a\"],[0.8888888888888888,\"#fdca26\"],[1.0,\"#f0f921\"]],\"sequentialminus\":[[0.0,\"#0d0887\"],[0.1111111111111111,\"#46039f\"],[0.2222222222222222,\"#7201a8\"],[0.3333333333333333,\"#9c179e\"],[0.4444444444444444,\"#bd3786\"],[0.5555555555555556,\"#d8576b\"],[0.6666666666666666,\"#ed7953\"],[0.7777777777777778,\"#fb9f3a\"],[0.8888888888888888,\"#fdca26\"],[1.0,\"#f0f921\"]],\"diverging\":[[0,\"#8e0152\"],[0.1,\"#c51b7d\"],[0.2,\"#de77ae\"],[0.3,\"#f1b6da\"],[0.4,\"#fde0ef\"],[0.5,\"#f7f7f7\"],[0.6,\"#e6f5d0\"],[0.7,\"#b8e186\"],[0.8,\"#7fbc41\"],[0.9,\"#4d9221\"],[1,\"#276419\"]]},\"xaxis\":{\"gridcolor\":\"white\",\"linecolor\":\"white\",\"ticks\":\"\",\"title\":{\"standoff\":15},\"zerolinecolor\":\"white\",\"automargin\":true,\"zerolinewidth\":2},\"yaxis\":{\"gridcolor\":\"white\",\"linecolor\":\"white\",\"ticks\":\"\",\"title\":{\"standoff\":15},\"zerolinecolor\":\"white\",\"automargin\":true,\"zerolinewidth\":2},\"scene\":{\"xaxis\":{\"backgroundcolor\":\"#E5ECF6\",\"gridcolor\":\"white\",\"linecolor\":\"white\",\"showbackground\":true,\"ticks\":\"\",\"zerolinecolor\":\"white\",\"gridwidth\":2},\"yaxis\":{\"backgroundcolor\":\"#E5ECF6\",\"gridcolor\":\"white\",\"linecolor\":\"white\",\"showbackground\":true,\"ticks\":\"\",\"zerolinecolor\":\"white\",\"gridwidth\":2},\"zaxis\":{\"backgroundcolor\":\"#E5ECF6\",\"gridcolor\":\"white\",\"linecolor\":\"white\",\"showbackground\":true,\"ticks\":\"\",\"zerolinecolor\":\"white\",\"gridwidth\":2}},\"shapedefaults\":{\"line\":{\"color\":\"#2a3f5f\"}},\"annotationdefaults\":{\"arrowcolor\":\"#2a3f5f\",\"arrowhead\":0,\"arrowwidth\":1},\"geo\":{\"bgcolor\":\"white\",\"landcolor\":\"#E5ECF6\",\"subunitcolor\":\"white\",\"showland\":true,\"showlakes\":true,\"lakecolor\":\"white\"},\"title\":{\"x\":0.05},\"mapbox\":{\"style\":\"light\"}}},\"xaxis\":{\"anchor\":\"y\",\"domain\":[0.0,1.0],\"title\":{\"text\":\"x1\"}},\"yaxis\":{\"anchor\":\"x\",\"domain\":[0.0,1.0],\"title\":{\"text\":\"x2\"}},\"coloraxis\":{\"colorbar\":{\"title\":{\"text\":\"labels\"}},\"colorscale\":[[0.0,\"rgb(253, 224, 197)\"],[0.16666666666666666,\"rgb(250, 203, 166)\"],[0.3333333333333333,\"rgb(248, 181, 139)\"],[0.5,\"rgb(245, 158, 114)\"],[0.6666666666666666,\"rgb(242, 133, 93)\"],[0.8333333333333334,\"rgb(239, 106, 76)\"],[1.0,\"rgb(235, 74, 64)\"]]},\"legend\":{\"tracegroupgap\":0},\"margin\":{\"t\":60}},                        {\"responsive\": true}                    )                };                            </script>        </div>"
      ],
      "text/plain": [
       "Figure({\n",
       "    'data': [{'hovertemplate': 'x1=%{x}<br>x2=%{y}<br>labels=%{marker.color}<extra></extra>',\n",
       "              'legendgroup': '',\n",
       "              'marker': {'color': array([1, 0, 0, ..., 1, 0, 0]),\n",
       "                         'coloraxis': 'coloraxis',\n",
       "                         'opacity': 0.5,\n",
       "                         'symbol': 'circle'},\n",
       "              'mode': 'markers',\n",
       "              'name': '',\n",
       "              'orientation': 'v',\n",
       "              'showlegend': False,\n",
       "              'type': 'scatter',\n",
       "              'x': array([-0.52881484, -0.17325255, -0.30698274, ...,  0.44295477,  0.83076864,\n",
       "                          -0.76529524]),\n",
       "              'xaxis': 'x',\n",
       "              'y': array([ 0.30670762, -0.96102615,  0.98063511, ..., -0.05329088,  0.4078448 ,\n",
       "                          -0.69652268]),\n",
       "              'yaxis': 'y'}],\n",
       "    'layout': {'coloraxis': {'colorbar': {'title': {'text': 'labels'}},\n",
       "                             'colorscale': [[0.0, 'rgb(253, 224, 197)'],\n",
       "                                            [0.16666666666666666, 'rgb(250, 203,\n",
       "                                            166)'], [0.3333333333333333, 'rgb(248,\n",
       "                                            181, 139)'], [0.5, 'rgb(245, 158,\n",
       "                                            114)'], [0.6666666666666666, 'rgb(242,\n",
       "                                            133, 93)'], [0.8333333333333334,\n",
       "                                            'rgb(239, 106, 76)'], [1.0, 'rgb(235,\n",
       "                                            74, 64)']]},\n",
       "               'legend': {'tracegroupgap': 0},\n",
       "               'margin': {'t': 60},\n",
       "               'template': '...',\n",
       "               'xaxis': {'anchor': 'y', 'domain': [0.0, 1.0], 'title': {'text': 'x1'}},\n",
       "               'yaxis': {'anchor': 'x', 'domain': [0.0, 1.0], 'title': {'text': 'x2'}}}\n",
       "})"
      ]
     },
     "execution_count": 98,
     "metadata": {},
     "output_type": "execute_result"
    }
   ],
   "source": [
    "px.scatter(         df,\n",
    "                    x='x1',\n",
    "                    y='x2',\n",
    "                    color='labels',\n",
    "                    size_max=60,\n",
    "                    color_continuous_scale = px.colors.sequential.Peach,\n",
    "                    opacity = 0.5,\n",
    "                    )"
   ]
  },
  {
   "cell_type": "code",
   "execution_count": 107,
   "metadata": {},
   "outputs": [
    {
     "name": "stdout",
     "output_type": "stream",
     "text": [
      "  epoch    train_loss    valid_acc    valid_loss     dur\n",
      "-------  ------------  -----------  ------------  ------\n",
      "      1           nan       \u001b[32m0.9552\u001b[0m           nan  0.0101\n",
      "      2           nan       0.9552           nan  0.0081\n",
      "      3           nan       0.9552           nan  0.0059\n",
      "      4           nan       0.9552           nan  0.0091\n",
      "      5           nan       0.9552           nan  0.0104\n",
      "      6           nan       0.9552           nan  0.0080\n",
      "      7           nan       0.9552           nan  0.0102\n",
      "      8           nan       0.9552           nan  0.0079\n",
      "      9           nan       0.9552           nan  0.0070\n",
      "     10           nan       0.9552           nan  0.0075\n",
      "  epoch    train_loss    valid_acc    valid_loss     dur\n",
      "-------  ------------  -----------  ------------  ------\n",
      "      1           nan       \u001b[32m0.9403\u001b[0m           nan  0.0077\n",
      "      2           nan       0.9403           nan  0.0118\n",
      "      3           nan       0.9403           nan  0.0096\n",
      "      4           nan       0.9403           nan  0.0075\n",
      "      5           nan       0.9403           nan  0.0089\n",
      "      6           nan       0.9403           nan  0.0079\n",
      "      7           nan       0.9403           nan  0.0071\n",
      "      8           nan       0.9403           nan  0.0072\n",
      "      9           nan       0.9403           nan  0.0085\n",
      "     10           nan       0.9403           nan  0.0079\n",
      "  epoch    train_loss    valid_acc    valid_loss     dur\n",
      "-------  ------------  -----------  ------------  ------\n",
      "      1           nan       \u001b[32m0.9403\u001b[0m           nan  0.0092\n",
      "      2           nan       0.9403           nan  0.0104\n",
      "      3           nan       0.9403           nan  0.0078\n",
      "      4           nan       0.9403           nan  0.0083\n",
      "      5           nan       0.9403           nan  0.0078\n",
      "      6           nan       0.9403           nan  0.0091\n",
      "      7           nan       0.9403           nan  0.0093\n",
      "      8           nan       0.9403           nan  0.0079\n",
      "      9           nan       0.9403           nan  0.0083\n",
      "     10           nan       0.5522           nan  0.0090\n",
      "Cross-validated estimate of accuracy on held-out data: 0.848\n",
      "Cleanlab found 14 label issues.\n",
      "Top 15 most likely label errors: \n",
      " [358 368 334 461 386   4 320  71 293  22 148 113 102   9]\n"
     ]
    }
   ],
   "source": [
    "model_skorch = NeuralNetClassifier(simple_dnn.encoder)\n",
    "cl = cleanlab.classification.CleanLearning(model_skorch)\n",
    "\n",
    "pred_probs_logits = cross_val_predict(\n",
    "    model_skorch,\n",
    "    np.float32(data_circles),\n",
    "    label_circles,\n",
    "    cv=3,\n",
    "    method=\"predict_proba\",\n",
    ")\n",
    "\n",
    "pred_probs = np.apply_along_axis(sigmoid, 0, pred_probs_logits)\n",
    "\n",
    "predicted_labels = pred_probs.argmax(axis=1)\n",
    "acc = accuracy_score(label_circles, predicted_labels)\n",
    "print(f\"Cross-validated estimate of accuracy on held-out data: {acc}\")\n",
    "\n",
    "ranked_label_issues = find_label_issues(\n",
    "    label_circles,\n",
    "    pred_probs,\n",
    "    return_indices_ranked_by=\"self_confidence\",\n",
    ")\n",
    "\n",
    "print(f\"Cleanlab found {len(ranked_label_issues)} label issues.\")\n",
    "print(f\"Top 15 most likely label errors: \\n {ranked_label_issues[:15]}\")"
   ]
  },
  {
   "cell_type": "code",
   "execution_count": 118,
   "metadata": {},
   "outputs": [
    {
     "data": {
      "text/plain": [
       "20"
      ]
     },
     "execution_count": 118,
     "metadata": {},
     "output_type": "execute_result"
    }
   ],
   "source": [
    "len(corrupted_indices)"
   ]
  },
  {
   "cell_type": "code",
   "execution_count": 116,
   "metadata": {},
   "outputs": [
    {
     "data": {
      "text/plain": [
       "9"
      ]
     },
     "execution_count": 116,
     "metadata": {},
     "output_type": "execute_result"
    }
   ],
   "source": [
    "len(list(set(corrupted_indices).intersection(ranked_label_issues)))"
   ]
  },
  {
   "cell_type": "code",
   "execution_count": 110,
   "metadata": {},
   "outputs": [],
   "source": [
    "label_circles_allegedly_corrupted = label_circles.copy()\n",
    "label_circles_allegedly_corrupted[ranked_label_issues] = 2"
   ]
  },
  {
   "cell_type": "code",
   "execution_count": 111,
   "metadata": {},
   "outputs": [],
   "source": [
    "df2 = pd.DataFrame({'x1': data_circles[:,0], 'x2': data_circles[:,1], 'labels': label_circles_allegedly_corrupted})"
   ]
  },
  {
   "cell_type": "code",
   "execution_count": 112,
   "metadata": {},
   "outputs": [
    {
     "ename": "ValueError",
     "evalue": "Mime type rendering requires nbformat>=4.2.0 but it is not installed",
     "output_type": "error",
     "traceback": [
      "\u001b[0;31m---------------------------------------------------------------------------\u001b[0m",
      "\u001b[0;31mValueError\u001b[0m                                Traceback (most recent call last)",
      "File \u001b[0;32m~/Documents/code/pycon_2023_honey_i_broke_the_pytorch_model/.venv/lib/python3.9/site-packages/IPython/core/formatters.py:922\u001b[0m, in \u001b[0;36mIPythonDisplayFormatter.__call__\u001b[0;34m(self, obj)\u001b[0m\n\u001b[1;32m    920\u001b[0m method \u001b[39m=\u001b[39m get_real_method(obj, \u001b[39mself\u001b[39m\u001b[39m.\u001b[39mprint_method)\n\u001b[1;32m    921\u001b[0m \u001b[39mif\u001b[39;00m method \u001b[39mis\u001b[39;00m \u001b[39mnot\u001b[39;00m \u001b[39mNone\u001b[39;00m:\n\u001b[0;32m--> 922\u001b[0m     method()\n\u001b[1;32m    923\u001b[0m     \u001b[39mreturn\u001b[39;00m \u001b[39mTrue\u001b[39;00m\n",
      "File \u001b[0;32m~/Documents/code/pycon_2023_honey_i_broke_the_pytorch_model/.venv/lib/python3.9/site-packages/plotly/basedatatypes.py:834\u001b[0m, in \u001b[0;36mBaseFigure._ipython_display_\u001b[0;34m(self)\u001b[0m\n\u001b[1;32m    831\u001b[0m \u001b[39mimport\u001b[39;00m \u001b[39mplotly\u001b[39;00m\u001b[39m.\u001b[39;00m\u001b[39mio\u001b[39;00m \u001b[39mas\u001b[39;00m \u001b[39mpio\u001b[39;00m\n\u001b[1;32m    833\u001b[0m \u001b[39mif\u001b[39;00m pio\u001b[39m.\u001b[39mrenderers\u001b[39m.\u001b[39mrender_on_display \u001b[39mand\u001b[39;00m pio\u001b[39m.\u001b[39mrenderers\u001b[39m.\u001b[39mdefault:\n\u001b[0;32m--> 834\u001b[0m     pio\u001b[39m.\u001b[39;49mshow(\u001b[39mself\u001b[39;49m)\n\u001b[1;32m    835\u001b[0m \u001b[39melse\u001b[39;00m:\n\u001b[1;32m    836\u001b[0m     \u001b[39mprint\u001b[39m(\u001b[39mrepr\u001b[39m(\u001b[39mself\u001b[39m))\n",
      "File \u001b[0;32m~/Documents/code/pycon_2023_honey_i_broke_the_pytorch_model/.venv/lib/python3.9/site-packages/plotly/io/_renderers.py:396\u001b[0m, in \u001b[0;36mshow\u001b[0;34m(fig, renderer, validate, **kwargs)\u001b[0m\n\u001b[1;32m    391\u001b[0m         \u001b[39mraise\u001b[39;00m \u001b[39mValueError\u001b[39;00m(\n\u001b[1;32m    392\u001b[0m             \u001b[39m\"\u001b[39m\u001b[39mMime type rendering requires ipython but it is not installed\u001b[39m\u001b[39m\"\u001b[39m\n\u001b[1;32m    393\u001b[0m         )\n\u001b[1;32m    395\u001b[0m     \u001b[39mif\u001b[39;00m \u001b[39mnot\u001b[39;00m nbformat \u001b[39mor\u001b[39;00m Version(nbformat\u001b[39m.\u001b[39m__version__) \u001b[39m<\u001b[39m Version(\u001b[39m\"\u001b[39m\u001b[39m4.2.0\u001b[39m\u001b[39m\"\u001b[39m):\n\u001b[0;32m--> 396\u001b[0m         \u001b[39mraise\u001b[39;00m \u001b[39mValueError\u001b[39;00m(\n\u001b[1;32m    397\u001b[0m             \u001b[39m\"\u001b[39m\u001b[39mMime type rendering requires nbformat>=4.2.0 but it is not installed\u001b[39m\u001b[39m\"\u001b[39m\n\u001b[1;32m    398\u001b[0m         )\n\u001b[1;32m    400\u001b[0m     ipython_display\u001b[39m.\u001b[39mdisplay(bundle, raw\u001b[39m=\u001b[39m\u001b[39mTrue\u001b[39;00m)\n\u001b[1;32m    402\u001b[0m \u001b[39m# external renderers\u001b[39;00m\n",
      "\u001b[0;31mValueError\u001b[0m: Mime type rendering requires nbformat>=4.2.0 but it is not installed"
     ]
    },
    {
     "data": {
      "application/vnd.plotly.v1+json": {
       "config": {
        "plotlyServerURL": "https://plot.ly"
       },
       "data": [
        {
         "hovertemplate": "x1=%{x}<br>x2=%{y}<br>labels=%{marker.color}<extra></extra>",
         "legendgroup": "",
         "marker": {
          "color": [
           0,
           0,
           1,
           0,
           2,
           0,
           0,
           0,
           0,
           2,
           0,
           0,
           0,
           0,
           1,
           1,
           0,
           1,
           0,
           1,
           1,
           0,
           2,
           1,
           1,
           0,
           1,
           1,
           0,
           0,
           1,
           1,
           1,
           1,
           1,
           1,
           1,
           0,
           0,
           1,
           1,
           0,
           1,
           0,
           0,
           0,
           1,
           1,
           0,
           1,
           0,
           1,
           0,
           1,
           0,
           1,
           0,
           0,
           1,
           1,
           1,
           1,
           0,
           1,
           0,
           0,
           1,
           0,
           0,
           0,
           0,
           2,
           0,
           0,
           0,
           1,
           1,
           1,
           1,
           1,
           1,
           0,
           0,
           1,
           1,
           1,
           1,
           0,
           0,
           1,
           1,
           0,
           1,
           0,
           0,
           1,
           0,
           1,
           1,
           0,
           1,
           1,
           2,
           0,
           0,
           1,
           1,
           1,
           1,
           1,
           0,
           0,
           0,
           2,
           0,
           0,
           1,
           0,
           0,
           0,
           1,
           1,
           0,
           0,
           1,
           0,
           0,
           1,
           0,
           1,
           1,
           0,
           0,
           0,
           1,
           0,
           0,
           1,
           0,
           1,
           0,
           0,
           0,
           0,
           1,
           1,
           0,
           1,
           2,
           1,
           0,
           1,
           0,
           1,
           0,
           1,
           0,
           0,
           0,
           0,
           0,
           0,
           0,
           0,
           0,
           1,
           1,
           0,
           1,
           0,
           1,
           0,
           0,
           0,
           1,
           0,
           0,
           0,
           1,
           0,
           1,
           1,
           1,
           1,
           1,
           0,
           0,
           1,
           1,
           1,
           1,
           1,
           1,
           0,
           0,
           1,
           1,
           0,
           1,
           1,
           0,
           1,
           0,
           1,
           0,
           1,
           1,
           1,
           1,
           0,
           0,
           0,
           1,
           0,
           1,
           1,
           1,
           1,
           0,
           0,
           0,
           0,
           1,
           1,
           1,
           0,
           0,
           1,
           1,
           0,
           1,
           1,
           0,
           1,
           0,
           0,
           1,
           1,
           1,
           0,
           0,
           0,
           0,
           0,
           0,
           0,
           0,
           0,
           0,
           1,
           1,
           1,
           0,
           0,
           1,
           0,
           1,
           0,
           1,
           1,
           0,
           1,
           1,
           1,
           1,
           0,
           0,
           1,
           0,
           0,
           0,
           1,
           0,
           1,
           1,
           0,
           1,
           1,
           0,
           1,
           1,
           0,
           0,
           1,
           0,
           1,
           0,
           1,
           0,
           1,
           1,
           1,
           0,
           2,
           0,
           0,
           1,
           0,
           1,
           1,
           0,
           0,
           0,
           1,
           1,
           0,
           0,
           0,
           0,
           0,
           0,
           0,
           0,
           0,
           1,
           1,
           1,
           1,
           0,
           0,
           2,
           1,
           1,
           1,
           0,
           1,
           0,
           1,
           1,
           0,
           1,
           0,
           0,
           1,
           2,
           1,
           0,
           1,
           1,
           1,
           0,
           1,
           0,
           1,
           0,
           0,
           0,
           1,
           1,
           0,
           1,
           0,
           0,
           1,
           1,
           1,
           0,
           0,
           2,
           0,
           1,
           1,
           0,
           1,
           1,
           1,
           0,
           1,
           2,
           1,
           0,
           0,
           1,
           1,
           0,
           1,
           1,
           1,
           0,
           0,
           1,
           0,
           1,
           1,
           1,
           1,
           2,
           0,
           0,
           1,
           0,
           0,
           1,
           1,
           0,
           1,
           1,
           1,
           1,
           1,
           1,
           0,
           1,
           1,
           0,
           1,
           0,
           0,
           1,
           1,
           1,
           1,
           1,
           0,
           1,
           0,
           1,
           1,
           0,
           0,
           1,
           0,
           1,
           1,
           0,
           1,
           1,
           0,
           0,
           0,
           0,
           0,
           1,
           0,
           1,
           1,
           1,
           0,
           1,
           0,
           0,
           0,
           1,
           1,
           0,
           0,
           0,
           0,
           1,
           1,
           0,
           0,
           0,
           1,
           0,
           1,
           1,
           0,
           1,
           0,
           0,
           2,
           1,
           0,
           1,
           1,
           0,
           0,
           0,
           0,
           1,
           0,
           1,
           1,
           1,
           0,
           1,
           1,
           1,
           0,
           0,
           1,
           1,
           0,
           0,
           0,
           1,
           1,
           0,
           0,
           1,
           0,
           0,
           1,
           1,
           0,
           1,
           0,
           1,
           1
          ],
          "coloraxis": "coloraxis",
          "opacity": 0.5,
          "symbol": "circle"
         },
         "mode": "markers",
         "name": "",
         "orientation": "v",
         "showlegend": false,
         "type": "scatter",
         "x": [
          -0.7107914647220959,
          0.7869914887203142,
          -0.559017430389078,
          -0.7736313603460773,
          -0.010384149735780987,
          0.8485121380179076,
          0.01562574670676821,
          -0.32382850287286774,
          -0.2879999783858823,
          0.7938297848733236,
          0.5893903986505342,
          -0.9988889588099793,
          -0.07711346620322385,
          0.8732268882191189,
          -0.3518723086591878,
          -0.512996764270274,
          0.4346558326881088,
          0.4126037312861328,
          -0.921857802369249,
          -0.1367918580206855,
          0.358479379591328,
          0.5206873346699497,
          -0.8734347367006049,
          0.0804287531684414,
          -0.4400340342195124,
          0.9521547721079382,
          0.17327999438058436,
          0.44612515524463625,
          0.661221263066513,
          0.6132428867949705,
          0.0024459098614987296,
          -0.47822086654877777,
          -0.12008042091258413,
          -0.07912941659290301,
          0.06772382167176583,
          -0.2790897168927793,
          0.19406448339189572,
          -0.139188838401423,
          -0.1780142971109232,
          0.38301044340274637,
          -0.260646877199828,
          0.9120552467718357,
          0.10054763755958392,
          1.004731527671946,
          0.9571942142186293,
          0.8782969260281835,
          0.44036690177973853,
          -0.46858814386378217,
          0.04678928968501998,
          -0.41770033875855583,
          0.8734635452823544,
          -0.3737299125383004,
          -0.9405377951841066,
          0.11411764227302315,
          -0.948339309913951,
          0.5287274583107359,
          -0.6762434801972242,
          0.6541755188835426,
          -0.2898905785272562,
          0.34141800110388043,
          0.2881709572956208,
          -0.49922758605491513,
          -0.9665675117160609,
          0.3560051469452302,
          1.0080382953856784,
          0.3467460018719165,
          -0.4143626953926406,
          0.7932536050905841,
          -1.0316785869270555,
          0.865976782124816,
          -0.4479722265392393,
          -0.17258818109016838,
          0.8986597103552377,
          -0.7521845783368377,
          -0.27924364573305255,
          -0.41217808604209283,
          -0.499495419431044,
          -0.49232846025832555,
          0.4264191794016734,
          0.20314807916932182,
          -0.4136612073726901,
          -0.9101614317908713,
          0.8656327391367817,
          0.4147972037558035,
          0.3613841400684628,
          -0.4507539909887899,
          -0.521372909371644,
          -0.8500516769630251,
          1.0251784722383148,
          0.4298941757834104,
          0.3871832750362315,
          0.8767552500156632,
          0.5586915567778498,
          1.0290070903020558,
          1.0022351612107436,
          -0.24788637935603738,
          0.9324734534254666,
          -0.5351269665964346,
          0.22913748569620632,
          -0.2151424437348046,
          0.4700766694244046,
          0.2630805997961077,
          0.40414192014339045,
          -0.4079886581967283,
          -0.9561121549726508,
          -0.12302564954870855,
          0.403083011203199,
          -0.29674775201055414,
          -0.607780566160411,
          0.10194027108622046,
          -0.3736632837575105,
          0.7405583961946425,
          0.8985763381639914,
          0.6157465333148304,
          0.12551057245198352,
          0.050134643300398116,
          -0.47480624873203736,
          0.1955304932686486,
          0.6137735719471692,
          0.329984824319458,
          0.49477604606465514,
          -0.2014101730386521,
          -0.5936613386148336,
          -0.040293754095397934,
          -0.2593950338435414,
          0.13056159673819542,
          -0.9998537766130946,
          0.12283520380409943,
          -0.5975732853805862,
          0.5232922009845135,
          0.34226542040529684,
          0.949737572669298,
          -0.8720121051982916,
          -0.9603148068505505,
          -0.4526022744979735,
          0.8052458308406567,
          -0.7573468125826673,
          -0.03032027531078177,
          0.9339635951023001,
          0.44456959787547506,
          0.3017178702862614,
          -1.0181479466758476,
          -0.6954703575794283,
          -0.8324985392146625,
          0.3026702957653888,
          -0.19188134103332838,
          0.07156064272557155,
          0.10857942635672005,
          -0.07843338706257512,
          0.19531672299476366,
          0.8790679082998856,
          0.03633804836001264,
          0.9798686044572599,
          0.46296689300343735,
          0.25759294158177415,
          0.03560821686928455,
          -0.4580113247976006,
          -0.33161696350270387,
          -0.6724947701247604,
          -0.31667271326806745,
          -0.19318408566563686,
          0.966346512086449,
          0.8360841191313354,
          -0.8165956984997444,
          0.26105179924352884,
          0.030208544929381395,
          -0.25922799522262796,
          -0.3855963747401208,
          -0.4928918927024408,
          -0.8779988908045149,
          -0.4825290542939312,
          0.480268536554837,
          -1.000202316393699,
          -0.9280136015941334,
          -0.1945530430725758,
          0.42101768023756275,
          1.064019633347016,
          0.5955472277145204,
          0.42973138737346767,
          -1.020564913036607,
          0.4606998151217321,
          -0.5125207798990777,
          0.02284713228071485,
          -0.2693701468390235,
          -0.5124167703011657,
          0.4042593736400472,
          -0.43930976031843866,
          -0.4001446206458912,
          -0.3899177312922435,
          -0.42554237169262216,
          0.18415383481409614,
          0.3690425777630315,
          0.45129421829296823,
          0.7001975527675084,
          0.1808654097205176,
          0.4931256255947981,
          0.2323821561792442,
          0.8759560713174561,
          0.02415240428889186,
          0.13704204722243152,
          -0.4951301600236244,
          0.5274893000705291,
          0.09768920690356142,
          -0.45798468086207994,
          -0.5713027222842756,
          0.1864288478382679,
          0.40848032466022194,
          0.30722241521458815,
          -0.17902075057050496,
          -0.4635995096417168,
          -0.5498082330375533,
          0.32180283878468074,
          0.07728083849323124,
          0.5706693053105272,
          -0.07447998355414283,
          -0.09224232735073822,
          -0.42336197168095746,
          0.38653797352498265,
          0.5799361543856205,
          -0.6272547941807974,
          0.8930473929428373,
          -0.8864168973979161,
          0.47841103465511936,
          -0.28327932924669985,
          -0.109109159669518,
          0.8386674281428376,
          -0.6701524984173156,
          -0.08492264372595053,
          -0.3805780401593095,
          -0.965425482381448,
          -0.5049127379277152,
          0.4366179815798939,
          -0.9993361920536434,
          0.1594558922539397,
          0.6272435508123531,
          0.9149547409922101,
          -0.36834201099299413,
          -0.12861127854974788,
          0.4905543535142295,
          0.513526353993385,
          -0.3219751267843566,
          -0.205356122942753,
          1.0091784811279418,
          -0.5320841322518185,
          -0.31765187255782146,
          0.616905663514917,
          0.5228352648434907,
          -0.4496714426891724,
          0.9039898744935267,
          -0.33600519661673944,
          0.24611258366681088,
          0.23768899472810204,
          0.16516186009168785,
          0.9497073029854958,
          -0.18832887753986363,
          -0.133923941021175,
          -0.4992642009272046,
          0.16758238831647376,
          0.05293539825864464,
          -0.37475593909313,
          0.03732685894299144,
          -0.5258991995093385,
          -0.38016912330648034,
          -0.3754228073991712,
          0.18099867073047443,
          -0.09655037081670464,
          -0.7792424927770835,
          0.4434133817734686,
          -0.8617420033510013,
          0.6951394145664658,
          0.10645333209815645,
          0.21724096158064798,
          -0.8976074020080981,
          0.3928494929290305,
          -0.15091568945917466,
          0.03427411502078723,
          0.3763224537813034,
          -0.1091207787416479,
          0.9086682396146504,
          0.22188398806752185,
          -0.20337678607798523,
          0.7354981927990585,
          -0.5066507864679201,
          -0.25191823647469747,
          -0.3187203759785632,
          -0.36008799089112997,
          0.6303009568160004,
          -0.09299149807353932,
          0.9399580200614073,
          -0.33060855254261484,
          0.2447717364043036,
          0.47966527873446957,
          0.4495463644648426,
          0.6437452306131495,
          -0.9499055313579794,
          0.5488130451203969,
          0.24316682566104403,
          -0.9126044520407203,
          0.5614823300481823,
          0.20405548860007597,
          -0.952873168401792,
          0.7002655033769067,
          0.49485295895040826,
          0.11800852576417746,
          0.5346124034587822,
          0.9243564583796557,
          -0.6672420341515989,
          0.9030953547773635,
          -0.2229152579431338,
          -0.9790304678157336,
          0.3330169365729839,
          -0.9235887843535506,
          -0.9066752779634764,
          1.0164845583518858,
          0.4799530205427461,
          -0.4002176594307675,
          -0.5028553556103977,
          -0.37574320974714154,
          0.4876669970524078,
          -1.0603428631437521,
          -1.0332837268498443,
          0.23852313149329965,
          0.45084793739208695,
          0.43419014169366676,
          -0.41783871163510206,
          0.4501532225971546,
          0.7189529718727612,
          0.14469657527952526,
          0.13649310001721565,
          0.362534870182007,
          0.3685381786905526,
          -0.5325639606585265,
          -0.7497180979383893,
          0.42560200894276823,
          -0.6148295618922903,
          0.4419306742071203,
          -0.5612791430583293,
          -0.5058375233548934,
          0.0745437632275546,
          0.17167752179859994,
          -0.3360654530184191,
          0.46690690974511023,
          0.6177848955501242,
          -0.11157098916785418,
          -0.8689965328128134,
          -0.3579927652048253,
          0.05980122776862043,
          -0.5016083501893576,
          -0.2418053194209384,
          0.6762378842053495,
          0.8101758716586689,
          -1.0304468839707646,
          -0.9263887172228213,
          -0.2160403582960742,
          -0.3669145930888048,
          0.3183601686576003,
          -0.9932536875031758,
          -0.9130201307676574,
          0.23599961765639918,
          -0.907644265552415,
          -0.4059003241784779,
          -0.40559462458655027,
          -0.8673775755248581,
          -0.11708456453966688,
          0.41811628425794467,
          0.43330253690582343,
          0.9919377273178619,
          0.42956880272681164,
          0.3723664738008571,
          -0.10980344102067324,
          -1.0131998354255871,
          -0.5301330961257174,
          -0.26461965449053265,
          -0.20369128141287568,
          -1.0088489416970055,
          -0.4411446278669238,
          -0.2263867905724135,
          -0.018071101705572273,
          -0.12655647730159403,
          -0.5567456008901112,
          -0.46679827427341947,
          0.32763043614560877,
          0.47918678256576797,
          -0.5052861338246782,
          0.36459434691418413,
          -0.6279946178012692,
          0.9318343114554923,
          0.8925158716636297,
          0.9766724855385261,
          -0.4195291945856001,
          0.8393297626871603,
          -0.6199835106267465,
          -0.28124024851103274,
          -0.1904406284603145,
          1.0297583437734001,
          -0.016387504993464024,
          0.3223355105059986,
          0.3423945289008251,
          0.2160732981821777,
          0.5351313768517388,
          -0.3331031955389643,
          0.22568516576712744,
          -0.32063374578198656,
          -0.442417413207059,
          0.012511689360062295,
          0.4511577243803862,
          0.6580451950402096,
          0.36769159726190154,
          0.28156258638579523,
          -0.4544742631672164,
          -0.3784268474022433,
          0.20611169005029994,
          0.2268989678017504,
          -0.015653081039536262,
          -0.46282930690844143,
          0.2634503349858718,
          -0.45443059326044744,
          0.5391975041772525,
          0.31080376706991697,
          -0.06283489693817809,
          0.06175023212413019,
          0.7876812857613587,
          0.2126963700024523,
          -0.18644440946863428,
          -0.20137314027014216,
          -0.4982377213646168,
          -0.21166718259042683,
          -0.7486415658760799,
          1.0255154778831714,
          -0.8477628352514561,
          -0.8969971061914359,
          -0.6757989447375689,
          -0.3558251620195074,
          -0.3126286174448663,
          -0.5006806437644187,
          -0.5230230605868963,
          0.38458351406645935,
          -0.2899064322727979,
          0.5081591680244638,
          -1.020983285445461,
          -0.9780640528810689,
          -1.0107862466120658,
          0.06479459150000294,
          -0.5360222407530892,
          0.23821322432187725,
          0.653899817224999,
          0.791771292574615,
          -0.7061657469346958,
          0.21778497680114076,
          -0.1160256673715109,
          -0.9997378604755729,
          0.16692298722791804,
          0.04259684630654274,
          -0.10826316633091992,
          0.8876104045602017,
          0.5241574473899501,
          -0.4524677932530725,
          0.83134479459195,
          0.29309702240612867,
          -0.6648028725179282,
          0.23028016308321805,
          -0.5280038601053814,
          -0.34187890912897134,
          -0.08031659296760037,
          0.4785911727595207,
          0.14040089694508545,
          -0.8613139938937784,
          -0.8848753710796263,
          0.48543197336199095,
          -0.8933174329853344,
          0.08396973317529492,
          0.9931301134804894,
          -0.5955737588692581,
          -0.3768430261121888,
          -0.04449316082522352,
          0.4944953879249916,
          0.30976481720640875,
          0.407218410295982,
          0.5027023282821682,
          -0.5903353654119851,
          -0.15958436228262862,
          -0.12079307171773097,
          0.503273770841312,
          -0.0698210662383062,
          -0.3798473366224635,
          0.9623910777600344,
          -0.4444543878629154,
          0.47910824023298076,
          0.9241390428767218,
          0.9520122631563745,
          -0.2259279120017999,
          -0.9169950343034445,
          0.4153104156482624,
          -0.01824279410257204,
          -0.48637902794763826,
          1.0259387754795095,
          -0.11032428476760817,
          -0.7885872773992191,
          -0.3917461294144833,
          0.28942423043564075
         ],
         "xaxis": "x",
         "y": [
          -0.7246230553185677,
          -0.5046138789590727,
          -0.022401779642450596,
          0.5502031085633419,
          -0.4799160921780533,
          0.5417814174778036,
          0.9894142839755125,
          1.0320461416852238,
          -0.994630435573584,
          -0.5736932749423157,
          -0.8295463108290883,
          0.3301689864222125,
          1.0048855120837563,
          0.37601038825318267,
          0.3369778079912411,
          0.04561729994059667,
          0.9208484590084774,
          0.2938097004845002,
          -0.1869532101382047,
          0.5148490484108789,
          0.3891982398841827,
          -0.8546909216262035,
          -0.4721202717061935,
          -0.49303749081189496,
          -0.15091029843473253,
          0.11507271325864966,
          0.4564196738880445,
          -0.3371516048830692,
          0.7358336498253928,
          0.8386066116987111,
          -0.5066747395462887,
          -0.19298057949990705,
          -0.47794938085641525,
          -0.42136741152886475,
          0.4945356079470179,
          -0.4077785299008847,
          -0.4556502588749037,
          0.8879555351059046,
          0.9562028807056582,
          0.2469175799160808,
          0.3516545972738169,
          -0.15484683561619444,
          -0.537032461561183,
          0.3713286192469364,
          0.5073274176144358,
          0.5005248808038474,
          0.16772708761476512,
          0.41013727357741897,
          -0.5404790982647464,
          0.09847010960715816,
          -0.5700530427635513,
          0.4057296774218584,
          -0.23906914648386246,
          -0.5340012847755122,
          -0.37399694572306896,
          -0.1831494491904037,
          -0.8284906681095642,
          -0.8150213227619916,
          0.4238416190226378,
          0.3103608332057292,
          -0.43875706408214055,
          0.13285994659486697,
          0.38038432437484315,
          -0.4812464863386604,
          -0.22185276219759856,
          -0.8370441508687454,
          -0.4123002631477065,
          0.5489472546043862,
          -0.13236562687400127,
          -0.6277198832414286,
          -0.1255243910957199,
          1.0343208597979363,
          -0.3169953373814057,
          -0.6724133791600099,
          0.9335915049560701,
          0.1142303956698699,
          0.22392312388536173,
          -0.31495582480219714,
          -0.32216063638377646,
          -0.44682513177609073,
          -0.016595434548489066,
          -0.0024323677869529277,
          -0.5353168348813216,
          -0.393673100318807,
          -0.34395542574370785,
          -0.22836187175753953,
          -0.16336686324990723,
          -0.6205084026491549,
          0.1698134596987492,
          -0.3764101429590095,
          -0.2558430210863408,
          -0.5319774946316853,
          0.13454294571776987,
          -0.17883931691678018,
          -0.0006803766510480279,
          0.387432025040704,
          -0.24112745654597165,
          -0.07867888459841876,
          -0.5051182109152528,
          0.948554946715737,
          -0.20173858974124215,
          -0.4333150056496792,
          -0.8979929678191502,
          0.9100612617962238,
          -0.31453873985486974,
          -0.399189110286267,
          0.3336465402135719,
          -0.189740675386472,
          -0.11173668198434532,
          -0.5572858555996948,
          1.0049596895819526,
          -0.7535324562516061,
          -0.40879131457143536,
          -0.7765919192915332,
          1.0082973287737724,
          -1.0042775560053796,
          0.1406403701903333,
          -0.9857905184903384,
          0.753889815604322,
          -0.9826103245232343,
          -0.13617861515675755,
          -0.48802200106409377,
          -0.7971596705842953,
          0.982822808420657,
          -0.4659530663896369,
          0.5135453530900633,
          0.303287990918085,
          0.435969819640515,
          -0.7544206762447595,
          0.044223611639134824,
          0.32283815387556536,
          0.044669364544395046,
          -0.6605551584371754,
          -0.37590785075477223,
          0.009036229236010718,
          0.6279246367848967,
          0.6917729306525244,
          0.4864583901101107,
          0.34814850268955627,
          0.09021029859607763,
          -1.0141662437006993,
          0.037154314602478075,
          0.6489968372531705,
          -0.5158343208275533,
          -0.3180774345948675,
          0.36907238967984796,
          -1.0597301296853736,
          -0.4006948421534451,
          -0.9448359078826739,
          0.43571245121230107,
          0.5900863993807323,
          -0.4839383404883894,
          -0.3394063060709909,
          0.14533855738539725,
          0.9528954129124886,
          0.45624991325430125,
          0.7510353648691125,
          -0.97291513140919,
          0.6502302106404528,
          -1.0318241760460833,
          0.9277849328207106,
          -0.26035524572694835,
          0.5638479122158236,
          -0.6578855310654276,
          -0.9183396186390724,
          -0.43170008643438335,
          -0.4210839726366567,
          -0.8723350052701159,
          0.05044473467780845,
          0.4436594847860195,
          0.08338310852157431,
          -0.07989892842322104,
          0.3419083554712603,
          0.27298156460397455,
          0.39881979818157887,
          0.2515457744361035,
          -0.07864729972715873,
          0.8323546382316347,
          0.20828681954627787,
          0.17565119379776561,
          0.050669769237327404,
          0.07512515526901709,
          0.47095146280319655,
          -0.44493665074325994,
          -0.024192064901053342,
          0.9199209372164474,
          0.983971817434788,
          0.36814180750085185,
          -0.1603805772029857,
          0.1405308626794858,
          0.48337909065536183,
          -0.3246754111505624,
          0.21673300025874886,
          -0.6837217993323917,
          0.9020433640695944,
          -0.04500924114896991,
          -0.4448304711768763,
          0.5136615319376986,
          0.4409491109813653,
          -0.4582530518862392,
          0.8182344087784564,
          -0.030051065535515696,
          0.980184882366289,
          -0.14317550852961172,
          -0.9085704755488834,
          0.38918440165161206,
          0.3617459757386534,
          0.39614320299320016,
          0.4906395703281925,
          -0.895043334611669,
          -0.8686662168466942,
          0.31858640133831034,
          0.4919975162330069,
          0.7996227833206411,
          0.4545650040550283,
          0.4946224842347684,
          0.35234281975408194,
          -0.3287101422560169,
          0.8957107111810513,
          0.7971591075714488,
          0.43218821648994776,
          0.5113092366473571,
          0.006478643177113597,
          0.41432638186378473,
          0.38624654747574244,
          0.6157471228979603,
          -0.7330304921769538,
          -0.5019754121692833,
          -0.3004720632564255,
          0.12675530132553228,
          0.22194363762167116,
          0.3189768457638985,
          -0.10343499549194653,
          0.4495415462434793,
          -0.7576105505601507,
          -0.5572540778835251,
          -0.39213130666101687,
          -0.46248301622596755,
          -0.0710864310826046,
          -0.8726679581152715,
          -0.9281665957369937,
          -0.9764299576671727,
          -0.1617344882604482,
          -0.7172251720527483,
          -0.8348757516081997,
          0.7696275256066611,
          0.07639612515065881,
          -0.8062778804867616,
          0.39039524900135514,
          0.43134692034623623,
          -0.4723804513421176,
          -0.3360869625615391,
          0.3741799800647147,
          -0.22387274687755931,
          0.3389182042648988,
          0.9681715346217827,
          -0.12565384909343746,
          -0.9870687366566283,
          -0.4432428177290413,
          0.22308827392304031,
          -0.9532195652167167,
          -0.08303853282620627,
          -0.2982176624427147,
          -0.23899898159587063,
          0.46192983516288244,
          0.9234660220178732,
          -0.5699160151236996,
          -0.0010727526663750972,
          0.6755967853187809,
          0.8056459951144149,
          0.9331725789504013,
          0.4783042808974422,
          -0.37973738155364817,
          -0.30380223923830946,
          -0.4029880496484016,
          0.9765911216069517,
          0.38674627969356523,
          -0.4845183531492342,
          0.23601620384447583,
          -0.5042912335294528,
          0.4782867860990216,
          0.6929491616689957,
          -0.8478329110874164,
          0.41799470841229197,
          -0.9942316194665594,
          0.19593400139720185,
          -0.7339625056089066,
          0.4281358327076626,
          0.06960331935581349,
          0.22566702044787113,
          -0.28694360599125646,
          -0.012662734524578834,
          -0.9154408773793595,
          -0.9030639206660395,
          -0.21114556057133232,
          -0.8480038983119249,
          -0.4930942878448841,
          0.4185738274269741,
          0.0087360819284351,
          0.4687259772996688,
          -0.1169295649509089,
          0.7175331519040454,
          -0.8865504752356599,
          0.3827562078939416,
          -0.09451318245584353,
          -0.2316537954087746,
          0.653248032428128,
          -0.5813326826734863,
          0.9647928010526692,
          -0.3063258927376726,
          -0.9338360054447489,
          0.4442158888504744,
          0.6310843750561912,
          0.27125244531066917,
          -0.11303089881701553,
          0.37249816704909355,
          -0.12775664064516085,
          -0.3718365952866403,
          0.8468132297452462,
          0.254858073894591,
          -0.21009312380574105,
          0.47270503279566295,
          0.2292992347139133,
          -0.17669811127821405,
          0.9104775799762007,
          -0.001975482974077023,
          -0.6615574376017399,
          -0.5139739558243968,
          0.5199491670462519,
          0.9326112112821671,
          -0.30178066563290634,
          0.8294785018641961,
          0.5436345083727624,
          0.19331245560352722,
          0.6704329280131496,
          0.24611640092890072,
          0.8008681457112646,
          0.023085809428520104,
          -0.5043139520570714,
          0.5054702225404824,
          -0.895457193385604,
          0.21140180535085037,
          -0.7800723591976612,
          0.5164542433903156,
          0.5199678258060962,
          0.9516937739629187,
          -0.9939177679689967,
          0.22007587661432917,
          -0.3904021337492254,
          0.6890339477639965,
          -0.7266346204815388,
          0.1673767105384118,
          0.5636321413841032,
          -0.42257605949723975,
          -0.3950995332509139,
          0.326924145360083,
          -0.02074918615969122,
          -0.31711003739091526,
          0.897030990431533,
          -0.5382575392048503,
          -0.40974954302933864,
          -0.16202970495337504,
          -0.4046903488420743,
          0.4156691171285877,
          0.13525871806057516,
          0.24619758993781893,
          -0.09584190685139422,
          -0.09416449525106488,
          0.9002129485444333,
          -0.4166936068032673,
          -0.15556667542124278,
          0.9333093703531111,
          -0.4614357096061179,
          0.385831435743074,
          -0.27440565587364574,
          0.23705611749308403,
          0.43256082974294036,
          0.4888724979650115,
          -1.0241460680757069,
          -0.8284259064655298,
          -0.2501079851303794,
          0.967629746788998,
          0.026934112572963256,
          0.17721431843051308,
          0.3573193051111224,
          0.022438735040490834,
          -0.3210664449873077,
          0.17674457373096963,
          -0.13522931008750858,
          -0.20331933771985153,
          0.5924733170795303,
          -0.7787772194062265,
          0.46045878560340936,
          -0.2826774014749241,
          -0.12454758989129647,
          -0.4921308073140194,
          0.41310707488382364,
          -0.3238320834653003,
          -0.41640769875176126,
          -0.1585702996213833,
          0.4276619159111768,
          -0.9993301397439559,
          0.386568720250862,
          -0.15090745467312847,
          -0.9600992363091387,
          -0.11475588653587504,
          0.7400575521166177,
          0.9409651438799886,
          -0.3942834295508821,
          0.23173553340521483,
          -0.1732328973788562,
          0.5403745404028004,
          -0.4141697392079387,
          0.988935134830284,
          0.1429396779252916,
          -1.0013381455328274,
          0.05599418617017309,
          0.2874254357820817,
          1.044567613108905,
          -0.9140166765048389,
          0.40341993303760787,
          0.656606126409984,
          0.4191857700330667,
          -0.4813764950910739,
          -0.9351961717907573,
          0.1548246461187651,
          0.4592899916089896,
          -0.7502795045777549,
          0.09048946082119226,
          0.5105294284740576,
          -0.5348997534929715,
          -0.7175643160294947,
          -0.32941958855342623,
          -0.8817680562701675,
          -0.30668081465965513,
          -0.14520522692531473,
          -0.16527700187512995,
          -0.9119386661075919,
          -0.15800200476314347,
          0.11252336089948317,
          0.16517767924579718,
          -0.05222627355789539,
          -0.41991372459660126,
          0.27382516394375,
          1.0523210780407135,
          -0.8015556157606722,
          0.7538941916433223,
          -0.7266267573156572,
          0.3911773635266199,
          -0.4081047168676094,
          0.1792285606921023,
          -0.982096217000715,
          1.0401772671500693,
          0.4864998146937929,
          -0.5177247484479112,
          -0.27607160916904144,
          -0.38926181766225304,
          0.40352779604841454,
          -0.36868306780063853,
          0.803366189049093,
          -1.0560576319743478,
          0.7266457322410818,
          0.5195646775357421,
          -1.0164441029213207,
          -0.17107878759211492,
          0.5205814027744654,
          0.3984150062574944,
          -0.4934803002711874,
          -0.8270222588066444,
          0.11948583027017023,
          -0.615854941053424,
          0.03664989493567258,
          0.7328438824876417,
          -0.37606853539245483,
          0.8921441775960128,
          0.988964284251712,
          0.25001232630745945,
          -0.3319732694012512,
          0.10963425257519967,
          0.8248035095566235,
          -1.0537194091321243,
          -0.4734528503721915,
          -0.2141469543724224,
          -1.0032629511185105,
          0.9316265727048888,
          -0.12012825312968134,
          0.3656897339409189,
          0.30042198733012876,
          0.2899909471313145,
          0.2677749854329082,
          -0.4840007566000425,
          -0.2210603230941412,
          1.0133317613048696,
          0.5863882757483818,
          0.10324039983078909,
          -0.20243086980064118,
          -0.453644193799595,
          0.5954530596424414,
          -0.4243318282491147,
          0.47367569950121147
         ],
         "yaxis": "y"
        }
       ],
       "layout": {
        "coloraxis": {
         "colorbar": {
          "title": {
           "text": "labels"
          }
         },
         "colorscale": [
          [
           0,
           "rgb(253, 224, 197)"
          ],
          [
           0.16666666666666666,
           "rgb(250, 203, 166)"
          ],
          [
           0.3333333333333333,
           "rgb(248, 181, 139)"
          ],
          [
           0.5,
           "rgb(245, 158, 114)"
          ],
          [
           0.6666666666666666,
           "rgb(242, 133, 93)"
          ],
          [
           0.8333333333333334,
           "rgb(239, 106, 76)"
          ],
          [
           1,
           "rgb(235, 74, 64)"
          ]
         ]
        },
        "legend": {
         "tracegroupgap": 0
        },
        "margin": {
         "t": 60
        },
        "template": {
         "data": {
          "bar": [
           {
            "error_x": {
             "color": "#2a3f5f"
            },
            "error_y": {
             "color": "#2a3f5f"
            },
            "marker": {
             "line": {
              "color": "#E5ECF6",
              "width": 0.5
             },
             "pattern": {
              "fillmode": "overlay",
              "size": 10,
              "solidity": 0.2
             }
            },
            "type": "bar"
           }
          ],
          "barpolar": [
           {
            "marker": {
             "line": {
              "color": "#E5ECF6",
              "width": 0.5
             },
             "pattern": {
              "fillmode": "overlay",
              "size": 10,
              "solidity": 0.2
             }
            },
            "type": "barpolar"
           }
          ],
          "carpet": [
           {
            "aaxis": {
             "endlinecolor": "#2a3f5f",
             "gridcolor": "white",
             "linecolor": "white",
             "minorgridcolor": "white",
             "startlinecolor": "#2a3f5f"
            },
            "baxis": {
             "endlinecolor": "#2a3f5f",
             "gridcolor": "white",
             "linecolor": "white",
             "minorgridcolor": "white",
             "startlinecolor": "#2a3f5f"
            },
            "type": "carpet"
           }
          ],
          "choropleth": [
           {
            "colorbar": {
             "outlinewidth": 0,
             "ticks": ""
            },
            "type": "choropleth"
           }
          ],
          "contour": [
           {
            "colorbar": {
             "outlinewidth": 0,
             "ticks": ""
            },
            "colorscale": [
             [
              0,
              "#0d0887"
             ],
             [
              0.1111111111111111,
              "#46039f"
             ],
             [
              0.2222222222222222,
              "#7201a8"
             ],
             [
              0.3333333333333333,
              "#9c179e"
             ],
             [
              0.4444444444444444,
              "#bd3786"
             ],
             [
              0.5555555555555556,
              "#d8576b"
             ],
             [
              0.6666666666666666,
              "#ed7953"
             ],
             [
              0.7777777777777778,
              "#fb9f3a"
             ],
             [
              0.8888888888888888,
              "#fdca26"
             ],
             [
              1,
              "#f0f921"
             ]
            ],
            "type": "contour"
           }
          ],
          "contourcarpet": [
           {
            "colorbar": {
             "outlinewidth": 0,
             "ticks": ""
            },
            "type": "contourcarpet"
           }
          ],
          "heatmap": [
           {
            "colorbar": {
             "outlinewidth": 0,
             "ticks": ""
            },
            "colorscale": [
             [
              0,
              "#0d0887"
             ],
             [
              0.1111111111111111,
              "#46039f"
             ],
             [
              0.2222222222222222,
              "#7201a8"
             ],
             [
              0.3333333333333333,
              "#9c179e"
             ],
             [
              0.4444444444444444,
              "#bd3786"
             ],
             [
              0.5555555555555556,
              "#d8576b"
             ],
             [
              0.6666666666666666,
              "#ed7953"
             ],
             [
              0.7777777777777778,
              "#fb9f3a"
             ],
             [
              0.8888888888888888,
              "#fdca26"
             ],
             [
              1,
              "#f0f921"
             ]
            ],
            "type": "heatmap"
           }
          ],
          "heatmapgl": [
           {
            "colorbar": {
             "outlinewidth": 0,
             "ticks": ""
            },
            "colorscale": [
             [
              0,
              "#0d0887"
             ],
             [
              0.1111111111111111,
              "#46039f"
             ],
             [
              0.2222222222222222,
              "#7201a8"
             ],
             [
              0.3333333333333333,
              "#9c179e"
             ],
             [
              0.4444444444444444,
              "#bd3786"
             ],
             [
              0.5555555555555556,
              "#d8576b"
             ],
             [
              0.6666666666666666,
              "#ed7953"
             ],
             [
              0.7777777777777778,
              "#fb9f3a"
             ],
             [
              0.8888888888888888,
              "#fdca26"
             ],
             [
              1,
              "#f0f921"
             ]
            ],
            "type": "heatmapgl"
           }
          ],
          "histogram": [
           {
            "marker": {
             "pattern": {
              "fillmode": "overlay",
              "size": 10,
              "solidity": 0.2
             }
            },
            "type": "histogram"
           }
          ],
          "histogram2d": [
           {
            "colorbar": {
             "outlinewidth": 0,
             "ticks": ""
            },
            "colorscale": [
             [
              0,
              "#0d0887"
             ],
             [
              0.1111111111111111,
              "#46039f"
             ],
             [
              0.2222222222222222,
              "#7201a8"
             ],
             [
              0.3333333333333333,
              "#9c179e"
             ],
             [
              0.4444444444444444,
              "#bd3786"
             ],
             [
              0.5555555555555556,
              "#d8576b"
             ],
             [
              0.6666666666666666,
              "#ed7953"
             ],
             [
              0.7777777777777778,
              "#fb9f3a"
             ],
             [
              0.8888888888888888,
              "#fdca26"
             ],
             [
              1,
              "#f0f921"
             ]
            ],
            "type": "histogram2d"
           }
          ],
          "histogram2dcontour": [
           {
            "colorbar": {
             "outlinewidth": 0,
             "ticks": ""
            },
            "colorscale": [
             [
              0,
              "#0d0887"
             ],
             [
              0.1111111111111111,
              "#46039f"
             ],
             [
              0.2222222222222222,
              "#7201a8"
             ],
             [
              0.3333333333333333,
              "#9c179e"
             ],
             [
              0.4444444444444444,
              "#bd3786"
             ],
             [
              0.5555555555555556,
              "#d8576b"
             ],
             [
              0.6666666666666666,
              "#ed7953"
             ],
             [
              0.7777777777777778,
              "#fb9f3a"
             ],
             [
              0.8888888888888888,
              "#fdca26"
             ],
             [
              1,
              "#f0f921"
             ]
            ],
            "type": "histogram2dcontour"
           }
          ],
          "mesh3d": [
           {
            "colorbar": {
             "outlinewidth": 0,
             "ticks": ""
            },
            "type": "mesh3d"
           }
          ],
          "parcoords": [
           {
            "line": {
             "colorbar": {
              "outlinewidth": 0,
              "ticks": ""
             }
            },
            "type": "parcoords"
           }
          ],
          "pie": [
           {
            "automargin": true,
            "type": "pie"
           }
          ],
          "scatter": [
           {
            "fillpattern": {
             "fillmode": "overlay",
             "size": 10,
             "solidity": 0.2
            },
            "type": "scatter"
           }
          ],
          "scatter3d": [
           {
            "line": {
             "colorbar": {
              "outlinewidth": 0,
              "ticks": ""
             }
            },
            "marker": {
             "colorbar": {
              "outlinewidth": 0,
              "ticks": ""
             }
            },
            "type": "scatter3d"
           }
          ],
          "scattercarpet": [
           {
            "marker": {
             "colorbar": {
              "outlinewidth": 0,
              "ticks": ""
             }
            },
            "type": "scattercarpet"
           }
          ],
          "scattergeo": [
           {
            "marker": {
             "colorbar": {
              "outlinewidth": 0,
              "ticks": ""
             }
            },
            "type": "scattergeo"
           }
          ],
          "scattergl": [
           {
            "marker": {
             "colorbar": {
              "outlinewidth": 0,
              "ticks": ""
             }
            },
            "type": "scattergl"
           }
          ],
          "scattermapbox": [
           {
            "marker": {
             "colorbar": {
              "outlinewidth": 0,
              "ticks": ""
             }
            },
            "type": "scattermapbox"
           }
          ],
          "scatterpolar": [
           {
            "marker": {
             "colorbar": {
              "outlinewidth": 0,
              "ticks": ""
             }
            },
            "type": "scatterpolar"
           }
          ],
          "scatterpolargl": [
           {
            "marker": {
             "colorbar": {
              "outlinewidth": 0,
              "ticks": ""
             }
            },
            "type": "scatterpolargl"
           }
          ],
          "scatterternary": [
           {
            "marker": {
             "colorbar": {
              "outlinewidth": 0,
              "ticks": ""
             }
            },
            "type": "scatterternary"
           }
          ],
          "surface": [
           {
            "colorbar": {
             "outlinewidth": 0,
             "ticks": ""
            },
            "colorscale": [
             [
              0,
              "#0d0887"
             ],
             [
              0.1111111111111111,
              "#46039f"
             ],
             [
              0.2222222222222222,
              "#7201a8"
             ],
             [
              0.3333333333333333,
              "#9c179e"
             ],
             [
              0.4444444444444444,
              "#bd3786"
             ],
             [
              0.5555555555555556,
              "#d8576b"
             ],
             [
              0.6666666666666666,
              "#ed7953"
             ],
             [
              0.7777777777777778,
              "#fb9f3a"
             ],
             [
              0.8888888888888888,
              "#fdca26"
             ],
             [
              1,
              "#f0f921"
             ]
            ],
            "type": "surface"
           }
          ],
          "table": [
           {
            "cells": {
             "fill": {
              "color": "#EBF0F8"
             },
             "line": {
              "color": "white"
             }
            },
            "header": {
             "fill": {
              "color": "#C8D4E3"
             },
             "line": {
              "color": "white"
             }
            },
            "type": "table"
           }
          ]
         },
         "layout": {
          "annotationdefaults": {
           "arrowcolor": "#2a3f5f",
           "arrowhead": 0,
           "arrowwidth": 1
          },
          "autotypenumbers": "strict",
          "coloraxis": {
           "colorbar": {
            "outlinewidth": 0,
            "ticks": ""
           }
          },
          "colorscale": {
           "diverging": [
            [
             0,
             "#8e0152"
            ],
            [
             0.1,
             "#c51b7d"
            ],
            [
             0.2,
             "#de77ae"
            ],
            [
             0.3,
             "#f1b6da"
            ],
            [
             0.4,
             "#fde0ef"
            ],
            [
             0.5,
             "#f7f7f7"
            ],
            [
             0.6,
             "#e6f5d0"
            ],
            [
             0.7,
             "#b8e186"
            ],
            [
             0.8,
             "#7fbc41"
            ],
            [
             0.9,
             "#4d9221"
            ],
            [
             1,
             "#276419"
            ]
           ],
           "sequential": [
            [
             0,
             "#0d0887"
            ],
            [
             0.1111111111111111,
             "#46039f"
            ],
            [
             0.2222222222222222,
             "#7201a8"
            ],
            [
             0.3333333333333333,
             "#9c179e"
            ],
            [
             0.4444444444444444,
             "#bd3786"
            ],
            [
             0.5555555555555556,
             "#d8576b"
            ],
            [
             0.6666666666666666,
             "#ed7953"
            ],
            [
             0.7777777777777778,
             "#fb9f3a"
            ],
            [
             0.8888888888888888,
             "#fdca26"
            ],
            [
             1,
             "#f0f921"
            ]
           ],
           "sequentialminus": [
            [
             0,
             "#0d0887"
            ],
            [
             0.1111111111111111,
             "#46039f"
            ],
            [
             0.2222222222222222,
             "#7201a8"
            ],
            [
             0.3333333333333333,
             "#9c179e"
            ],
            [
             0.4444444444444444,
             "#bd3786"
            ],
            [
             0.5555555555555556,
             "#d8576b"
            ],
            [
             0.6666666666666666,
             "#ed7953"
            ],
            [
             0.7777777777777778,
             "#fb9f3a"
            ],
            [
             0.8888888888888888,
             "#fdca26"
            ],
            [
             1,
             "#f0f921"
            ]
           ]
          },
          "colorway": [
           "#636efa",
           "#EF553B",
           "#00cc96",
           "#ab63fa",
           "#FFA15A",
           "#19d3f3",
           "#FF6692",
           "#B6E880",
           "#FF97FF",
           "#FECB52"
          ],
          "font": {
           "color": "#2a3f5f"
          },
          "geo": {
           "bgcolor": "white",
           "lakecolor": "white",
           "landcolor": "#E5ECF6",
           "showlakes": true,
           "showland": true,
           "subunitcolor": "white"
          },
          "hoverlabel": {
           "align": "left"
          },
          "hovermode": "closest",
          "mapbox": {
           "style": "light"
          },
          "paper_bgcolor": "white",
          "plot_bgcolor": "#E5ECF6",
          "polar": {
           "angularaxis": {
            "gridcolor": "white",
            "linecolor": "white",
            "ticks": ""
           },
           "bgcolor": "#E5ECF6",
           "radialaxis": {
            "gridcolor": "white",
            "linecolor": "white",
            "ticks": ""
           }
          },
          "scene": {
           "xaxis": {
            "backgroundcolor": "#E5ECF6",
            "gridcolor": "white",
            "gridwidth": 2,
            "linecolor": "white",
            "showbackground": true,
            "ticks": "",
            "zerolinecolor": "white"
           },
           "yaxis": {
            "backgroundcolor": "#E5ECF6",
            "gridcolor": "white",
            "gridwidth": 2,
            "linecolor": "white",
            "showbackground": true,
            "ticks": "",
            "zerolinecolor": "white"
           },
           "zaxis": {
            "backgroundcolor": "#E5ECF6",
            "gridcolor": "white",
            "gridwidth": 2,
            "linecolor": "white",
            "showbackground": true,
            "ticks": "",
            "zerolinecolor": "white"
           }
          },
          "shapedefaults": {
           "line": {
            "color": "#2a3f5f"
           }
          },
          "ternary": {
           "aaxis": {
            "gridcolor": "white",
            "linecolor": "white",
            "ticks": ""
           },
           "baxis": {
            "gridcolor": "white",
            "linecolor": "white",
            "ticks": ""
           },
           "bgcolor": "#E5ECF6",
           "caxis": {
            "gridcolor": "white",
            "linecolor": "white",
            "ticks": ""
           }
          },
          "title": {
           "x": 0.05
          },
          "xaxis": {
           "automargin": true,
           "gridcolor": "white",
           "linecolor": "white",
           "ticks": "",
           "title": {
            "standoff": 15
           },
           "zerolinecolor": "white",
           "zerolinewidth": 2
          },
          "yaxis": {
           "automargin": true,
           "gridcolor": "white",
           "linecolor": "white",
           "ticks": "",
           "title": {
            "standoff": 15
           },
           "zerolinecolor": "white",
           "zerolinewidth": 2
          }
         }
        },
        "xaxis": {
         "anchor": "y",
         "domain": [
          0,
          1
         ],
         "title": {
          "text": "x1"
         }
        },
        "yaxis": {
         "anchor": "x",
         "domain": [
          0,
          1
         ],
         "title": {
          "text": "x2"
         }
        }
       }
      },
      "text/html": [
       "<div>                        <script type=\"text/javascript\">window.PlotlyConfig = {MathJaxConfig: 'local'};</script>\n",
       "        <script charset=\"utf-8\" src=\"https://cdn.plot.ly/plotly-2.20.0.min.js\"></script>                <div id=\"58ae023e-18b2-4328-bdc2-63fb1e6f25a5\" class=\"plotly-graph-div\" style=\"height:100%; width:100%;\"></div>            <script type=\"text/javascript\">                                    window.PLOTLYENV=window.PLOTLYENV || {};                                    if (document.getElementById(\"58ae023e-18b2-4328-bdc2-63fb1e6f25a5\")) {                    Plotly.newPlot(                        \"58ae023e-18b2-4328-bdc2-63fb1e6f25a5\",                        [{\"hovertemplate\":\"x1=%{x}<br>x2=%{y}<br>labels=%{marker.color}<extra></extra>\",\"legendgroup\":\"\",\"marker\":{\"color\":[0,0,1,0,2,0,0,0,0,2,0,0,0,0,1,1,0,1,0,1,1,0,2,1,1,0,1,1,0,0,1,1,1,1,1,1,1,0,0,1,1,0,1,0,0,0,1,1,0,1,0,1,0,1,0,1,0,0,1,1,1,1,0,1,0,0,1,0,0,0,0,2,0,0,0,1,1,1,1,1,1,0,0,1,1,1,1,0,0,1,1,0,1,0,0,1,0,1,1,0,1,1,2,0,0,1,1,1,1,1,0,0,0,2,0,0,1,0,0,0,1,1,0,0,1,0,0,1,0,1,1,0,0,0,1,0,0,1,0,1,0,0,0,0,1,1,0,1,2,1,0,1,0,1,0,1,0,0,0,0,0,0,0,0,0,1,1,0,1,0,1,0,0,0,1,0,0,0,1,0,1,1,1,1,1,0,0,1,1,1,1,1,1,0,0,1,1,0,1,1,0,1,0,1,0,1,1,1,1,0,0,0,1,0,1,1,1,1,0,0,0,0,1,1,1,0,0,1,1,0,1,1,0,1,0,0,1,1,1,0,0,0,0,0,0,0,0,0,0,1,1,1,0,0,1,0,1,0,1,1,0,1,1,1,1,0,0,1,0,0,0,1,0,1,1,0,1,1,0,1,1,0,0,1,0,1,0,1,0,1,1,1,0,2,0,0,1,0,1,1,0,0,0,1,1,0,0,0,0,0,0,0,0,0,1,1,1,1,0,0,2,1,1,1,0,1,0,1,1,0,1,0,0,1,2,1,0,1,1,1,0,1,0,1,0,0,0,1,1,0,1,0,0,1,1,1,0,0,2,0,1,1,0,1,1,1,0,1,2,1,0,0,1,1,0,1,1,1,0,0,1,0,1,1,1,1,2,0,0,1,0,0,1,1,0,1,1,1,1,1,1,0,1,1,0,1,0,0,1,1,1,1,1,0,1,0,1,1,0,0,1,0,1,1,0,1,1,0,0,0,0,0,1,0,1,1,1,0,1,0,0,0,1,1,0,0,0,0,1,1,0,0,0,1,0,1,1,0,1,0,0,2,1,0,1,1,0,0,0,0,1,0,1,1,1,0,1,1,1,0,0,1,1,0,0,0,1,1,0,0,1,0,0,1,1,0,1,0,1,1],\"coloraxis\":\"coloraxis\",\"opacity\":0.5,\"symbol\":\"circle\"},\"mode\":\"markers\",\"name\":\"\",\"orientation\":\"v\",\"showlegend\":false,\"x\":[-0.7107914647220959,0.7869914887203142,-0.559017430389078,-0.7736313603460773,-0.010384149735780987,0.8485121380179076,0.01562574670676821,-0.32382850287286774,-0.2879999783858823,0.7938297848733236,0.5893903986505342,-0.9988889588099793,-0.07711346620322385,0.8732268882191189,-0.3518723086591878,-0.512996764270274,0.4346558326881088,0.4126037312861328,-0.921857802369249,-0.1367918580206855,0.358479379591328,0.5206873346699497,-0.8734347367006049,0.0804287531684414,-0.4400340342195124,0.9521547721079382,0.17327999438058436,0.44612515524463625,0.661221263066513,0.6132428867949705,0.0024459098614987296,-0.47822086654877777,-0.12008042091258413,-0.07912941659290301,0.06772382167176583,-0.2790897168927793,0.19406448339189572,-0.139188838401423,-0.1780142971109232,0.38301044340274637,-0.260646877199828,0.9120552467718357,0.10054763755958392,1.004731527671946,0.9571942142186293,0.8782969260281835,0.44036690177973853,-0.46858814386378217,0.04678928968501998,-0.41770033875855583,0.8734635452823544,-0.3737299125383004,-0.9405377951841066,0.11411764227302315,-0.948339309913951,0.5287274583107359,-0.6762434801972242,0.6541755188835426,-0.2898905785272562,0.34141800110388043,0.2881709572956208,-0.49922758605491513,-0.9665675117160609,0.3560051469452302,1.0080382953856784,0.3467460018719165,-0.4143626953926406,0.7932536050905841,-1.0316785869270555,0.865976782124816,-0.4479722265392393,-0.17258818109016838,0.8986597103552377,-0.7521845783368377,-0.27924364573305255,-0.41217808604209283,-0.499495419431044,-0.49232846025832555,0.4264191794016734,0.20314807916932182,-0.4136612073726901,-0.9101614317908713,0.8656327391367817,0.4147972037558035,0.3613841400684628,-0.4507539909887899,-0.521372909371644,-0.8500516769630251,1.0251784722383148,0.4298941757834104,0.3871832750362315,0.8767552500156632,0.5586915567778498,1.0290070903020558,1.0022351612107436,-0.24788637935603738,0.9324734534254666,-0.5351269665964346,0.22913748569620632,-0.2151424437348046,0.4700766694244046,0.2630805997961077,0.40414192014339045,-0.4079886581967283,-0.9561121549726508,-0.12302564954870855,0.403083011203199,-0.29674775201055414,-0.607780566160411,0.10194027108622046,-0.3736632837575105,0.7405583961946425,0.8985763381639914,0.6157465333148304,0.12551057245198352,0.050134643300398116,-0.47480624873203736,0.1955304932686486,0.6137735719471692,0.329984824319458,0.49477604606465514,-0.2014101730386521,-0.5936613386148336,-0.040293754095397934,-0.2593950338435414,0.13056159673819542,-0.9998537766130946,0.12283520380409943,-0.5975732853805862,0.5232922009845135,0.34226542040529684,0.949737572669298,-0.8720121051982916,-0.9603148068505505,-0.4526022744979735,0.8052458308406567,-0.7573468125826673,-0.03032027531078177,0.9339635951023001,0.44456959787547506,0.3017178702862614,-1.0181479466758476,-0.6954703575794283,-0.8324985392146625,0.3026702957653888,-0.19188134103332838,0.07156064272557155,0.10857942635672005,-0.07843338706257512,0.19531672299476366,0.8790679082998856,0.03633804836001264,0.9798686044572599,0.46296689300343735,0.25759294158177415,0.03560821686928455,-0.4580113247976006,-0.33161696350270387,-0.6724947701247604,-0.31667271326806745,-0.19318408566563686,0.966346512086449,0.8360841191313354,-0.8165956984997444,0.26105179924352884,0.030208544929381395,-0.25922799522262796,-0.3855963747401208,-0.4928918927024408,-0.8779988908045149,-0.4825290542939312,0.480268536554837,-1.000202316393699,-0.9280136015941334,-0.1945530430725758,0.42101768023756275,1.064019633347016,0.5955472277145204,0.42973138737346767,-1.020564913036607,0.4606998151217321,-0.5125207798990777,0.02284713228071485,-0.2693701468390235,-0.5124167703011657,0.4042593736400472,-0.43930976031843866,-0.4001446206458912,-0.3899177312922435,-0.42554237169262216,0.18415383481409614,0.3690425777630315,0.45129421829296823,0.7001975527675084,0.1808654097205176,0.4931256255947981,0.2323821561792442,0.8759560713174561,0.02415240428889186,0.13704204722243152,-0.4951301600236244,0.5274893000705291,0.09768920690356142,-0.45798468086207994,-0.5713027222842756,0.1864288478382679,0.40848032466022194,0.30722241521458815,-0.17902075057050496,-0.4635995096417168,-0.5498082330375533,0.32180283878468074,0.07728083849323124,0.5706693053105272,-0.07447998355414283,-0.09224232735073822,-0.42336197168095746,0.38653797352498265,0.5799361543856205,-0.6272547941807974,0.8930473929428373,-0.8864168973979161,0.47841103465511936,-0.28327932924669985,-0.109109159669518,0.8386674281428376,-0.6701524984173156,-0.08492264372595053,-0.3805780401593095,-0.965425482381448,-0.5049127379277152,0.4366179815798939,-0.9993361920536434,0.1594558922539397,0.6272435508123531,0.9149547409922101,-0.36834201099299413,-0.12861127854974788,0.4905543535142295,0.513526353993385,-0.3219751267843566,-0.205356122942753,1.0091784811279418,-0.5320841322518185,-0.31765187255782146,0.616905663514917,0.5228352648434907,-0.4496714426891724,0.9039898744935267,-0.33600519661673944,0.24611258366681088,0.23768899472810204,0.16516186009168785,0.9497073029854958,-0.18832887753986363,-0.133923941021175,-0.4992642009272046,0.16758238831647376,0.05293539825864464,-0.37475593909313,0.03732685894299144,-0.5258991995093385,-0.38016912330648034,-0.3754228073991712,0.18099867073047443,-0.09655037081670464,-0.7792424927770835,0.4434133817734686,-0.8617420033510013,0.6951394145664658,0.10645333209815645,0.21724096158064798,-0.8976074020080981,0.3928494929290305,-0.15091568945917466,0.03427411502078723,0.3763224537813034,-0.1091207787416479,0.9086682396146504,0.22188398806752185,-0.20337678607798523,0.7354981927990585,-0.5066507864679201,-0.25191823647469747,-0.3187203759785632,-0.36008799089112997,0.6303009568160004,-0.09299149807353932,0.9399580200614073,-0.33060855254261484,0.2447717364043036,0.47966527873446957,0.4495463644648426,0.6437452306131495,-0.9499055313579794,0.5488130451203969,0.24316682566104403,-0.9126044520407203,0.5614823300481823,0.20405548860007597,-0.952873168401792,0.7002655033769067,0.49485295895040826,0.11800852576417746,0.5346124034587822,0.9243564583796557,-0.6672420341515989,0.9030953547773635,-0.2229152579431338,-0.9790304678157336,0.3330169365729839,-0.9235887843535506,-0.9066752779634764,1.0164845583518858,0.4799530205427461,-0.4002176594307675,-0.5028553556103977,-0.37574320974714154,0.4876669970524078,-1.0603428631437521,-1.0332837268498443,0.23852313149329965,0.45084793739208695,0.43419014169366676,-0.41783871163510206,0.4501532225971546,0.7189529718727612,0.14469657527952526,0.13649310001721565,0.362534870182007,0.3685381786905526,-0.5325639606585265,-0.7497180979383893,0.42560200894276823,-0.6148295618922903,0.4419306742071203,-0.5612791430583293,-0.5058375233548934,0.0745437632275546,0.17167752179859994,-0.3360654530184191,0.46690690974511023,0.6177848955501242,-0.11157098916785418,-0.8689965328128134,-0.3579927652048253,0.05980122776862043,-0.5016083501893576,-0.2418053194209384,0.6762378842053495,0.8101758716586689,-1.0304468839707646,-0.9263887172228213,-0.2160403582960742,-0.3669145930888048,0.3183601686576003,-0.9932536875031758,-0.9130201307676574,0.23599961765639918,-0.907644265552415,-0.4059003241784779,-0.40559462458655027,-0.8673775755248581,-0.11708456453966688,0.41811628425794467,0.43330253690582343,0.9919377273178619,0.42956880272681164,0.3723664738008571,-0.10980344102067324,-1.0131998354255871,-0.5301330961257174,-0.26461965449053265,-0.20369128141287568,-1.0088489416970055,-0.4411446278669238,-0.2263867905724135,-0.018071101705572273,-0.12655647730159403,-0.5567456008901112,-0.46679827427341947,0.32763043614560877,0.47918678256576797,-0.5052861338246782,0.36459434691418413,-0.6279946178012692,0.9318343114554923,0.8925158716636297,0.9766724855385261,-0.4195291945856001,0.8393297626871603,-0.6199835106267465,-0.28124024851103274,-0.1904406284603145,1.0297583437734001,-0.016387504993464024,0.3223355105059986,0.3423945289008251,0.2160732981821777,0.5351313768517388,-0.3331031955389643,0.22568516576712744,-0.32063374578198656,-0.442417413207059,0.012511689360062295,0.4511577243803862,0.6580451950402096,0.36769159726190154,0.28156258638579523,-0.4544742631672164,-0.3784268474022433,0.20611169005029994,0.2268989678017504,-0.015653081039536262,-0.46282930690844143,0.2634503349858718,-0.45443059326044744,0.5391975041772525,0.31080376706991697,-0.06283489693817809,0.06175023212413019,0.7876812857613587,0.2126963700024523,-0.18644440946863428,-0.20137314027014216,-0.4982377213646168,-0.21166718259042683,-0.7486415658760799,1.0255154778831714,-0.8477628352514561,-0.8969971061914359,-0.6757989447375689,-0.3558251620195074,-0.3126286174448663,-0.5006806437644187,-0.5230230605868963,0.38458351406645935,-0.2899064322727979,0.5081591680244638,-1.020983285445461,-0.9780640528810689,-1.0107862466120658,0.06479459150000294,-0.5360222407530892,0.23821322432187725,0.653899817224999,0.791771292574615,-0.7061657469346958,0.21778497680114076,-0.1160256673715109,-0.9997378604755729,0.16692298722791804,0.04259684630654274,-0.10826316633091992,0.8876104045602017,0.5241574473899501,-0.4524677932530725,0.83134479459195,0.29309702240612867,-0.6648028725179282,0.23028016308321805,-0.5280038601053814,-0.34187890912897134,-0.08031659296760037,0.4785911727595207,0.14040089694508545,-0.8613139938937784,-0.8848753710796263,0.48543197336199095,-0.8933174329853344,0.08396973317529492,0.9931301134804894,-0.5955737588692581,-0.3768430261121888,-0.04449316082522352,0.4944953879249916,0.30976481720640875,0.407218410295982,0.5027023282821682,-0.5903353654119851,-0.15958436228262862,-0.12079307171773097,0.503273770841312,-0.0698210662383062,-0.3798473366224635,0.9623910777600344,-0.4444543878629154,0.47910824023298076,0.9241390428767218,0.9520122631563745,-0.2259279120017999,-0.9169950343034445,0.4153104156482624,-0.01824279410257204,-0.48637902794763826,1.0259387754795095,-0.11032428476760817,-0.7885872773992191,-0.3917461294144833,0.28942423043564075],\"xaxis\":\"x\",\"y\":[-0.7246230553185677,-0.5046138789590727,-0.022401779642450596,0.5502031085633419,-0.4799160921780533,0.5417814174778036,0.9894142839755125,1.0320461416852238,-0.994630435573584,-0.5736932749423157,-0.8295463108290883,0.3301689864222125,1.0048855120837563,0.37601038825318267,0.3369778079912411,0.04561729994059667,0.9208484590084774,0.2938097004845002,-0.1869532101382047,0.5148490484108789,0.3891982398841827,-0.8546909216262035,-0.4721202717061935,-0.49303749081189496,-0.15091029843473253,0.11507271325864966,0.4564196738880445,-0.3371516048830692,0.7358336498253928,0.8386066116987111,-0.5066747395462887,-0.19298057949990705,-0.47794938085641525,-0.42136741152886475,0.4945356079470179,-0.4077785299008847,-0.4556502588749037,0.8879555351059046,0.9562028807056582,0.2469175799160808,0.3516545972738169,-0.15484683561619444,-0.537032461561183,0.3713286192469364,0.5073274176144358,0.5005248808038474,0.16772708761476512,0.41013727357741897,-0.5404790982647464,0.09847010960715816,-0.5700530427635513,0.4057296774218584,-0.23906914648386246,-0.5340012847755122,-0.37399694572306896,-0.1831494491904037,-0.8284906681095642,-0.8150213227619916,0.4238416190226378,0.3103608332057292,-0.43875706408214055,0.13285994659486697,0.38038432437484315,-0.4812464863386604,-0.22185276219759856,-0.8370441508687454,-0.4123002631477065,0.5489472546043862,-0.13236562687400127,-0.6277198832414286,-0.1255243910957199,1.0343208597979363,-0.3169953373814057,-0.6724133791600099,0.9335915049560701,0.1142303956698699,0.22392312388536173,-0.31495582480219714,-0.32216063638377646,-0.44682513177609073,-0.016595434548489066,-0.0024323677869529277,-0.5353168348813216,-0.393673100318807,-0.34395542574370785,-0.22836187175753953,-0.16336686324990723,-0.6205084026491549,0.1698134596987492,-0.3764101429590095,-0.2558430210863408,-0.5319774946316853,0.13454294571776987,-0.17883931691678018,-0.0006803766510480279,0.387432025040704,-0.24112745654597165,-0.07867888459841876,-0.5051182109152528,0.948554946715737,-0.20173858974124215,-0.4333150056496792,-0.8979929678191502,0.9100612617962238,-0.31453873985486974,-0.399189110286267,0.3336465402135719,-0.189740675386472,-0.11173668198434532,-0.5572858555996948,1.0049596895819526,-0.7535324562516061,-0.40879131457143536,-0.7765919192915332,1.0082973287737724,-1.0042775560053796,0.1406403701903333,-0.9857905184903384,0.753889815604322,-0.9826103245232343,-0.13617861515675755,-0.48802200106409377,-0.7971596705842953,0.982822808420657,-0.4659530663896369,0.5135453530900633,0.303287990918085,0.435969819640515,-0.7544206762447595,0.044223611639134824,0.32283815387556536,0.044669364544395046,-0.6605551584371754,-0.37590785075477223,0.009036229236010718,0.6279246367848967,0.6917729306525244,0.4864583901101107,0.34814850268955627,0.09021029859607763,-1.0141662437006993,0.037154314602478075,0.6489968372531705,-0.5158343208275533,-0.3180774345948675,0.36907238967984796,-1.0597301296853736,-0.4006948421534451,-0.9448359078826739,0.43571245121230107,0.5900863993807323,-0.4839383404883894,-0.3394063060709909,0.14533855738539725,0.9528954129124886,0.45624991325430125,0.7510353648691125,-0.97291513140919,0.6502302106404528,-1.0318241760460833,0.9277849328207106,-0.26035524572694835,0.5638479122158236,-0.6578855310654276,-0.9183396186390724,-0.43170008643438335,-0.4210839726366567,-0.8723350052701159,0.05044473467780845,0.4436594847860195,0.08338310852157431,-0.07989892842322104,0.3419083554712603,0.27298156460397455,0.39881979818157887,0.2515457744361035,-0.07864729972715873,0.8323546382316347,0.20828681954627787,0.17565119379776561,0.050669769237327404,0.07512515526901709,0.47095146280319655,-0.44493665074325994,-0.024192064901053342,0.9199209372164474,0.983971817434788,0.36814180750085185,-0.1603805772029857,0.1405308626794858,0.48337909065536183,-0.3246754111505624,0.21673300025874886,-0.6837217993323917,0.9020433640695944,-0.04500924114896991,-0.4448304711768763,0.5136615319376986,0.4409491109813653,-0.4582530518862392,0.8182344087784564,-0.030051065535515696,0.980184882366289,-0.14317550852961172,-0.9085704755488834,0.38918440165161206,0.3617459757386534,0.39614320299320016,0.4906395703281925,-0.895043334611669,-0.8686662168466942,0.31858640133831034,0.4919975162330069,0.7996227833206411,0.4545650040550283,0.4946224842347684,0.35234281975408194,-0.3287101422560169,0.8957107111810513,0.7971591075714488,0.43218821648994776,0.5113092366473571,0.006478643177113597,0.41432638186378473,0.38624654747574244,0.6157471228979603,-0.7330304921769538,-0.5019754121692833,-0.3004720632564255,0.12675530132553228,0.22194363762167116,0.3189768457638985,-0.10343499549194653,0.4495415462434793,-0.7576105505601507,-0.5572540778835251,-0.39213130666101687,-0.46248301622596755,-0.0710864310826046,-0.8726679581152715,-0.9281665957369937,-0.9764299576671727,-0.1617344882604482,-0.7172251720527483,-0.8348757516081997,0.7696275256066611,0.07639612515065881,-0.8062778804867616,0.39039524900135514,0.43134692034623623,-0.4723804513421176,-0.3360869625615391,0.3741799800647147,-0.22387274687755931,0.3389182042648988,0.9681715346217827,-0.12565384909343746,-0.9870687366566283,-0.4432428177290413,0.22308827392304031,-0.9532195652167167,-0.08303853282620627,-0.2982176624427147,-0.23899898159587063,0.46192983516288244,0.9234660220178732,-0.5699160151236996,-0.0010727526663750972,0.6755967853187809,0.8056459951144149,0.9331725789504013,0.4783042808974422,-0.37973738155364817,-0.30380223923830946,-0.4029880496484016,0.9765911216069517,0.38674627969356523,-0.4845183531492342,0.23601620384447583,-0.5042912335294528,0.4782867860990216,0.6929491616689957,-0.8478329110874164,0.41799470841229197,-0.9942316194665594,0.19593400139720185,-0.7339625056089066,0.4281358327076626,0.06960331935581349,0.22566702044787113,-0.28694360599125646,-0.012662734524578834,-0.9154408773793595,-0.9030639206660395,-0.21114556057133232,-0.8480038983119249,-0.4930942878448841,0.4185738274269741,0.0087360819284351,0.4687259772996688,-0.1169295649509089,0.7175331519040454,-0.8865504752356599,0.3827562078939416,-0.09451318245584353,-0.2316537954087746,0.653248032428128,-0.5813326826734863,0.9647928010526692,-0.3063258927376726,-0.9338360054447489,0.4442158888504744,0.6310843750561912,0.27125244531066917,-0.11303089881701553,0.37249816704909355,-0.12775664064516085,-0.3718365952866403,0.8468132297452462,0.254858073894591,-0.21009312380574105,0.47270503279566295,0.2292992347139133,-0.17669811127821405,0.9104775799762007,-0.001975482974077023,-0.6615574376017399,-0.5139739558243968,0.5199491670462519,0.9326112112821671,-0.30178066563290634,0.8294785018641961,0.5436345083727624,0.19331245560352722,0.6704329280131496,0.24611640092890072,0.8008681457112646,0.023085809428520104,-0.5043139520570714,0.5054702225404824,-0.895457193385604,0.21140180535085037,-0.7800723591976612,0.5164542433903156,0.5199678258060962,0.9516937739629187,-0.9939177679689967,0.22007587661432917,-0.3904021337492254,0.6890339477639965,-0.7266346204815388,0.1673767105384118,0.5636321413841032,-0.42257605949723975,-0.3950995332509139,0.326924145360083,-0.02074918615969122,-0.31711003739091526,0.897030990431533,-0.5382575392048503,-0.40974954302933864,-0.16202970495337504,-0.4046903488420743,0.4156691171285877,0.13525871806057516,0.24619758993781893,-0.09584190685139422,-0.09416449525106488,0.9002129485444333,-0.4166936068032673,-0.15556667542124278,0.9333093703531111,-0.4614357096061179,0.385831435743074,-0.27440565587364574,0.23705611749308403,0.43256082974294036,0.4888724979650115,-1.0241460680757069,-0.8284259064655298,-0.2501079851303794,0.967629746788998,0.026934112572963256,0.17721431843051308,0.3573193051111224,0.022438735040490834,-0.3210664449873077,0.17674457373096963,-0.13522931008750858,-0.20331933771985153,0.5924733170795303,-0.7787772194062265,0.46045878560340936,-0.2826774014749241,-0.12454758989129647,-0.4921308073140194,0.41310707488382364,-0.3238320834653003,-0.41640769875176126,-0.1585702996213833,0.4276619159111768,-0.9993301397439559,0.386568720250862,-0.15090745467312847,-0.9600992363091387,-0.11475588653587504,0.7400575521166177,0.9409651438799886,-0.3942834295508821,0.23173553340521483,-0.1732328973788562,0.5403745404028004,-0.4141697392079387,0.988935134830284,0.1429396779252916,-1.0013381455328274,0.05599418617017309,0.2874254357820817,1.044567613108905,-0.9140166765048389,0.40341993303760787,0.656606126409984,0.4191857700330667,-0.4813764950910739,-0.9351961717907573,0.1548246461187651,0.4592899916089896,-0.7502795045777549,0.09048946082119226,0.5105294284740576,-0.5348997534929715,-0.7175643160294947,-0.32941958855342623,-0.8817680562701675,-0.30668081465965513,-0.14520522692531473,-0.16527700187512995,-0.9119386661075919,-0.15800200476314347,0.11252336089948317,0.16517767924579718,-0.05222627355789539,-0.41991372459660126,0.27382516394375,1.0523210780407135,-0.8015556157606722,0.7538941916433223,-0.7266267573156572,0.3911773635266199,-0.4081047168676094,0.1792285606921023,-0.982096217000715,1.0401772671500693,0.4864998146937929,-0.5177247484479112,-0.27607160916904144,-0.38926181766225304,0.40352779604841454,-0.36868306780063853,0.803366189049093,-1.0560576319743478,0.7266457322410818,0.5195646775357421,-1.0164441029213207,-0.17107878759211492,0.5205814027744654,0.3984150062574944,-0.4934803002711874,-0.8270222588066444,0.11948583027017023,-0.615854941053424,0.03664989493567258,0.7328438824876417,-0.37606853539245483,0.8921441775960128,0.988964284251712,0.25001232630745945,-0.3319732694012512,0.10963425257519967,0.8248035095566235,-1.0537194091321243,-0.4734528503721915,-0.2141469543724224,-1.0032629511185105,0.9316265727048888,-0.12012825312968134,0.3656897339409189,0.30042198733012876,0.2899909471313145,0.2677749854329082,-0.4840007566000425,-0.2210603230941412,1.0133317613048696,0.5863882757483818,0.10324039983078909,-0.20243086980064118,-0.453644193799595,0.5954530596424414,-0.4243318282491147,0.47367569950121147],\"yaxis\":\"y\",\"type\":\"scatter\"}],                        {\"template\":{\"data\":{\"histogram2dcontour\":[{\"type\":\"histogram2dcontour\",\"colorbar\":{\"outlinewidth\":0,\"ticks\":\"\"},\"colorscale\":[[0.0,\"#0d0887\"],[0.1111111111111111,\"#46039f\"],[0.2222222222222222,\"#7201a8\"],[0.3333333333333333,\"#9c179e\"],[0.4444444444444444,\"#bd3786\"],[0.5555555555555556,\"#d8576b\"],[0.6666666666666666,\"#ed7953\"],[0.7777777777777778,\"#fb9f3a\"],[0.8888888888888888,\"#fdca26\"],[1.0,\"#f0f921\"]]}],\"choropleth\":[{\"type\":\"choropleth\",\"colorbar\":{\"outlinewidth\":0,\"ticks\":\"\"}}],\"histogram2d\":[{\"type\":\"histogram2d\",\"colorbar\":{\"outlinewidth\":0,\"ticks\":\"\"},\"colorscale\":[[0.0,\"#0d0887\"],[0.1111111111111111,\"#46039f\"],[0.2222222222222222,\"#7201a8\"],[0.3333333333333333,\"#9c179e\"],[0.4444444444444444,\"#bd3786\"],[0.5555555555555556,\"#d8576b\"],[0.6666666666666666,\"#ed7953\"],[0.7777777777777778,\"#fb9f3a\"],[0.8888888888888888,\"#fdca26\"],[1.0,\"#f0f921\"]]}],\"heatmap\":[{\"type\":\"heatmap\",\"colorbar\":{\"outlinewidth\":0,\"ticks\":\"\"},\"colorscale\":[[0.0,\"#0d0887\"],[0.1111111111111111,\"#46039f\"],[0.2222222222222222,\"#7201a8\"],[0.3333333333333333,\"#9c179e\"],[0.4444444444444444,\"#bd3786\"],[0.5555555555555556,\"#d8576b\"],[0.6666666666666666,\"#ed7953\"],[0.7777777777777778,\"#fb9f3a\"],[0.8888888888888888,\"#fdca26\"],[1.0,\"#f0f921\"]]}],\"heatmapgl\":[{\"type\":\"heatmapgl\",\"colorbar\":{\"outlinewidth\":0,\"ticks\":\"\"},\"colorscale\":[[0.0,\"#0d0887\"],[0.1111111111111111,\"#46039f\"],[0.2222222222222222,\"#7201a8\"],[0.3333333333333333,\"#9c179e\"],[0.4444444444444444,\"#bd3786\"],[0.5555555555555556,\"#d8576b\"],[0.6666666666666666,\"#ed7953\"],[0.7777777777777778,\"#fb9f3a\"],[0.8888888888888888,\"#fdca26\"],[1.0,\"#f0f921\"]]}],\"contourcarpet\":[{\"type\":\"contourcarpet\",\"colorbar\":{\"outlinewidth\":0,\"ticks\":\"\"}}],\"contour\":[{\"type\":\"contour\",\"colorbar\":{\"outlinewidth\":0,\"ticks\":\"\"},\"colorscale\":[[0.0,\"#0d0887\"],[0.1111111111111111,\"#46039f\"],[0.2222222222222222,\"#7201a8\"],[0.3333333333333333,\"#9c179e\"],[0.4444444444444444,\"#bd3786\"],[0.5555555555555556,\"#d8576b\"],[0.6666666666666666,\"#ed7953\"],[0.7777777777777778,\"#fb9f3a\"],[0.8888888888888888,\"#fdca26\"],[1.0,\"#f0f921\"]]}],\"surface\":[{\"type\":\"surface\",\"colorbar\":{\"outlinewidth\":0,\"ticks\":\"\"},\"colorscale\":[[0.0,\"#0d0887\"],[0.1111111111111111,\"#46039f\"],[0.2222222222222222,\"#7201a8\"],[0.3333333333333333,\"#9c179e\"],[0.4444444444444444,\"#bd3786\"],[0.5555555555555556,\"#d8576b\"],[0.6666666666666666,\"#ed7953\"],[0.7777777777777778,\"#fb9f3a\"],[0.8888888888888888,\"#fdca26\"],[1.0,\"#f0f921\"]]}],\"mesh3d\":[{\"type\":\"mesh3d\",\"colorbar\":{\"outlinewidth\":0,\"ticks\":\"\"}}],\"scatter\":[{\"fillpattern\":{\"fillmode\":\"overlay\",\"size\":10,\"solidity\":0.2},\"type\":\"scatter\"}],\"parcoords\":[{\"type\":\"parcoords\",\"line\":{\"colorbar\":{\"outlinewidth\":0,\"ticks\":\"\"}}}],\"scatterpolargl\":[{\"type\":\"scatterpolargl\",\"marker\":{\"colorbar\":{\"outlinewidth\":0,\"ticks\":\"\"}}}],\"bar\":[{\"error_x\":{\"color\":\"#2a3f5f\"},\"error_y\":{\"color\":\"#2a3f5f\"},\"marker\":{\"line\":{\"color\":\"#E5ECF6\",\"width\":0.5},\"pattern\":{\"fillmode\":\"overlay\",\"size\":10,\"solidity\":0.2}},\"type\":\"bar\"}],\"scattergeo\":[{\"type\":\"scattergeo\",\"marker\":{\"colorbar\":{\"outlinewidth\":0,\"ticks\":\"\"}}}],\"scatterpolar\":[{\"type\":\"scatterpolar\",\"marker\":{\"colorbar\":{\"outlinewidth\":0,\"ticks\":\"\"}}}],\"histogram\":[{\"marker\":{\"pattern\":{\"fillmode\":\"overlay\",\"size\":10,\"solidity\":0.2}},\"type\":\"histogram\"}],\"scattergl\":[{\"type\":\"scattergl\",\"marker\":{\"colorbar\":{\"outlinewidth\":0,\"ticks\":\"\"}}}],\"scatter3d\":[{\"type\":\"scatter3d\",\"line\":{\"colorbar\":{\"outlinewidth\":0,\"ticks\":\"\"}},\"marker\":{\"colorbar\":{\"outlinewidth\":0,\"ticks\":\"\"}}}],\"scattermapbox\":[{\"type\":\"scattermapbox\",\"marker\":{\"colorbar\":{\"outlinewidth\":0,\"ticks\":\"\"}}}],\"scatterternary\":[{\"type\":\"scatterternary\",\"marker\":{\"colorbar\":{\"outlinewidth\":0,\"ticks\":\"\"}}}],\"scattercarpet\":[{\"type\":\"scattercarpet\",\"marker\":{\"colorbar\":{\"outlinewidth\":0,\"ticks\":\"\"}}}],\"carpet\":[{\"aaxis\":{\"endlinecolor\":\"#2a3f5f\",\"gridcolor\":\"white\",\"linecolor\":\"white\",\"minorgridcolor\":\"white\",\"startlinecolor\":\"#2a3f5f\"},\"baxis\":{\"endlinecolor\":\"#2a3f5f\",\"gridcolor\":\"white\",\"linecolor\":\"white\",\"minorgridcolor\":\"white\",\"startlinecolor\":\"#2a3f5f\"},\"type\":\"carpet\"}],\"table\":[{\"cells\":{\"fill\":{\"color\":\"#EBF0F8\"},\"line\":{\"color\":\"white\"}},\"header\":{\"fill\":{\"color\":\"#C8D4E3\"},\"line\":{\"color\":\"white\"}},\"type\":\"table\"}],\"barpolar\":[{\"marker\":{\"line\":{\"color\":\"#E5ECF6\",\"width\":0.5},\"pattern\":{\"fillmode\":\"overlay\",\"size\":10,\"solidity\":0.2}},\"type\":\"barpolar\"}],\"pie\":[{\"automargin\":true,\"type\":\"pie\"}]},\"layout\":{\"autotypenumbers\":\"strict\",\"colorway\":[\"#636efa\",\"#EF553B\",\"#00cc96\",\"#ab63fa\",\"#FFA15A\",\"#19d3f3\",\"#FF6692\",\"#B6E880\",\"#FF97FF\",\"#FECB52\"],\"font\":{\"color\":\"#2a3f5f\"},\"hovermode\":\"closest\",\"hoverlabel\":{\"align\":\"left\"},\"paper_bgcolor\":\"white\",\"plot_bgcolor\":\"#E5ECF6\",\"polar\":{\"bgcolor\":\"#E5ECF6\",\"angularaxis\":{\"gridcolor\":\"white\",\"linecolor\":\"white\",\"ticks\":\"\"},\"radialaxis\":{\"gridcolor\":\"white\",\"linecolor\":\"white\",\"ticks\":\"\"}},\"ternary\":{\"bgcolor\":\"#E5ECF6\",\"aaxis\":{\"gridcolor\":\"white\",\"linecolor\":\"white\",\"ticks\":\"\"},\"baxis\":{\"gridcolor\":\"white\",\"linecolor\":\"white\",\"ticks\":\"\"},\"caxis\":{\"gridcolor\":\"white\",\"linecolor\":\"white\",\"ticks\":\"\"}},\"coloraxis\":{\"colorbar\":{\"outlinewidth\":0,\"ticks\":\"\"}},\"colorscale\":{\"sequential\":[[0.0,\"#0d0887\"],[0.1111111111111111,\"#46039f\"],[0.2222222222222222,\"#7201a8\"],[0.3333333333333333,\"#9c179e\"],[0.4444444444444444,\"#bd3786\"],[0.5555555555555556,\"#d8576b\"],[0.6666666666666666,\"#ed7953\"],[0.7777777777777778,\"#fb9f3a\"],[0.8888888888888888,\"#fdca26\"],[1.0,\"#f0f921\"]],\"sequentialminus\":[[0.0,\"#0d0887\"],[0.1111111111111111,\"#46039f\"],[0.2222222222222222,\"#7201a8\"],[0.3333333333333333,\"#9c179e\"],[0.4444444444444444,\"#bd3786\"],[0.5555555555555556,\"#d8576b\"],[0.6666666666666666,\"#ed7953\"],[0.7777777777777778,\"#fb9f3a\"],[0.8888888888888888,\"#fdca26\"],[1.0,\"#f0f921\"]],\"diverging\":[[0,\"#8e0152\"],[0.1,\"#c51b7d\"],[0.2,\"#de77ae\"],[0.3,\"#f1b6da\"],[0.4,\"#fde0ef\"],[0.5,\"#f7f7f7\"],[0.6,\"#e6f5d0\"],[0.7,\"#b8e186\"],[0.8,\"#7fbc41\"],[0.9,\"#4d9221\"],[1,\"#276419\"]]},\"xaxis\":{\"gridcolor\":\"white\",\"linecolor\":\"white\",\"ticks\":\"\",\"title\":{\"standoff\":15},\"zerolinecolor\":\"white\",\"automargin\":true,\"zerolinewidth\":2},\"yaxis\":{\"gridcolor\":\"white\",\"linecolor\":\"white\",\"ticks\":\"\",\"title\":{\"standoff\":15},\"zerolinecolor\":\"white\",\"automargin\":true,\"zerolinewidth\":2},\"scene\":{\"xaxis\":{\"backgroundcolor\":\"#E5ECF6\",\"gridcolor\":\"white\",\"linecolor\":\"white\",\"showbackground\":true,\"ticks\":\"\",\"zerolinecolor\":\"white\",\"gridwidth\":2},\"yaxis\":{\"backgroundcolor\":\"#E5ECF6\",\"gridcolor\":\"white\",\"linecolor\":\"white\",\"showbackground\":true,\"ticks\":\"\",\"zerolinecolor\":\"white\",\"gridwidth\":2},\"zaxis\":{\"backgroundcolor\":\"#E5ECF6\",\"gridcolor\":\"white\",\"linecolor\":\"white\",\"showbackground\":true,\"ticks\":\"\",\"zerolinecolor\":\"white\",\"gridwidth\":2}},\"shapedefaults\":{\"line\":{\"color\":\"#2a3f5f\"}},\"annotationdefaults\":{\"arrowcolor\":\"#2a3f5f\",\"arrowhead\":0,\"arrowwidth\":1},\"geo\":{\"bgcolor\":\"white\",\"landcolor\":\"#E5ECF6\",\"subunitcolor\":\"white\",\"showland\":true,\"showlakes\":true,\"lakecolor\":\"white\"},\"title\":{\"x\":0.05},\"mapbox\":{\"style\":\"light\"}}},\"xaxis\":{\"anchor\":\"y\",\"domain\":[0.0,1.0],\"title\":{\"text\":\"x1\"}},\"yaxis\":{\"anchor\":\"x\",\"domain\":[0.0,1.0],\"title\":{\"text\":\"x2\"}},\"coloraxis\":{\"colorbar\":{\"title\":{\"text\":\"labels\"}},\"colorscale\":[[0.0,\"rgb(253, 224, 197)\"],[0.16666666666666666,\"rgb(250, 203, 166)\"],[0.3333333333333333,\"rgb(248, 181, 139)\"],[0.5,\"rgb(245, 158, 114)\"],[0.6666666666666666,\"rgb(242, 133, 93)\"],[0.8333333333333334,\"rgb(239, 106, 76)\"],[1.0,\"rgb(235, 74, 64)\"]]},\"legend\":{\"tracegroupgap\":0},\"margin\":{\"t\":60}},                        {\"responsive\": true}                    )                };                            </script>        </div>"
      ],
      "text/plain": [
       "Figure({\n",
       "    'data': [{'hovertemplate': 'x1=%{x}<br>x2=%{y}<br>labels=%{marker.color}<extra></extra>',\n",
       "              'legendgroup': '',\n",
       "              'marker': {'color': array([0, 0, 1, ..., 0, 1, 1]),\n",
       "                         'coloraxis': 'coloraxis',\n",
       "                         'opacity': 0.5,\n",
       "                         'symbol': 'circle'},\n",
       "              'mode': 'markers',\n",
       "              'name': '',\n",
       "              'orientation': 'v',\n",
       "              'showlegend': False,\n",
       "              'type': 'scatter',\n",
       "              'x': array([-0.71079146,  0.78699149, -0.55901743, ..., -0.78858728, -0.39174613,\n",
       "                           0.28942423]),\n",
       "              'xaxis': 'x',\n",
       "              'y': array([-0.72462306, -0.50461388, -0.02240178, ...,  0.59545306, -0.42433183,\n",
       "                           0.4736757 ]),\n",
       "              'yaxis': 'y'}],\n",
       "    'layout': {'coloraxis': {'colorbar': {'title': {'text': 'labels'}},\n",
       "                             'colorscale': [[0.0, 'rgb(253, 224, 197)'],\n",
       "                                            [0.16666666666666666, 'rgb(250, 203,\n",
       "                                            166)'], [0.3333333333333333, 'rgb(248,\n",
       "                                            181, 139)'], [0.5, 'rgb(245, 158,\n",
       "                                            114)'], [0.6666666666666666, 'rgb(242,\n",
       "                                            133, 93)'], [0.8333333333333334,\n",
       "                                            'rgb(239, 106, 76)'], [1.0, 'rgb(235,\n",
       "                                            74, 64)']]},\n",
       "               'legend': {'tracegroupgap': 0},\n",
       "               'margin': {'t': 60},\n",
       "               'template': '...',\n",
       "               'xaxis': {'anchor': 'y', 'domain': [0.0, 1.0], 'title': {'text': 'x1'}},\n",
       "               'yaxis': {'anchor': 'x', 'domain': [0.0, 1.0], 'title': {'text': 'x2'}}}\n",
       "})"
      ]
     },
     "execution_count": 112,
     "metadata": {},
     "output_type": "execute_result"
    }
   ],
   "source": [
    "px.scatter(         df2,\n",
    "                    x='x1',\n",
    "                    y='x2',\n",
    "                    color='labels',\n",
    "                    size_max=60,\n",
    "                    color_continuous_scale = px.colors.sequential.Peach,\n",
    "                    opacity = 0.5,\n",
    "                    )"
   ]
  },
  {
   "attachments": {},
   "cell_type": "markdown",
   "metadata": {},
   "source": [
    "## 6. Broken models with weightwatcher"
   ]
  },
  {
   "cell_type": "code",
   "execution_count": 298,
   "metadata": {},
   "outputs": [
    {
     "name": "stderr",
     "output_type": "stream",
     "text": [
      "2023-04-06 15:05:59.754 | INFO     | train_utils:create_loaders:44 - Creating dataloaders with 80/20train/test split 🔪\n",
      "2023-04-06 15:05:59.773 | INFO     | train_utils:create_loaders:70 - Successfully created train and validation loader 🤗\n",
      "GPU available: False, used: False\n",
      "TPU available: False, using: 0 TPU cores\n",
      "IPU available: False, using: 0 IPUs\n",
      "HPU available: False, using: 0 HPUs\n",
      "\n",
      "  | Name    | Type          | Params\n",
      "------------------------------------------\n",
      "0 | encoder | CustomEncoder | 492   \n",
      "1 | f1      | BinaryF1Score | 0     \n",
      "------------------------------------------\n",
      "492       Trainable params\n",
      "0         Non-trainable params\n",
      "492       Total params\n",
      "0.002     Total estimated model params size (MB)\n"
     ]
    },
    {
     "name": "stdout",
     "output_type": "stream",
     "text": [
      "Epoch 49: 100%|██████████| 7/7 [00:00<00:00, 70.24it/s, v_num=0]            "
     ]
    },
    {
     "name": "stderr",
     "output_type": "stream",
     "text": [
      "`Trainer.fit` stopped: `max_epochs=50` reached.\n"
     ]
    },
    {
     "name": "stdout",
     "output_type": "stream",
     "text": [
      "Epoch 49: 100%|██████████| 7/7 [00:00<00:00, 59.35it/s, v_num=0]\n"
     ]
    }
   ],
   "source": [
    "class CustomEncoder(nn.Module):\n",
    "    \"\"\"\n",
    "    Simple encoder\n",
    "    \"\"\"\n",
    "\n",
    "    def __init__(self, input_dim: int, output_dim: int) -> None:\n",
    "        \"\"\"Setup model layers\"\"\"\n",
    "        super().__init__()\n",
    "        self.dense1 =  nn.Linear(input_dim, 10)\n",
    "        self.dense2 = nn.Linear(10, 9)\n",
    "        self.dense3 = nn.Linear(10, 8)\n",
    "        self.dense4 = nn.Linear(10, 7)\n",
    "        self.dense5 = nn.Linear(10, 6)\n",
    "        self.dense6 = nn.Linear(10, output_dim)\n",
    "        self.relu = nn.ReLU()\n",
    "\n",
    "        \n",
    "        self.output_dim = output_dim\n",
    "        self.input_dim = input_dim\n",
    "\n",
    "    def forward(self, x: torch.Tensor) -> nn.Sequential:\n",
    "        \"\"\"Forward pass through layers\"\"\"\n",
    "        x = self.dense1(x)\n",
    "        x = self.relu(x)\n",
    "        x = self.dense2(x)\n",
    "        x = self.relu(x)\n",
    "        x = self.dense3(x)\n",
    "        x = self.relu(x)\n",
    "        x = self.dense4(x)\n",
    "        x = self.relu(x)\n",
    "        x = self.dense5(x)\n",
    "        x = self.relu(x)\n",
    "        x = self.dense6(x)\n",
    "        return x\n",
    "\n",
    "simple_dnn = SimpleDnn(CustomEncoder(input_dim = 2, output_dim = 2), task_type = 'classification')\n",
    "train_loader_circles_broken, val_loader_circles = create_loaders(data = data_tensor_circles, ratio = 0.8,  batch_size = 32, num_workers = 0,\n",
    "                                                        shuffle_train = True, shuffle_val = False, subset_broken_train = True)\n",
    "\n",
    "csv_logger = CSVLogger(save_dir='metrics_csv', name = 'circles_dataloader_broken')\n",
    "# train model on nonlinear data\n",
    "trainer = pl.Trainer(logger=csv_logger, max_epochs = 50)\n",
    "trainer.fit(model=simple_dnn, train_dataloaders = train_loader_circles_broken, val_dataloaders = val_loader_circles)\n",
    "format_csv('metrics_csv/circles_dataloader_broken/version_0/metrics.csv', ['train_loss', 'val_loss'], Path('reformatted_metrics/circle_dataloader_broken.csv'))"
   ]
  },
  {
   "cell_type": "code",
   "execution_count": 310,
   "metadata": {},
   "outputs": [
    {
     "name": "stderr",
     "output_type": "stream",
     "text": [
      "2023-04-06 15:08:12.919 | INFO     | train_utils:create_loaders:44 - Creating dataloaders with 80/20train/test split 🔪\n",
      "2023-04-06 15:08:12.926 | INFO     | train_utils:create_loaders:70 - Successfully created train and validation loader 🤗\n",
      "GPU available: False, used: False\n",
      "TPU available: False, using: 0 TPU cores\n",
      "IPU available: False, using: 0 IPUs\n",
      "HPU available: False, using: 0 HPUs\n",
      "\n",
      "  | Name    | Type          | Params\n",
      "------------------------------------------\n",
      "0 | encoder | CustomEncoder | 492   \n",
      "1 | f1      | BinaryF1Score | 0     \n",
      "------------------------------------------\n",
      "492       Trainable params\n",
      "0         Non-trainable params\n",
      "492       Total params\n",
      "0.002     Total estimated model params size (MB)\n"
     ]
    },
    {
     "name": "stdout",
     "output_type": "stream",
     "text": [
      "Epoch 49: 100%|██████████| 13/13 [00:00<00:00, 101.04it/s, v_num=0]         "
     ]
    },
    {
     "name": "stderr",
     "output_type": "stream",
     "text": [
      "`Trainer.fit` stopped: `max_epochs=50` reached.\n"
     ]
    },
    {
     "name": "stdout",
     "output_type": "stream",
     "text": [
      "Epoch 49: 100%|██████████| 13/13 [00:00<00:00, 95.04it/s, v_num=0] \n"
     ]
    }
   ],
   "source": [
    "simple_dnn_everything_ok = SimpleDnn(CustomEncoder(input_dim = 2, output_dim = 2), task_type = 'classification')\n",
    "train_loader_circles, val_loader_circles = create_loaders(data = data_tensor_circles, ratio = 0.8,  batch_size = 32, num_workers = 0,\n",
    "                                                        shuffle_train = True, shuffle_val = False, subset_broken_train = False)\n",
    "\n",
    "csv_logger = CSVLogger(save_dir='metrics_csv', name = 'circles_dataloader_broken')\n",
    "# train model on nonlinear data\n",
    "trainer = pl.Trainer(logger=csv_logger, max_epochs = 50)\n",
    "trainer.fit(model=simple_dnn, train_dataloaders = train_loader_circles, val_dataloaders = val_loader_circles)\n",
    "format_csv('metrics_csv/circles_dataloader_broken/version_0/metrics.csv', ['train_loss', 'val_loss'], Path('reformatted_metrics/circle_dataloader_broken.csv'))"
   ]
  },
  {
   "cell_type": "code",
   "execution_count": null,
   "metadata": {},
   "outputs": [],
   "source": []
  }
 ],
 "metadata": {
  "kernelspec": {
   "display_name": ".venv",
   "language": "python",
   "name": "python3"
  },
  "language_info": {
   "codemirror_mode": {
    "name": "ipython",
    "version": 3
   },
   "file_extension": ".py",
   "mimetype": "text/x-python",
   "name": "python",
   "nbconvert_exporter": "python",
   "pygments_lexer": "ipython3",
   "version": "3.9.5"
  },
  "orig_nbformat": 4
 },
 "nbformat": 4,
 "nbformat_minor": 2
}
